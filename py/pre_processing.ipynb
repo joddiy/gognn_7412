{
 "cells": [
  {
   "cell_type": "code",
   "id": "cdcfbde79d35818e",
   "metadata": {
    "ExecuteTime": {
     "end_time": "2024-04-20T18:23:31.754566Z",
     "start_time": "2024-04-20T18:23:31.309097Z"
    }
   },
   "source": [
    "import pandas as pd\n",
    "import numpy as np\n",
    "import obonet\n",
    "import networkx as nx"
   ],
   "outputs": [],
   "execution_count": 1
  },
  {
   "cell_type": "markdown",
   "id": "c0dc7edd201e6ea3",
   "metadata": {},
   "source": [
    "# Load the data generated from the R code"
   ]
  },
  {
   "cell_type": "code",
   "id": "6e21320f8ba31a12",
   "metadata": {
    "ExecuteTime": {
     "end_time": "2024-04-20T18:23:31.803148Z",
     "start_time": "2024-04-20T18:23:31.755528Z"
    }
   },
   "source": [
    "bp_db = pd.read_csv(\"../data/annotations-gene-GO.csv\")\n",
    "bp_db = bp_db.drop_duplicates()\n",
    "bp_db.head()"
   ],
   "outputs": [
    {
     "data": {
      "text/plain": [
       "           ENSEMBL          GO\n",
       "0  ENSG00000000003  GO:0039532\n",
       "1  ENSG00000000003  GO:0043123\n",
       "2  ENSG00000000003  GO:1901223\n",
       "3  ENSG00000000005  GO:0001886\n",
       "4  ENSG00000000005  GO:0001937"
      ],
      "text/html": [
       "<div>\n",
       "<style scoped>\n",
       "    .dataframe tbody tr th:only-of-type {\n",
       "        vertical-align: middle;\n",
       "    }\n",
       "\n",
       "    .dataframe tbody tr th {\n",
       "        vertical-align: top;\n",
       "    }\n",
       "\n",
       "    .dataframe thead th {\n",
       "        text-align: right;\n",
       "    }\n",
       "</style>\n",
       "<table border=\"1\" class=\"dataframe\">\n",
       "  <thead>\n",
       "    <tr style=\"text-align: right;\">\n",
       "      <th></th>\n",
       "      <th>ENSEMBL</th>\n",
       "      <th>GO</th>\n",
       "    </tr>\n",
       "  </thead>\n",
       "  <tbody>\n",
       "    <tr>\n",
       "      <th>0</th>\n",
       "      <td>ENSG00000000003</td>\n",
       "      <td>GO:0039532</td>\n",
       "    </tr>\n",
       "    <tr>\n",
       "      <th>1</th>\n",
       "      <td>ENSG00000000003</td>\n",
       "      <td>GO:0043123</td>\n",
       "    </tr>\n",
       "    <tr>\n",
       "      <th>2</th>\n",
       "      <td>ENSG00000000003</td>\n",
       "      <td>GO:1901223</td>\n",
       "    </tr>\n",
       "    <tr>\n",
       "      <th>3</th>\n",
       "      <td>ENSG00000000005</td>\n",
       "      <td>GO:0001886</td>\n",
       "    </tr>\n",
       "    <tr>\n",
       "      <th>4</th>\n",
       "      <td>ENSG00000000005</td>\n",
       "      <td>GO:0001937</td>\n",
       "    </tr>\n",
       "  </tbody>\n",
       "</table>\n",
       "</div>"
      ]
     },
     "execution_count": 2,
     "metadata": {},
     "output_type": "execute_result"
    }
   ],
   "execution_count": 2
  },
  {
   "metadata": {
    "ExecuteTime": {
     "end_time": "2024-04-20T18:23:31.820333Z",
     "start_time": "2024-04-20T18:23:31.803597Z"
    }
   },
   "cell_type": "code",
   "source": "bp_db.describe()",
   "id": "4816eb5c0c66d9cc",
   "outputs": [
    {
     "data": {
      "text/plain": [
       "                ENSEMBL          GO\n",
       "count            132627      132627\n",
       "unique            17599       12305\n",
       "top     ENSG00000148400  GO:0006357\n",
       "freq                158        1426"
      ],
      "text/html": [
       "<div>\n",
       "<style scoped>\n",
       "    .dataframe tbody tr th:only-of-type {\n",
       "        vertical-align: middle;\n",
       "    }\n",
       "\n",
       "    .dataframe tbody tr th {\n",
       "        vertical-align: top;\n",
       "    }\n",
       "\n",
       "    .dataframe thead th {\n",
       "        text-align: right;\n",
       "    }\n",
       "</style>\n",
       "<table border=\"1\" class=\"dataframe\">\n",
       "  <thead>\n",
       "    <tr style=\"text-align: right;\">\n",
       "      <th></th>\n",
       "      <th>ENSEMBL</th>\n",
       "      <th>GO</th>\n",
       "    </tr>\n",
       "  </thead>\n",
       "  <tbody>\n",
       "    <tr>\n",
       "      <th>count</th>\n",
       "      <td>132627</td>\n",
       "      <td>132627</td>\n",
       "    </tr>\n",
       "    <tr>\n",
       "      <th>unique</th>\n",
       "      <td>17599</td>\n",
       "      <td>12305</td>\n",
       "    </tr>\n",
       "    <tr>\n",
       "      <th>top</th>\n",
       "      <td>ENSG00000148400</td>\n",
       "      <td>GO:0006357</td>\n",
       "    </tr>\n",
       "    <tr>\n",
       "      <th>freq</th>\n",
       "      <td>158</td>\n",
       "      <td>1426</td>\n",
       "    </tr>\n",
       "  </tbody>\n",
       "</table>\n",
       "</div>"
      ]
     },
     "execution_count": 3,
     "metadata": {},
     "output_type": "execute_result"
    }
   ],
   "execution_count": 3
  },
  {
   "cell_type": "code",
   "id": "89e52c314dbc130f",
   "metadata": {
    "ExecuteTime": {
     "end_time": "2024-04-20T18:23:35.335928Z",
     "start_time": "2024-04-20T18:23:31.820905Z"
    }
   },
   "source": [
    "counts1 = pd.read_csv(\"../data/counts1.csv\", index_col=0)\n",
    "counts1.head()"
   ],
   "outputs": [
    {
     "data": {
      "text/plain": [
       "         ENSG00000000003  ENSG00000000005  ENSG00000000419  ENSG00000000457  \\\n",
       "089357B               14                7              103              241   \n",
       "089366A               11                2              194              511   \n",
       "089412B                8                0              312              450   \n",
       "089425B                9                0              135              496   \n",
       "089687A                4                0               89              267   \n",
       "\n",
       "         ENSG00000000460  ENSG00000000938  ENSG00000000971  ENSG00000001036  \\\n",
       "089357B               72             2057               30               60   \n",
       "089366A              110             3325               36              111   \n",
       "089412B              106             3751               45              160   \n",
       "089425B              133             2758               26               93   \n",
       "089687A               49             2181               24               75   \n",
       "\n",
       "         ENSG00000001084  ENSG00000001167  ...  ENSGR0000167393  \\\n",
       "089357B              207              367  ...                1   \n",
       "089366A              186              530  ...                0   \n",
       "089412B              325              653  ...                0   \n",
       "089425B              182              620  ...                0   \n",
       "089687A              122              263  ...                0   \n",
       "\n",
       "         ENSGR0000169084  ENSGR0000169093  ENSGR0000178605  ENSGR0000182378  \\\n",
       "089357B                0                0                0                0   \n",
       "089366A                0                0                0                0   \n",
       "089412B                0                0                0                0   \n",
       "089425B                0                0                0                0   \n",
       "089687A                0                0                0                0   \n",
       "\n",
       "         ENSGR0000185291  ENSGR0000198223  ENSGR0000214717  ENSGR0000223511  \\\n",
       "089357B                0                0                0                0   \n",
       "089366A                0                1                0                0   \n",
       "089412B                0                1                0                0   \n",
       "089425B                0                0                0                0   \n",
       "089687A                0                1                0                0   \n",
       "\n",
       "         ENSGR0000223773  \n",
       "089357B                0  \n",
       "089366A                1  \n",
       "089412B                0  \n",
       "089425B                0  \n",
       "089687A                0  \n",
       "\n",
       "[5 rows x 52645 columns]"
      ],
      "text/html": [
       "<div>\n",
       "<style scoped>\n",
       "    .dataframe tbody tr th:only-of-type {\n",
       "        vertical-align: middle;\n",
       "    }\n",
       "\n",
       "    .dataframe tbody tr th {\n",
       "        vertical-align: top;\n",
       "    }\n",
       "\n",
       "    .dataframe thead th {\n",
       "        text-align: right;\n",
       "    }\n",
       "</style>\n",
       "<table border=\"1\" class=\"dataframe\">\n",
       "  <thead>\n",
       "    <tr style=\"text-align: right;\">\n",
       "      <th></th>\n",
       "      <th>ENSG00000000003</th>\n",
       "      <th>ENSG00000000005</th>\n",
       "      <th>ENSG00000000419</th>\n",
       "      <th>ENSG00000000457</th>\n",
       "      <th>ENSG00000000460</th>\n",
       "      <th>ENSG00000000938</th>\n",
       "      <th>ENSG00000000971</th>\n",
       "      <th>ENSG00000001036</th>\n",
       "      <th>ENSG00000001084</th>\n",
       "      <th>ENSG00000001167</th>\n",
       "      <th>...</th>\n",
       "      <th>ENSGR0000167393</th>\n",
       "      <th>ENSGR0000169084</th>\n",
       "      <th>ENSGR0000169093</th>\n",
       "      <th>ENSGR0000178605</th>\n",
       "      <th>ENSGR0000182378</th>\n",
       "      <th>ENSGR0000185291</th>\n",
       "      <th>ENSGR0000198223</th>\n",
       "      <th>ENSGR0000214717</th>\n",
       "      <th>ENSGR0000223511</th>\n",
       "      <th>ENSGR0000223773</th>\n",
       "    </tr>\n",
       "  </thead>\n",
       "  <tbody>\n",
       "    <tr>\n",
       "      <th>089357B</th>\n",
       "      <td>14</td>\n",
       "      <td>7</td>\n",
       "      <td>103</td>\n",
       "      <td>241</td>\n",
       "      <td>72</td>\n",
       "      <td>2057</td>\n",
       "      <td>30</td>\n",
       "      <td>60</td>\n",
       "      <td>207</td>\n",
       "      <td>367</td>\n",
       "      <td>...</td>\n",
       "      <td>1</td>\n",
       "      <td>0</td>\n",
       "      <td>0</td>\n",
       "      <td>0</td>\n",
       "      <td>0</td>\n",
       "      <td>0</td>\n",
       "      <td>0</td>\n",
       "      <td>0</td>\n",
       "      <td>0</td>\n",
       "      <td>0</td>\n",
       "    </tr>\n",
       "    <tr>\n",
       "      <th>089366A</th>\n",
       "      <td>11</td>\n",
       "      <td>2</td>\n",
       "      <td>194</td>\n",
       "      <td>511</td>\n",
       "      <td>110</td>\n",
       "      <td>3325</td>\n",
       "      <td>36</td>\n",
       "      <td>111</td>\n",
       "      <td>186</td>\n",
       "      <td>530</td>\n",
       "      <td>...</td>\n",
       "      <td>0</td>\n",
       "      <td>0</td>\n",
       "      <td>0</td>\n",
       "      <td>0</td>\n",
       "      <td>0</td>\n",
       "      <td>0</td>\n",
       "      <td>1</td>\n",
       "      <td>0</td>\n",
       "      <td>0</td>\n",
       "      <td>1</td>\n",
       "    </tr>\n",
       "    <tr>\n",
       "      <th>089412B</th>\n",
       "      <td>8</td>\n",
       "      <td>0</td>\n",
       "      <td>312</td>\n",
       "      <td>450</td>\n",
       "      <td>106</td>\n",
       "      <td>3751</td>\n",
       "      <td>45</td>\n",
       "      <td>160</td>\n",
       "      <td>325</td>\n",
       "      <td>653</td>\n",
       "      <td>...</td>\n",
       "      <td>0</td>\n",
       "      <td>0</td>\n",
       "      <td>0</td>\n",
       "      <td>0</td>\n",
       "      <td>0</td>\n",
       "      <td>0</td>\n",
       "      <td>1</td>\n",
       "      <td>0</td>\n",
       "      <td>0</td>\n",
       "      <td>0</td>\n",
       "    </tr>\n",
       "    <tr>\n",
       "      <th>089425B</th>\n",
       "      <td>9</td>\n",
       "      <td>0</td>\n",
       "      <td>135</td>\n",
       "      <td>496</td>\n",
       "      <td>133</td>\n",
       "      <td>2758</td>\n",
       "      <td>26</td>\n",
       "      <td>93</td>\n",
       "      <td>182</td>\n",
       "      <td>620</td>\n",
       "      <td>...</td>\n",
       "      <td>0</td>\n",
       "      <td>0</td>\n",
       "      <td>0</td>\n",
       "      <td>0</td>\n",
       "      <td>0</td>\n",
       "      <td>0</td>\n",
       "      <td>0</td>\n",
       "      <td>0</td>\n",
       "      <td>0</td>\n",
       "      <td>0</td>\n",
       "    </tr>\n",
       "    <tr>\n",
       "      <th>089687A</th>\n",
       "      <td>4</td>\n",
       "      <td>0</td>\n",
       "      <td>89</td>\n",
       "      <td>267</td>\n",
       "      <td>49</td>\n",
       "      <td>2181</td>\n",
       "      <td>24</td>\n",
       "      <td>75</td>\n",
       "      <td>122</td>\n",
       "      <td>263</td>\n",
       "      <td>...</td>\n",
       "      <td>0</td>\n",
       "      <td>0</td>\n",
       "      <td>0</td>\n",
       "      <td>0</td>\n",
       "      <td>0</td>\n",
       "      <td>0</td>\n",
       "      <td>1</td>\n",
       "      <td>0</td>\n",
       "      <td>0</td>\n",
       "      <td>0</td>\n",
       "    </tr>\n",
       "  </tbody>\n",
       "</table>\n",
       "<p>5 rows × 52645 columns</p>\n",
       "</div>"
      ]
     },
     "execution_count": 4,
     "metadata": {},
     "output_type": "execute_result"
    }
   ],
   "execution_count": 4
  },
  {
   "cell_type": "code",
   "id": "2f66d52f7e455138",
   "metadata": {
    "ExecuteTime": {
     "end_time": "2024-04-20T18:23:35.341777Z",
     "start_time": "2024-04-20T18:23:35.337363Z"
    }
   },
   "source": [
    "pheno1 = pd.read_csv(\"../data/pheno1.csv\", index_col=0)\n",
    "pheno1.head()"
   ],
   "outputs": [
    {
     "data": {
      "text/plain": [
       "         age diagnosis sex  lithium condition\n",
       "089357B   18   Control   F        0   Control\n",
       "089366A   19   Control   F        0   Control\n",
       "089412B   23   Control   F        0   Control\n",
       "089425B   47   Control   F        0   Control\n",
       "089687A   52   Control   F        0   Control"
      ],
      "text/html": [
       "<div>\n",
       "<style scoped>\n",
       "    .dataframe tbody tr th:only-of-type {\n",
       "        vertical-align: middle;\n",
       "    }\n",
       "\n",
       "    .dataframe tbody tr th {\n",
       "        vertical-align: top;\n",
       "    }\n",
       "\n",
       "    .dataframe thead th {\n",
       "        text-align: right;\n",
       "    }\n",
       "</style>\n",
       "<table border=\"1\" class=\"dataframe\">\n",
       "  <thead>\n",
       "    <tr style=\"text-align: right;\">\n",
       "      <th></th>\n",
       "      <th>age</th>\n",
       "      <th>diagnosis</th>\n",
       "      <th>sex</th>\n",
       "      <th>lithium</th>\n",
       "      <th>condition</th>\n",
       "    </tr>\n",
       "  </thead>\n",
       "  <tbody>\n",
       "    <tr>\n",
       "      <th>089357B</th>\n",
       "      <td>18</td>\n",
       "      <td>Control</td>\n",
       "      <td>F</td>\n",
       "      <td>0</td>\n",
       "      <td>Control</td>\n",
       "    </tr>\n",
       "    <tr>\n",
       "      <th>089366A</th>\n",
       "      <td>19</td>\n",
       "      <td>Control</td>\n",
       "      <td>F</td>\n",
       "      <td>0</td>\n",
       "      <td>Control</td>\n",
       "    </tr>\n",
       "    <tr>\n",
       "      <th>089412B</th>\n",
       "      <td>23</td>\n",
       "      <td>Control</td>\n",
       "      <td>F</td>\n",
       "      <td>0</td>\n",
       "      <td>Control</td>\n",
       "    </tr>\n",
       "    <tr>\n",
       "      <th>089425B</th>\n",
       "      <td>47</td>\n",
       "      <td>Control</td>\n",
       "      <td>F</td>\n",
       "      <td>0</td>\n",
       "      <td>Control</td>\n",
       "    </tr>\n",
       "    <tr>\n",
       "      <th>089687A</th>\n",
       "      <td>52</td>\n",
       "      <td>Control</td>\n",
       "      <td>F</td>\n",
       "      <td>0</td>\n",
       "      <td>Control</td>\n",
       "    </tr>\n",
       "  </tbody>\n",
       "</table>\n",
       "</div>"
      ]
     },
     "execution_count": 5,
     "metadata": {},
     "output_type": "execute_result"
    }
   ],
   "execution_count": 5
  },
  {
   "cell_type": "markdown",
   "id": "9f1f9eccef0f836",
   "metadata": {},
   "source": [
    "# Data Exploration Analysis"
   ]
  },
  {
   "cell_type": "code",
   "id": "9eb7b0b407e3e4c0",
   "metadata": {
    "ExecuteTime": {
     "end_time": "2024-04-20T18:23:35.348430Z",
     "start_time": "2024-04-20T18:23:35.342303Z"
    }
   },
   "source": [
    "available_genes = set(bp_db.ENSEMBL)\n",
    "(\"length of all_genes :\", len(available_genes))"
   ],
   "outputs": [
    {
     "data": {
      "text/plain": [
       "('length of all_genes :', 17600)"
      ]
     },
     "execution_count": 6,
     "metadata": {},
     "output_type": "execute_result"
    }
   ],
   "execution_count": 6
  },
  {
   "cell_type": "code",
   "id": "26a89637c0cec476",
   "metadata": {
    "ExecuteTime": {
     "end_time": "2024-04-20T18:23:35.352792Z",
     "start_time": "2024-04-20T18:23:35.348927Z"
    }
   },
   "source": [
    "data_genes = set(counts1.columns)\n",
    "(\"length of data_genes :\", len(data_genes))"
   ],
   "outputs": [
    {
     "data": {
      "text/plain": [
       "('length of data_genes :', 52645)"
      ]
     },
     "execution_count": 7,
     "metadata": {},
     "output_type": "execute_result"
    }
   ],
   "execution_count": 7
  },
  {
   "cell_type": "code",
   "id": "170bd4f7cf1820a0",
   "metadata": {
    "ExecuteTime": {
     "end_time": "2024-04-20T18:23:35.357589Z",
     "start_time": "2024-04-20T18:23:35.353309Z"
    }
   },
   "source": [
    "(\"Number of genes missing :\", len(data_genes - available_genes))"
   ],
   "outputs": [
    {
     "data": {
      "text/plain": [
       "('Number of genes missing :', 35046)"
      ]
     },
     "execution_count": 8,
     "metadata": {},
     "output_type": "execute_result"
    }
   ],
   "execution_count": 8
  },
  {
   "cell_type": "code",
   "id": "24ad05188a12a669",
   "metadata": {
    "ExecuteTime": {
     "end_time": "2024-04-20T18:23:35.361823Z",
     "start_time": "2024-04-20T18:23:35.358110Z"
    }
   },
   "source": [
    "(\"Ratio of genes missing : {:.2f}%\".format(len(data_genes - available_genes) / len(data_genes) * 100))"
   ],
   "outputs": [
    {
     "data": {
      "text/plain": [
       "'Ratio of genes missing : 66.57%'"
      ]
     },
     "execution_count": 9,
     "metadata": {},
     "output_type": "execute_result"
    }
   ],
   "execution_count": 9
  },
  {
   "metadata": {},
   "cell_type": "markdown",
   "source": "# Clean the GO annotations and the GO graph",
   "id": "3e447ff4f6762977"
  },
  {
   "metadata": {},
   "cell_type": "markdown",
   "source": "## only keep GO annotations that are associated with the genes in the data",
   "id": "7c55907bed728e94"
  },
  {
   "metadata": {
    "ExecuteTime": {
     "end_time": "2024-04-20T18:23:35.385895Z",
     "start_time": "2024-04-20T18:23:35.362403Z"
    }
   },
   "cell_type": "code",
   "source": [
    "bp_db = bp_db[bp_db.ENSEMBL.isin(counts1.columns)]\n",
    "bp_db.describe()"
   ],
   "id": "ef9ce71384cb6d5a",
   "outputs": [
    {
     "data": {
      "text/plain": [
       "                ENSEMBL          GO\n",
       "count            132627      132627\n",
       "unique            17599       12305\n",
       "top     ENSG00000148400  GO:0006357\n",
       "freq                158        1426"
      ],
      "text/html": [
       "<div>\n",
       "<style scoped>\n",
       "    .dataframe tbody tr th:only-of-type {\n",
       "        vertical-align: middle;\n",
       "    }\n",
       "\n",
       "    .dataframe tbody tr th {\n",
       "        vertical-align: top;\n",
       "    }\n",
       "\n",
       "    .dataframe thead th {\n",
       "        text-align: right;\n",
       "    }\n",
       "</style>\n",
       "<table border=\"1\" class=\"dataframe\">\n",
       "  <thead>\n",
       "    <tr style=\"text-align: right;\">\n",
       "      <th></th>\n",
       "      <th>ENSEMBL</th>\n",
       "      <th>GO</th>\n",
       "    </tr>\n",
       "  </thead>\n",
       "  <tbody>\n",
       "    <tr>\n",
       "      <th>count</th>\n",
       "      <td>132627</td>\n",
       "      <td>132627</td>\n",
       "    </tr>\n",
       "    <tr>\n",
       "      <th>unique</th>\n",
       "      <td>17599</td>\n",
       "      <td>12305</td>\n",
       "    </tr>\n",
       "    <tr>\n",
       "      <th>top</th>\n",
       "      <td>ENSG00000148400</td>\n",
       "      <td>GO:0006357</td>\n",
       "    </tr>\n",
       "    <tr>\n",
       "      <th>freq</th>\n",
       "      <td>158</td>\n",
       "      <td>1426</td>\n",
       "    </tr>\n",
       "  </tbody>\n",
       "</table>\n",
       "</div>"
      ]
     },
     "execution_count": 10,
     "metadata": {},
     "output_type": "execute_result"
    }
   ],
   "execution_count": 10
  },
  {
   "metadata": {
    "ExecuteTime": {
     "end_time": "2024-04-20T18:23:35.396602Z",
     "start_time": "2024-04-20T18:23:35.386531Z"
    }
   },
   "cell_type": "code",
   "source": [
    "bp_db_go = set(bp_db.GO)\n",
    "bp_db_genes = set(bp_db.ENSEMBL)"
   ],
   "id": "f72093e7e2e0bcfa",
   "outputs": [],
   "execution_count": 11
  },
  {
   "cell_type": "markdown",
   "id": "3a82ebd78225a2ad",
   "metadata": {},
   "source": "## load GO graph"
  },
  {
   "cell_type": "code",
   "id": "b9be098898934092",
   "metadata": {
    "ExecuteTime": {
     "end_time": "2024-04-20T18:23:43.477482Z",
     "start_time": "2024-04-20T18:23:35.397225Z"
    }
   },
   "source": [
    "# Read the gene ontology\n",
    "!wget http://purl.obolibrary.org/obo/go/go-basic.obo \n",
    "original_graph = obonet.read_obo('go-basic.obo')\n",
    "!rm go-basic.obo"
   ],
   "outputs": [
    {
     "name": "stdout",
     "output_type": "stream",
     "text": [
      "--2024-04-21 02:23:35--  http://purl.obolibrary.org/obo/go/go-basic.obo\r\n",
      "Resolving purl.obolibrary.org (purl.obolibrary.org)... 2606:4700:4400::ac40:96c5, 2606:4700:4400::6812:253b, 172.64.150.197, ...\r\n",
      "Connecting to purl.obolibrary.org (purl.obolibrary.org)|2606:4700:4400::ac40:96c5|:80... connected.\r\n",
      "HTTP request sent, awaiting response... 302 Found\r\n",
      "Location: http://current.geneontology.org/ontology/go-basic.obo [following]\r\n",
      "--2024-04-21 02:23:36--  http://current.geneontology.org/ontology/go-basic.obo\r\n",
      "Resolving current.geneontology.org (current.geneontology.org)... 2600:9000:24db:f600:d:ff6c:c780:93a1, 2600:9000:24db:9800:d:ff6c:c780:93a1, 2600:9000:24db:ec00:d:ff6c:c780:93a1, ...\r\n",
      "Connecting to current.geneontology.org (current.geneontology.org)|2600:9000:24db:f600:d:ff6c:c780:93a1|:80... connected.\r\n",
      "HTTP request sent, awaiting response... 200 OK\r\n",
      "Length: 31245945 (30M) [text/obo]\r\n",
      "Saving to: ‘go-basic.obo’\r\n",
      "\r\n",
      "go-basic.obo        100%[===================>]  29.80M  10.2MB/s    in 2.9s    \r\n",
      "\r\n",
      "2024-04-21 02:23:39 (10.2 MB/s) - ‘go-basic.obo’ saved [31245945/31245945]\r\n",
      "\r\n"
     ]
    }
   ],
   "execution_count": 12
  },
  {
   "metadata": {},
   "cell_type": "markdown",
   "source": "## only keep the Biological Process (BP) subgraph",
   "id": "2fa9f388fbfd678"
  },
  {
   "cell_type": "code",
   "id": "825a3673ae8a59bc",
   "metadata": {
    "ExecuteTime": {
     "end_time": "2024-04-20T18:23:43.522622Z",
     "start_time": "2024-04-20T18:23:43.478793Z"
    }
   },
   "source": [
    "bp_node = \"GO:0008150\"\n",
    "bp_graph_nodes = nx.ancestors(original_graph, bp_node)\n",
    "bp_graph_nodes.add(bp_node)\n",
    "bp_graph = original_graph.subgraph(bp_graph_nodes)\n",
    "print(\"Number of nodes in the graph\", len(bp_graph))"
   ],
   "outputs": [
    {
     "name": "stdout",
     "output_type": "stream",
     "text": [
      "Number of nodes in the graph 27046\n"
     ]
    }
   ],
   "execution_count": 13
  },
  {
   "metadata": {},
   "cell_type": "markdown",
   "source": "## filter the GO terms that are not in the graph",
   "id": "daf48d53a87429d5"
  },
  {
   "metadata": {
    "ExecuteTime": {
     "end_time": "2024-04-20T18:23:43.554960Z",
     "start_time": "2024-04-20T18:23:43.525025Z"
    }
   },
   "cell_type": "code",
   "source": [
    "bp_db = bp_db[bp_db.GO.isin(bp_graph_nodes)]\n",
    "bp_db.describe()"
   ],
   "id": "7a0d9856e8aab3b2",
   "outputs": [
    {
     "data": {
      "text/plain": [
       "                ENSEMBL          GO\n",
       "count            131767      131767\n",
       "unique            17589       12101\n",
       "top     ENSG00000148400  GO:0006357\n",
       "freq                158        1426"
      ],
      "text/html": [
       "<div>\n",
       "<style scoped>\n",
       "    .dataframe tbody tr th:only-of-type {\n",
       "        vertical-align: middle;\n",
       "    }\n",
       "\n",
       "    .dataframe tbody tr th {\n",
       "        vertical-align: top;\n",
       "    }\n",
       "\n",
       "    .dataframe thead th {\n",
       "        text-align: right;\n",
       "    }\n",
       "</style>\n",
       "<table border=\"1\" class=\"dataframe\">\n",
       "  <thead>\n",
       "    <tr style=\"text-align: right;\">\n",
       "      <th></th>\n",
       "      <th>ENSEMBL</th>\n",
       "      <th>GO</th>\n",
       "    </tr>\n",
       "  </thead>\n",
       "  <tbody>\n",
       "    <tr>\n",
       "      <th>count</th>\n",
       "      <td>131767</td>\n",
       "      <td>131767</td>\n",
       "    </tr>\n",
       "    <tr>\n",
       "      <th>unique</th>\n",
       "      <td>17589</td>\n",
       "      <td>12101</td>\n",
       "    </tr>\n",
       "    <tr>\n",
       "      <th>top</th>\n",
       "      <td>ENSG00000148400</td>\n",
       "      <td>GO:0006357</td>\n",
       "    </tr>\n",
       "    <tr>\n",
       "      <th>freq</th>\n",
       "      <td>158</td>\n",
       "      <td>1426</td>\n",
       "    </tr>\n",
       "  </tbody>\n",
       "</table>\n",
       "</div>"
      ]
     },
     "execution_count": 14,
     "metadata": {},
     "output_type": "execute_result"
    }
   ],
   "execution_count": 14
  },
  {
   "metadata": {},
   "cell_type": "markdown",
   "source": "##  remove the branch whose all descendants nodes are not in the list of GO terms",
   "id": "8ec6cfee1a5821d8"
  },
  {
   "metadata": {
    "ExecuteTime": {
     "end_time": "2024-04-20T18:23:43.716665Z",
     "start_time": "2024-04-20T18:23:43.555723Z"
    }
   },
   "cell_type": "code",
   "source": [
    "bp_db_nodes = set(bp_db.GO.unique())\n",
    "\n",
    "leaves = [x for x in bp_graph_nodes if bp_graph.in_degree(x) == 0]\n",
    "removes = []\n",
    "while leaves:\n",
    "    tmp_node = leaves.pop(0)\n",
    "    if tmp_node not in bp_db_nodes:\n",
    "        removes.append(tmp_node)\n",
    "        leaves.extend(list(bp_graph.predecessors(tmp_node)))\n",
    "len(removes)"
   ],
   "id": "a865e81c63a19523",
   "outputs": [
    {
     "data": {
      "text/plain": [
       "7256"
      ]
     },
     "execution_count": 15,
     "metadata": {},
     "output_type": "execute_result"
    }
   ],
   "execution_count": 15
  },
  {
   "metadata": {
    "ExecuteTime": {
     "end_time": "2024-04-20T18:23:43.725229Z",
     "start_time": "2024-04-20T18:23:43.717302Z"
    }
   },
   "cell_type": "code",
   "source": [
    "bp_graph = original_graph.subgraph(bp_graph_nodes - set(removes))\n",
    "print(\"Number of nodes in the graph\", len(bp_graph))"
   ],
   "id": "2ad45c5fb51499cd",
   "outputs": [
    {
     "name": "stdout",
     "output_type": "stream",
     "text": [
      "Number of nodes in the graph 19790\n"
     ]
    }
   ],
   "execution_count": 16
  },
  {
   "metadata": {},
   "cell_type": "markdown",
   "source": "## for a genes, which connected to multiple GO terms in the same branch, only keep the GO term that is the closest to the leave ",
   "id": "5f4c097977476230"
  },
  {
   "metadata": {
    "ExecuteTime": {
     "end_time": "2024-04-20T18:23:52.115453Z",
     "start_time": "2024-04-20T18:23:43.725811Z"
    }
   },
   "cell_type": "code",
   "source": [
    "go_genes_map = {}\n",
    "for idx, row in bp_db.iterrows():\n",
    "    go = row.GO\n",
    "    gene = row.ENSEMBL\n",
    "    if go not in go_genes_map:\n",
    "        go_genes_map[go] = set()\n",
    "    go_genes_map[go].add(gene)\n",
    "\n",
    "leaves = [x for x in bp_graph_nodes if bp_graph.in_degree(x) == 0]\n",
    "\n",
    "removes_terms = set()\n",
    "\n",
    "def dfs(node):\n",
    "    res = set()\n",
    "    if bp_graph.in_degree(node) != 0:  # collect all the genes from the parents\n",
    "        for parent in bp_graph.predecessors(node):\n",
    "            res = res.union(dfs(parent))\n",
    "    if node in go_genes_map: # compare and record the genes that already appears in the parents\n",
    "        for gene in go_genes_map[node].intersection(res):\n",
    "            removes_terms.add(tuple([node, gene]))\n",
    "        res = res.union(go_genes_map[node])\n",
    "    return res\n",
    "\n",
    "_ = dfs(bp_node)"
   ],
   "id": "7ec1c72469a2edeb",
   "outputs": [],
   "execution_count": 17
  },
  {
   "metadata": {
    "ExecuteTime": {
     "end_time": "2024-04-20T18:23:52.118436Z",
     "start_time": "2024-04-20T18:23:52.116543Z"
    }
   },
   "cell_type": "code",
   "source": "len(removes_terms)",
   "id": "f951ee8d376ef2ef",
   "outputs": [
    {
     "data": {
      "text/plain": [
       "23719"
      ]
     },
     "execution_count": 18,
     "metadata": {},
     "output_type": "execute_result"
    }
   ],
   "execution_count": 18
  },
  {
   "metadata": {
    "ExecuteTime": {
     "end_time": "2024-04-20T18:23:52.622016Z",
     "start_time": "2024-04-20T18:23:52.119062Z"
    }
   },
   "cell_type": "code",
   "source": [
    "bp_db = bp_db[~bp_db.apply(lambda x: tuple([x.GO, x.ENSEMBL]) in removes_terms, axis=1)]\n",
    "bp_db.describe()"
   ],
   "id": "da20fcb40ce0094f",
   "outputs": [
    {
     "data": {
      "text/plain": [
       "                ENSEMBL          GO\n",
       "count            108048      108048\n",
       "unique            17589       11767\n",
       "top     ENSG00000148400  GO:0045944\n",
       "freq                126        1105"
      ],
      "text/html": [
       "<div>\n",
       "<style scoped>\n",
       "    .dataframe tbody tr th:only-of-type {\n",
       "        vertical-align: middle;\n",
       "    }\n",
       "\n",
       "    .dataframe tbody tr th {\n",
       "        vertical-align: top;\n",
       "    }\n",
       "\n",
       "    .dataframe thead th {\n",
       "        text-align: right;\n",
       "    }\n",
       "</style>\n",
       "<table border=\"1\" class=\"dataframe\">\n",
       "  <thead>\n",
       "    <tr style=\"text-align: right;\">\n",
       "      <th></th>\n",
       "      <th>ENSEMBL</th>\n",
       "      <th>GO</th>\n",
       "    </tr>\n",
       "  </thead>\n",
       "  <tbody>\n",
       "    <tr>\n",
       "      <th>count</th>\n",
       "      <td>108048</td>\n",
       "      <td>108048</td>\n",
       "    </tr>\n",
       "    <tr>\n",
       "      <th>unique</th>\n",
       "      <td>17589</td>\n",
       "      <td>11767</td>\n",
       "    </tr>\n",
       "    <tr>\n",
       "      <th>top</th>\n",
       "      <td>ENSG00000148400</td>\n",
       "      <td>GO:0045944</td>\n",
       "    </tr>\n",
       "    <tr>\n",
       "      <th>freq</th>\n",
       "      <td>126</td>\n",
       "      <td>1105</td>\n",
       "    </tr>\n",
       "  </tbody>\n",
       "</table>\n",
       "</div>"
      ]
     },
     "execution_count": 19,
     "metadata": {},
     "output_type": "execute_result"
    }
   ],
   "execution_count": 19
  },
  {
   "metadata": {
    "ExecuteTime": {
     "end_time": "2024-04-20T18:23:52.625512Z",
     "start_time": "2024-04-20T18:23:52.622653Z"
    }
   },
   "cell_type": "code",
   "source": "bp_db",
   "id": "eb9ffe109a4ba591",
   "outputs": [
    {
     "data": {
      "text/plain": [
       "                ENSEMBL          GO\n",
       "0       ENSG00000000003  GO:0039532\n",
       "1       ENSG00000000003  GO:0043123\n",
       "2       ENSG00000000003  GO:1901223\n",
       "3       ENSG00000000005  GO:0001886\n",
       "4       ENSG00000000005  GO:0001937\n",
       "...                 ...         ...\n",
       "182195  ENSG00000273079  GO:1904062\n",
       "182196  ENSG00000273079  GO:2000463\n",
       "182198  ENSG00000273079  GO:2001056\n",
       "182250  ENSG00000273173  GO:0008150\n",
       "182309  ENSG00000273274  GO:0006357\n",
       "\n",
       "[108048 rows x 2 columns]"
      ],
      "text/html": [
       "<div>\n",
       "<style scoped>\n",
       "    .dataframe tbody tr th:only-of-type {\n",
       "        vertical-align: middle;\n",
       "    }\n",
       "\n",
       "    .dataframe tbody tr th {\n",
       "        vertical-align: top;\n",
       "    }\n",
       "\n",
       "    .dataframe thead th {\n",
       "        text-align: right;\n",
       "    }\n",
       "</style>\n",
       "<table border=\"1\" class=\"dataframe\">\n",
       "  <thead>\n",
       "    <tr style=\"text-align: right;\">\n",
       "      <th></th>\n",
       "      <th>ENSEMBL</th>\n",
       "      <th>GO</th>\n",
       "    </tr>\n",
       "  </thead>\n",
       "  <tbody>\n",
       "    <tr>\n",
       "      <th>0</th>\n",
       "      <td>ENSG00000000003</td>\n",
       "      <td>GO:0039532</td>\n",
       "    </tr>\n",
       "    <tr>\n",
       "      <th>1</th>\n",
       "      <td>ENSG00000000003</td>\n",
       "      <td>GO:0043123</td>\n",
       "    </tr>\n",
       "    <tr>\n",
       "      <th>2</th>\n",
       "      <td>ENSG00000000003</td>\n",
       "      <td>GO:1901223</td>\n",
       "    </tr>\n",
       "    <tr>\n",
       "      <th>3</th>\n",
       "      <td>ENSG00000000005</td>\n",
       "      <td>GO:0001886</td>\n",
       "    </tr>\n",
       "    <tr>\n",
       "      <th>4</th>\n",
       "      <td>ENSG00000000005</td>\n",
       "      <td>GO:0001937</td>\n",
       "    </tr>\n",
       "    <tr>\n",
       "      <th>...</th>\n",
       "      <td>...</td>\n",
       "      <td>...</td>\n",
       "    </tr>\n",
       "    <tr>\n",
       "      <th>182195</th>\n",
       "      <td>ENSG00000273079</td>\n",
       "      <td>GO:1904062</td>\n",
       "    </tr>\n",
       "    <tr>\n",
       "      <th>182196</th>\n",
       "      <td>ENSG00000273079</td>\n",
       "      <td>GO:2000463</td>\n",
       "    </tr>\n",
       "    <tr>\n",
       "      <th>182198</th>\n",
       "      <td>ENSG00000273079</td>\n",
       "      <td>GO:2001056</td>\n",
       "    </tr>\n",
       "    <tr>\n",
       "      <th>182250</th>\n",
       "      <td>ENSG00000273173</td>\n",
       "      <td>GO:0008150</td>\n",
       "    </tr>\n",
       "    <tr>\n",
       "      <th>182309</th>\n",
       "      <td>ENSG00000273274</td>\n",
       "      <td>GO:0006357</td>\n",
       "    </tr>\n",
       "  </tbody>\n",
       "</table>\n",
       "<p>108048 rows × 2 columns</p>\n",
       "</div>"
      ]
     },
     "execution_count": 20,
     "metadata": {},
     "output_type": "execute_result"
    }
   ],
   "execution_count": 20
  },
  {
   "metadata": {},
   "cell_type": "markdown",
   "source": "## define a function that can remove the lowest level of the GO terms, and re-assign the genes to the parent GO term",
   "id": "647cf9ba57d51f12"
  },
  {
   "metadata": {
    "ExecuteTime": {
     "end_time": "2024-04-20T18:23:53.190922Z",
     "start_time": "2024-04-20T18:23:52.626081Z"
    }
   },
   "cell_type": "code",
   "source": [
    "def remove_lowest_level(graph, bp_df):\n",
    "    _leaves = [x for x in graph.nodes if graph.in_degree(x) == 0]\n",
    "    new_tuples = set()\n",
    "    for _idx, _row in bp_df[bp_df.GO.isin(_leaves)].iterrows():\n",
    "        _gene = _row.ENSEMBL\n",
    "        _go = _row.GO\n",
    "        for _parent in graph.successors(_go):\n",
    "            new_tuples.add((_gene, _parent))\n",
    "    new_df = pd.concat([bp_df[~bp_df.GO.isin(_leaves)], pd.DataFrame(new_tuples, columns=[\"ENSEMBL\", \"GO\"])], ignore_index=True)\n",
    "    new_graph = graph.subgraph(set(graph.nodes) - set(_leaves))\n",
    "    return new_graph, new_df\n",
    "\n",
    "sub_graph, sub_bp_db = remove_lowest_level(bp_graph, bp_db)"
   ],
   "id": "edf63e5cb21327f8",
   "outputs": [],
   "execution_count": 21
  },
  {
   "metadata": {
    "ExecuteTime": {
     "end_time": "2024-04-20T18:23:53.211195Z",
     "start_time": "2024-04-20T18:23:53.191492Z"
    }
   },
   "cell_type": "code",
   "source": [
    "print(\"Number of nodes in the graph\", len(sub_graph))\n",
    "sub_bp_db.describe()"
   ],
   "id": "25259643432bf1eb",
   "outputs": [
    {
     "name": "stdout",
     "output_type": "stream",
     "text": [
      "Number of nodes in the graph 12024\n"
     ]
    },
    {
     "data": {
      "text/plain": [
       "                ENSEMBL          GO\n",
       "count            146247      146247\n",
       "unique            17589        8995\n",
       "top     ENSG00000148400  GO:0045944\n",
       "freq                200        1165"
      ],
      "text/html": [
       "<div>\n",
       "<style scoped>\n",
       "    .dataframe tbody tr th:only-of-type {\n",
       "        vertical-align: middle;\n",
       "    }\n",
       "\n",
       "    .dataframe tbody tr th {\n",
       "        vertical-align: top;\n",
       "    }\n",
       "\n",
       "    .dataframe thead th {\n",
       "        text-align: right;\n",
       "    }\n",
       "</style>\n",
       "<table border=\"1\" class=\"dataframe\">\n",
       "  <thead>\n",
       "    <tr style=\"text-align: right;\">\n",
       "      <th></th>\n",
       "      <th>ENSEMBL</th>\n",
       "      <th>GO</th>\n",
       "    </tr>\n",
       "  </thead>\n",
       "  <tbody>\n",
       "    <tr>\n",
       "      <th>count</th>\n",
       "      <td>146247</td>\n",
       "      <td>146247</td>\n",
       "    </tr>\n",
       "    <tr>\n",
       "      <th>unique</th>\n",
       "      <td>17589</td>\n",
       "      <td>8995</td>\n",
       "    </tr>\n",
       "    <tr>\n",
       "      <th>top</th>\n",
       "      <td>ENSG00000148400</td>\n",
       "      <td>GO:0045944</td>\n",
       "    </tr>\n",
       "    <tr>\n",
       "      <th>freq</th>\n",
       "      <td>200</td>\n",
       "      <td>1165</td>\n",
       "    </tr>\n",
       "  </tbody>\n",
       "</table>\n",
       "</div>"
      ]
     },
     "execution_count": 22,
     "metadata": {},
     "output_type": "execute_result"
    }
   ],
   "execution_count": 22
  },
  {
   "metadata": {
    "ExecuteTime": {
     "end_time": "2024-04-20T18:23:53.890980Z",
     "start_time": "2024-04-20T18:23:53.211762Z"
    }
   },
   "cell_type": "code",
   "source": [
    "def remove_lowest_level(graph, bp_df):\n",
    "    _leaves = [x for x in graph.nodes if graph.in_degree(x) == 0]\n",
    "    new_tuples = set()\n",
    "    for _idx, _row in bp_df[bp_df.GO.isin(_leaves)].iterrows():\n",
    "        _gene = _row.ENSEMBL\n",
    "        _go = _row.GO\n",
    "        for _parent in graph.successors(_go):\n",
    "            new_tuples.add((_gene, _parent))\n",
    "    new_df = pd.concat([bp_df[~bp_df.GO.isin(_leaves)], pd.DataFrame(new_tuples, columns=[\"ENSEMBL\", \"GO\"])], ignore_index=True)\n",
    "    new_graph = graph.subgraph(set(graph.nodes) - set(_leaves))\n",
    "    return new_graph, new_df\n",
    "\n",
    "sub_graph_2, sub_bp_db_2 = remove_lowest_level(sub_graph, sub_bp_db)"
   ],
   "id": "ccb0046620e33e3c",
   "outputs": [],
   "execution_count": 23
  },
  {
   "metadata": {
    "ExecuteTime": {
     "end_time": "2024-04-20T18:23:53.913686Z",
     "start_time": "2024-04-20T18:23:53.891590Z"
    }
   },
   "cell_type": "code",
   "source": [
    "print(\"Number of nodes in the graph\", len(sub_graph_2))\n",
    "sub_bp_db_2.describe()"
   ],
   "id": "8fcbb290382cfc0",
   "outputs": [
    {
     "name": "stdout",
     "output_type": "stream",
     "text": [
      "Number of nodes in the graph 7302\n"
     ]
    },
    {
     "data": {
      "text/plain": [
       "                ENSEMBL          GO\n",
       "count            190962      190962\n",
       "unique            17589        6129\n",
       "top     ENSG00000148400  GO:0045944\n",
       "freq                280        1232"
      ],
      "text/html": [
       "<div>\n",
       "<style scoped>\n",
       "    .dataframe tbody tr th:only-of-type {\n",
       "        vertical-align: middle;\n",
       "    }\n",
       "\n",
       "    .dataframe tbody tr th {\n",
       "        vertical-align: top;\n",
       "    }\n",
       "\n",
       "    .dataframe thead th {\n",
       "        text-align: right;\n",
       "    }\n",
       "</style>\n",
       "<table border=\"1\" class=\"dataframe\">\n",
       "  <thead>\n",
       "    <tr style=\"text-align: right;\">\n",
       "      <th></th>\n",
       "      <th>ENSEMBL</th>\n",
       "      <th>GO</th>\n",
       "    </tr>\n",
       "  </thead>\n",
       "  <tbody>\n",
       "    <tr>\n",
       "      <th>count</th>\n",
       "      <td>190962</td>\n",
       "      <td>190962</td>\n",
       "    </tr>\n",
       "    <tr>\n",
       "      <th>unique</th>\n",
       "      <td>17589</td>\n",
       "      <td>6129</td>\n",
       "    </tr>\n",
       "    <tr>\n",
       "      <th>top</th>\n",
       "      <td>ENSG00000148400</td>\n",
       "      <td>GO:0045944</td>\n",
       "    </tr>\n",
       "    <tr>\n",
       "      <th>freq</th>\n",
       "      <td>280</td>\n",
       "      <td>1232</td>\n",
       "    </tr>\n",
       "  </tbody>\n",
       "</table>\n",
       "</div>"
      ]
     },
     "execution_count": 24,
     "metadata": {},
     "output_type": "execute_result"
    }
   ],
   "execution_count": 24
  },
  {
   "metadata": {},
   "cell_type": "markdown",
   "source": "## write the GO annotations and the GO graph to a file",
   "id": "d2a2300e710d0a5b"
  },
  {
   "metadata": {
    "ExecuteTime": {
     "end_time": "2024-04-20T18:23:54.175080Z",
     "start_time": "2024-04-20T18:23:53.914306Z"
    }
   },
   "cell_type": "code",
   "source": [
    "def write_gml(graph, filename):\n",
    "    tmp_graph = nx.Graph()\n",
    "    tmp_graph.add_nodes_from(graph.nodes())\n",
    "    tmp_graph.add_edges_from(graph.edges())\n",
    "    nx.write_gml(tmp_graph, \"../data/\" + filename + \".gml\")\n",
    "\n",
    "bp_db.reset_index(drop=True, inplace=True)\n",
    "bp_db.to_csv(\"../data/GOannotations_kept.csv\")\n",
    "write_gml(bp_graph, \"bp_graph\")"
   ],
   "id": "2b1c6cad2597d79c",
   "outputs": [],
   "execution_count": 25
  },
  {
   "cell_type": "markdown",
   "id": "e4f684c5ea0ea03c",
   "metadata": {},
   "source": "## get the degree and level info of the GO terms"
  },
  {
   "cell_type": "code",
   "id": "75f634bd84dbb5fe",
   "metadata": {
    "ExecuteTime": {
     "end_time": "2024-04-20T18:23:54.777335Z",
     "start_time": "2024-04-20T18:23:54.175787Z"
    }
   },
   "source": [
    "in_d = [x[1] for x in bp_graph.in_degree()]\n",
    "out_d = [x[1] for x in bp_graph.out_degree()]\n",
    "levels = [nx.shortest_path_length(bp_graph, x, bp_node) for x in bp_graph.nodes]\n",
    "go_nodes = list(bp_graph.nodes)\n",
    "dfInfoGraph = pd.DataFrame({\"root\": levels, \"d+\": out_d, \"d-\": in_d}, index=go_nodes)\n",
    "dfInfoGraph.head()"
   ],
   "outputs": [
    {
     "data": {
      "text/plain": [
       "            root  d+  d-\n",
       "GO:1904355     6   3   0\n",
       "GO:0071243     4   2   3\n",
       "GO:0075201     4   1   1\n",
       "GO:0007026     5   5   0\n",
       "GO:0150070     5   1   1"
      ],
      "text/html": [
       "<div>\n",
       "<style scoped>\n",
       "    .dataframe tbody tr th:only-of-type {\n",
       "        vertical-align: middle;\n",
       "    }\n",
       "\n",
       "    .dataframe tbody tr th {\n",
       "        vertical-align: top;\n",
       "    }\n",
       "\n",
       "    .dataframe thead th {\n",
       "        text-align: right;\n",
       "    }\n",
       "</style>\n",
       "<table border=\"1\" class=\"dataframe\">\n",
       "  <thead>\n",
       "    <tr style=\"text-align: right;\">\n",
       "      <th></th>\n",
       "      <th>root</th>\n",
       "      <th>d+</th>\n",
       "      <th>d-</th>\n",
       "    </tr>\n",
       "  </thead>\n",
       "  <tbody>\n",
       "    <tr>\n",
       "      <th>GO:1904355</th>\n",
       "      <td>6</td>\n",
       "      <td>3</td>\n",
       "      <td>0</td>\n",
       "    </tr>\n",
       "    <tr>\n",
       "      <th>GO:0071243</th>\n",
       "      <td>4</td>\n",
       "      <td>2</td>\n",
       "      <td>3</td>\n",
       "    </tr>\n",
       "    <tr>\n",
       "      <th>GO:0075201</th>\n",
       "      <td>4</td>\n",
       "      <td>1</td>\n",
       "      <td>1</td>\n",
       "    </tr>\n",
       "    <tr>\n",
       "      <th>GO:0007026</th>\n",
       "      <td>5</td>\n",
       "      <td>5</td>\n",
       "      <td>0</td>\n",
       "    </tr>\n",
       "    <tr>\n",
       "      <th>GO:0150070</th>\n",
       "      <td>5</td>\n",
       "      <td>1</td>\n",
       "      <td>1</td>\n",
       "    </tr>\n",
       "  </tbody>\n",
       "</table>\n",
       "</div>"
      ]
     },
     "execution_count": 26,
     "metadata": {},
     "output_type": "execute_result"
    }
   ],
   "execution_count": 26
  },
  {
   "cell_type": "code",
   "id": "5facb592e9bbecec",
   "metadata": {
    "ExecuteTime": {
     "end_time": "2024-04-20T18:23:54.783174Z",
     "start_time": "2024-04-20T18:23:54.777959Z"
    }
   },
   "source": [
    "dfInfoGraph.describe()"
   ],
   "outputs": [
    {
     "data": {
      "text/plain": [
       "               root            d+            d-\n",
       "count  19790.000000  19790.000000  19790.000000\n",
       "mean       4.810258      2.231733      2.231733\n",
       "std        1.338441      1.011113      4.840105\n",
       "min        0.000000      0.000000      0.000000\n",
       "25%        4.000000      1.000000      0.000000\n",
       "50%        5.000000      2.000000      1.000000\n",
       "75%        6.000000      3.000000      3.000000\n",
       "max       11.000000      9.000000    163.000000"
      ],
      "text/html": [
       "<div>\n",
       "<style scoped>\n",
       "    .dataframe tbody tr th:only-of-type {\n",
       "        vertical-align: middle;\n",
       "    }\n",
       "\n",
       "    .dataframe tbody tr th {\n",
       "        vertical-align: top;\n",
       "    }\n",
       "\n",
       "    .dataframe thead th {\n",
       "        text-align: right;\n",
       "    }\n",
       "</style>\n",
       "<table border=\"1\" class=\"dataframe\">\n",
       "  <thead>\n",
       "    <tr style=\"text-align: right;\">\n",
       "      <th></th>\n",
       "      <th>root</th>\n",
       "      <th>d+</th>\n",
       "      <th>d-</th>\n",
       "    </tr>\n",
       "  </thead>\n",
       "  <tbody>\n",
       "    <tr>\n",
       "      <th>count</th>\n",
       "      <td>19790.000000</td>\n",
       "      <td>19790.000000</td>\n",
       "      <td>19790.000000</td>\n",
       "    </tr>\n",
       "    <tr>\n",
       "      <th>mean</th>\n",
       "      <td>4.810258</td>\n",
       "      <td>2.231733</td>\n",
       "      <td>2.231733</td>\n",
       "    </tr>\n",
       "    <tr>\n",
       "      <th>std</th>\n",
       "      <td>1.338441</td>\n",
       "      <td>1.011113</td>\n",
       "      <td>4.840105</td>\n",
       "    </tr>\n",
       "    <tr>\n",
       "      <th>min</th>\n",
       "      <td>0.000000</td>\n",
       "      <td>0.000000</td>\n",
       "      <td>0.000000</td>\n",
       "    </tr>\n",
       "    <tr>\n",
       "      <th>25%</th>\n",
       "      <td>4.000000</td>\n",
       "      <td>1.000000</td>\n",
       "      <td>0.000000</td>\n",
       "    </tr>\n",
       "    <tr>\n",
       "      <th>50%</th>\n",
       "      <td>5.000000</td>\n",
       "      <td>2.000000</td>\n",
       "      <td>1.000000</td>\n",
       "    </tr>\n",
       "    <tr>\n",
       "      <th>75%</th>\n",
       "      <td>6.000000</td>\n",
       "      <td>3.000000</td>\n",
       "      <td>3.000000</td>\n",
       "    </tr>\n",
       "    <tr>\n",
       "      <th>max</th>\n",
       "      <td>11.000000</td>\n",
       "      <td>9.000000</td>\n",
       "      <td>163.000000</td>\n",
       "    </tr>\n",
       "  </tbody>\n",
       "</table>\n",
       "</div>"
      ]
     },
     "execution_count": 27,
     "metadata": {},
     "output_type": "execute_result"
    }
   ],
   "execution_count": 27
  },
  {
   "cell_type": "code",
   "id": "5b6618d0229af708",
   "metadata": {
    "ExecuteTime": {
     "end_time": "2024-04-20T18:23:55.222888Z",
     "start_time": "2024-04-20T18:23:54.783764Z"
    }
   },
   "source": [
    "import matplotlib.pyplot as plt\n",
    "\n",
    "dfInfoGraph.groupby(\"root\").size().plot(kind='bar')\n",
    "plt.show()"
   ],
   "outputs": [
    {
     "data": {
      "text/plain": [
       "<Figure size 640x480 with 1 Axes>"
      ],
      "image/png": "[encoded data removed]"
     },
     "metadata": {},
     "output_type": "display_data"
    }
   ],
   "execution_count": 28
  },
  {
   "cell_type": "code",
   "id": "1e3200e519282d62",
   "metadata": {
    "ExecuteTime": {
     "end_time": "2024-04-20T18:23:55.246369Z",
     "start_time": "2024-04-20T18:23:55.224298Z"
    }
   },
   "source": "dfInfoGraph.to_csv(\"../data/go_to_level.csv\")",
   "outputs": [],
   "execution_count": 29
  },
  {
   "metadata": {},
   "cell_type": "markdown",
   "source": "## Convert the names of the nodes into integer",
   "id": "685252a0b3260df3"
  },
  {
   "metadata": {
    "ExecuteTime": {
     "end_time": "2024-04-20T18:23:55.266223Z",
     "start_time": "2024-04-20T18:23:55.247722Z"
    }
   },
   "cell_type": "code",
   "source": [
    "bp_db_go = sorted(set(bp_db['GO']).union(set(bp_graph.nodes)))\n",
    "len(bp_db_go)"
   ],
   "id": "91d932990054aaaf",
   "outputs": [
    {
     "data": {
      "text/plain": [
       "19790"
      ]
     },
     "execution_count": 30,
     "metadata": {},
     "output_type": "execute_result"
    }
   ],
   "execution_count": 30
  },
  {
   "metadata": {
    "ExecuteTime": {
     "end_time": "2024-04-20T18:23:55.289861Z",
     "start_time": "2024-04-20T18:23:55.267408Z"
    }
   },
   "cell_type": "code",
   "source": [
    "import json\n",
    "\n",
    "map_int_go = {i: go for i, go in enumerate(bp_db_go)}\n",
    "with open('../data/map_int_go.txt', 'w') as f:\n",
    "    json.dump(map_int_go, f, indent=2)"
   ],
   "id": "c3079f76325812a4",
   "outputs": [],
   "execution_count": 31
  },
  {
   "metadata": {},
   "cell_type": "markdown",
   "source": "## split the annotation data and no annotation data",
   "id": "bfb4eda30aa53e1a"
  },
  {
   "metadata": {
    "ExecuteTime": {
     "end_time": "2024-04-20T18:24:01.929875Z",
     "start_time": "2024-04-20T18:23:55.291564Z"
    }
   },
   "cell_type": "code",
   "source": [
    "# bp_db_genes = set(bp_db.ENSEMBL)\n",
    "# counts1.drop(columns=[x for x in counts1.columns if x not in bp_db_genes]).to_csv(\"../data/counts1_no_annotations.csv\")\n",
    "# counts1.drop(columns=[x for x in counts1.columns if x in bp_db_genes]).to_csv(\"../data/counts1_annotations.csv\")"
   ],
   "id": "3b02ceef8798e8ac",
   "outputs": [],
   "execution_count": 32
  },
  {
   "cell_type": "markdown",
   "id": "a3c3935840b4942d",
   "metadata": {},
   "source": []
  }
 ],
 "metadata": {
  "kernelspec": {
   "display_name": "Python 3 (ipykernel)",
   "language": "python",
   "name": "python3"
  },
  "language_info": {
   "codemirror_mode": {
    "name": "ipython",
    "version": 3
   },
   "file_extension": ".py",
   "mimetype": "text/x-python",
   "name": "python",
   "nbconvert_exporter": "python",
   "pygments_lexer": "ipython3",
   "version": "3.11.7"
  }
 },
 "nbformat": 4,
 "nbformat_minor": 5
}
