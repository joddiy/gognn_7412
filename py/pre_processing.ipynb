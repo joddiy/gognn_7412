{
 "cells": [
  {
   "cell_type": "code",
   "execution_count": 1,
   "id": "cdcfbde79d35818e",
   "metadata": {
    "ExecuteTime": {
     "end_time": "2024-04-23T16:19:39.541421Z",
     "start_time": "2024-04-23T16:19:38.699397Z"
    }
   },
   "outputs": [],
   "source": [
    "import pandas as pd\n",
    "import numpy as np\n",
    "import obonet\n",
    "import networkx as nx"
   ]
  },
  {
   "cell_type": "markdown",
   "id": "c0dc7edd201e6ea3",
   "metadata": {},
   "source": [
    "# Load the data generated from the R code"
   ]
  },
  {
   "cell_type": "code",
   "execution_count": 2,
   "id": "6e21320f8ba31a12",
   "metadata": {
    "ExecuteTime": {
     "end_time": "2024-04-23T16:19:39.602160Z",
     "start_time": "2024-04-23T16:19:39.542359Z"
    }
   },
   "outputs": [
    {
     "data": {
      "text/html": [
       "<div>\n",
       "<style scoped>\n",
       "    .dataframe tbody tr th:only-of-type {\n",
       "        vertical-align: middle;\n",
       "    }\n",
       "\n",
       "    .dataframe tbody tr th {\n",
       "        vertical-align: top;\n",
       "    }\n",
       "\n",
       "    .dataframe thead th {\n",
       "        text-align: right;\n",
       "    }\n",
       "</style>\n",
       "<table border=\"1\" class=\"dataframe\">\n",
       "  <thead>\n",
       "    <tr style=\"text-align: right;\">\n",
       "      <th></th>\n",
       "      <th>ENSEMBL</th>\n",
       "      <th>GO</th>\n",
       "    </tr>\n",
       "  </thead>\n",
       "  <tbody>\n",
       "    <tr>\n",
       "      <th>0</th>\n",
       "      <td>ENSG00000000003</td>\n",
       "      <td>GO:0039532</td>\n",
       "    </tr>\n",
       "    <tr>\n",
       "      <th>1</th>\n",
       "      <td>ENSG00000000003</td>\n",
       "      <td>GO:0043123</td>\n",
       "    </tr>\n",
       "    <tr>\n",
       "      <th>2</th>\n",
       "      <td>ENSG00000000003</td>\n",
       "      <td>GO:1901223</td>\n",
       "    </tr>\n",
       "    <tr>\n",
       "      <th>3</th>\n",
       "      <td>ENSG00000000005</td>\n",
       "      <td>GO:0001886</td>\n",
       "    </tr>\n",
       "    <tr>\n",
       "      <th>4</th>\n",
       "      <td>ENSG00000000005</td>\n",
       "      <td>GO:0001937</td>\n",
       "    </tr>\n",
       "  </tbody>\n",
       "</table>\n",
       "</div>"
      ],
      "text/plain": [
       "           ENSEMBL          GO\n",
       "0  ENSG00000000003  GO:0039532\n",
       "1  ENSG00000000003  GO:0043123\n",
       "2  ENSG00000000003  GO:1901223\n",
       "3  ENSG00000000005  GO:0001886\n",
       "4  ENSG00000000005  GO:0001937"
      ]
     },
     "execution_count": 2,
     "metadata": {},
     "output_type": "execute_result"
    }
   ],
   "source": [
    "bp_db = pd.read_csv(\"../data/annotations-gene-GO.csv\")\n",
    "bp_db = bp_db.drop_duplicates()\n",
    "bp_db.head()"
   ]
  },
  {
   "cell_type": "code",
   "execution_count": 3,
   "id": "4816eb5c0c66d9cc",
   "metadata": {
    "ExecuteTime": {
     "end_time": "2024-04-23T16:19:39.621155Z",
     "start_time": "2024-04-23T16:19:39.602821Z"
    }
   },
   "outputs": [
    {
     "data": {
      "text/html": [
       "<div>\n",
       "<style scoped>\n",
       "    .dataframe tbody tr th:only-of-type {\n",
       "        vertical-align: middle;\n",
       "    }\n",
       "\n",
       "    .dataframe tbody tr th {\n",
       "        vertical-align: top;\n",
       "    }\n",
       "\n",
       "    .dataframe thead th {\n",
       "        text-align: right;\n",
       "    }\n",
       "</style>\n",
       "<table border=\"1\" class=\"dataframe\">\n",
       "  <thead>\n",
       "    <tr style=\"text-align: right;\">\n",
       "      <th></th>\n",
       "      <th>ENSEMBL</th>\n",
       "      <th>GO</th>\n",
       "    </tr>\n",
       "  </thead>\n",
       "  <tbody>\n",
       "    <tr>\n",
       "      <th>count</th>\n",
       "      <td>132627</td>\n",
       "      <td>132627</td>\n",
       "    </tr>\n",
       "    <tr>\n",
       "      <th>unique</th>\n",
       "      <td>17599</td>\n",
       "      <td>12305</td>\n",
       "    </tr>\n",
       "    <tr>\n",
       "      <th>top</th>\n",
       "      <td>ENSG00000148400</td>\n",
       "      <td>GO:0006357</td>\n",
       "    </tr>\n",
       "    <tr>\n",
       "      <th>freq</th>\n",
       "      <td>158</td>\n",
       "      <td>1426</td>\n",
       "    </tr>\n",
       "  </tbody>\n",
       "</table>\n",
       "</div>"
      ],
      "text/plain": [
       "                ENSEMBL          GO\n",
       "count            132627      132627\n",
       "unique            17599       12305\n",
       "top     ENSG00000148400  GO:0006357\n",
       "freq                158        1426"
      ]
     },
     "execution_count": 3,
     "metadata": {},
     "output_type": "execute_result"
    }
   ],
   "source": [
    "bp_db.describe()"
   ]
  },
  {
   "cell_type": "code",
   "execution_count": 4,
   "id": "89e52c314dbc130f",
   "metadata": {
    "ExecuteTime": {
     "end_time": "2024-04-23T16:19:43.193675Z",
     "start_time": "2024-04-23T16:19:39.621695Z"
    }
   },
   "outputs": [
    {
     "data": {
      "text/html": [
       "<div>\n",
       "<style scoped>\n",
       "    .dataframe tbody tr th:only-of-type {\n",
       "        vertical-align: middle;\n",
       "    }\n",
       "\n",
       "    .dataframe tbody tr th {\n",
       "        vertical-align: top;\n",
       "    }\n",
       "\n",
       "    .dataframe thead th {\n",
       "        text-align: right;\n",
       "    }\n",
       "</style>\n",
       "<table border=\"1\" class=\"dataframe\">\n",
       "  <thead>\n",
       "    <tr style=\"text-align: right;\">\n",
       "      <th></th>\n",
       "      <th>ENSG00000000003</th>\n",
       "      <th>ENSG00000000005</th>\n",
       "      <th>ENSG00000000419</th>\n",
       "      <th>ENSG00000000457</th>\n",
       "      <th>ENSG00000000460</th>\n",
       "      <th>ENSG00000000938</th>\n",
       "      <th>ENSG00000000971</th>\n",
       "      <th>ENSG00000001036</th>\n",
       "      <th>ENSG00000001084</th>\n",
       "      <th>ENSG00000001167</th>\n",
       "      <th>...</th>\n",
       "      <th>ENSGR0000167393</th>\n",
       "      <th>ENSGR0000169084</th>\n",
       "      <th>ENSGR0000169093</th>\n",
       "      <th>ENSGR0000178605</th>\n",
       "      <th>ENSGR0000182378</th>\n",
       "      <th>ENSGR0000185291</th>\n",
       "      <th>ENSGR0000198223</th>\n",
       "      <th>ENSGR0000214717</th>\n",
       "      <th>ENSGR0000223511</th>\n",
       "      <th>ENSGR0000223773</th>\n",
       "    </tr>\n",
       "  </thead>\n",
       "  <tbody>\n",
       "    <tr>\n",
       "      <th>089357B</th>\n",
       "      <td>14</td>\n",
       "      <td>7</td>\n",
       "      <td>103</td>\n",
       "      <td>241</td>\n",
       "      <td>72</td>\n",
       "      <td>2057</td>\n",
       "      <td>30</td>\n",
       "      <td>60</td>\n",
       "      <td>207</td>\n",
       "      <td>367</td>\n",
       "      <td>...</td>\n",
       "      <td>1</td>\n",
       "      <td>0</td>\n",
       "      <td>0</td>\n",
       "      <td>0</td>\n",
       "      <td>0</td>\n",
       "      <td>0</td>\n",
       "      <td>0</td>\n",
       "      <td>0</td>\n",
       "      <td>0</td>\n",
       "      <td>0</td>\n",
       "    </tr>\n",
       "    <tr>\n",
       "      <th>089366A</th>\n",
       "      <td>11</td>\n",
       "      <td>2</td>\n",
       "      <td>194</td>\n",
       "      <td>511</td>\n",
       "      <td>110</td>\n",
       "      <td>3325</td>\n",
       "      <td>36</td>\n",
       "      <td>111</td>\n",
       "      <td>186</td>\n",
       "      <td>530</td>\n",
       "      <td>...</td>\n",
       "      <td>0</td>\n",
       "      <td>0</td>\n",
       "      <td>0</td>\n",
       "      <td>0</td>\n",
       "      <td>0</td>\n",
       "      <td>0</td>\n",
       "      <td>1</td>\n",
       "      <td>0</td>\n",
       "      <td>0</td>\n",
       "      <td>1</td>\n",
       "    </tr>\n",
       "    <tr>\n",
       "      <th>089412B</th>\n",
       "      <td>8</td>\n",
       "      <td>0</td>\n",
       "      <td>312</td>\n",
       "      <td>450</td>\n",
       "      <td>106</td>\n",
       "      <td>3751</td>\n",
       "      <td>45</td>\n",
       "      <td>160</td>\n",
       "      <td>325</td>\n",
       "      <td>653</td>\n",
       "      <td>...</td>\n",
       "      <td>0</td>\n",
       "      <td>0</td>\n",
       "      <td>0</td>\n",
       "      <td>0</td>\n",
       "      <td>0</td>\n",
       "      <td>0</td>\n",
       "      <td>1</td>\n",
       "      <td>0</td>\n",
       "      <td>0</td>\n",
       "      <td>0</td>\n",
       "    </tr>\n",
       "    <tr>\n",
       "      <th>089425B</th>\n",
       "      <td>9</td>\n",
       "      <td>0</td>\n",
       "      <td>135</td>\n",
       "      <td>496</td>\n",
       "      <td>133</td>\n",
       "      <td>2758</td>\n",
       "      <td>26</td>\n",
       "      <td>93</td>\n",
       "      <td>182</td>\n",
       "      <td>620</td>\n",
       "      <td>...</td>\n",
       "      <td>0</td>\n",
       "      <td>0</td>\n",
       "      <td>0</td>\n",
       "      <td>0</td>\n",
       "      <td>0</td>\n",
       "      <td>0</td>\n",
       "      <td>0</td>\n",
       "      <td>0</td>\n",
       "      <td>0</td>\n",
       "      <td>0</td>\n",
       "    </tr>\n",
       "    <tr>\n",
       "      <th>089687A</th>\n",
       "      <td>4</td>\n",
       "      <td>0</td>\n",
       "      <td>89</td>\n",
       "      <td>267</td>\n",
       "      <td>49</td>\n",
       "      <td>2181</td>\n",
       "      <td>24</td>\n",
       "      <td>75</td>\n",
       "      <td>122</td>\n",
       "      <td>263</td>\n",
       "      <td>...</td>\n",
       "      <td>0</td>\n",
       "      <td>0</td>\n",
       "      <td>0</td>\n",
       "      <td>0</td>\n",
       "      <td>0</td>\n",
       "      <td>0</td>\n",
       "      <td>1</td>\n",
       "      <td>0</td>\n",
       "      <td>0</td>\n",
       "      <td>0</td>\n",
       "    </tr>\n",
       "  </tbody>\n",
       "</table>\n",
       "<p>5 rows × 52645 columns</p>\n",
       "</div>"
      ],
      "text/plain": [
       "         ENSG00000000003  ENSG00000000005  ENSG00000000419  ENSG00000000457  \\\n",
       "089357B               14                7              103              241   \n",
       "089366A               11                2              194              511   \n",
       "089412B                8                0              312              450   \n",
       "089425B                9                0              135              496   \n",
       "089687A                4                0               89              267   \n",
       "\n",
       "         ENSG00000000460  ENSG00000000938  ENSG00000000971  ENSG00000001036  \\\n",
       "089357B               72             2057               30               60   \n",
       "089366A              110             3325               36              111   \n",
       "089412B              106             3751               45              160   \n",
       "089425B              133             2758               26               93   \n",
       "089687A               49             2181               24               75   \n",
       "\n",
       "         ENSG00000001084  ENSG00000001167  ...  ENSGR0000167393  \\\n",
       "089357B              207              367  ...                1   \n",
       "089366A              186              530  ...                0   \n",
       "089412B              325              653  ...                0   \n",
       "089425B              182              620  ...                0   \n",
       "089687A              122              263  ...                0   \n",
       "\n",
       "         ENSGR0000169084  ENSGR0000169093  ENSGR0000178605  ENSGR0000182378  \\\n",
       "089357B                0                0                0                0   \n",
       "089366A                0                0                0                0   \n",
       "089412B                0                0                0                0   \n",
       "089425B                0                0                0                0   \n",
       "089687A                0                0                0                0   \n",
       "\n",
       "         ENSGR0000185291  ENSGR0000198223  ENSGR0000214717  ENSGR0000223511  \\\n",
       "089357B                0                0                0                0   \n",
       "089366A                0                1                0                0   \n",
       "089412B                0                1                0                0   \n",
       "089425B                0                0                0                0   \n",
       "089687A                0                1                0                0   \n",
       "\n",
       "         ENSGR0000223773  \n",
       "089357B                0  \n",
       "089366A                1  \n",
       "089412B                0  \n",
       "089425B                0  \n",
       "089687A                0  \n",
       "\n",
       "[5 rows x 52645 columns]"
      ]
     },
     "execution_count": 4,
     "metadata": {},
     "output_type": "execute_result"
    }
   ],
   "source": [
    "counts1 = pd.read_csv(\"../data/counts1.csv\", index_col=0)\n",
    "counts1.head()"
   ]
  },
  {
   "cell_type": "code",
   "execution_count": 5,
   "id": "2f66d52f7e455138",
   "metadata": {
    "ExecuteTime": {
     "end_time": "2024-04-23T16:19:43.199608Z",
     "start_time": "2024-04-23T16:19:43.195116Z"
    }
   },
   "outputs": [
    {
     "data": {
      "text/html": [
       "<div>\n",
       "<style scoped>\n",
       "    .dataframe tbody tr th:only-of-type {\n",
       "        vertical-align: middle;\n",
       "    }\n",
       "\n",
       "    .dataframe tbody tr th {\n",
       "        vertical-align: top;\n",
       "    }\n",
       "\n",
       "    .dataframe thead th {\n",
       "        text-align: right;\n",
       "    }\n",
       "</style>\n",
       "<table border=\"1\" class=\"dataframe\">\n",
       "  <thead>\n",
       "    <tr style=\"text-align: right;\">\n",
       "      <th></th>\n",
       "      <th>age</th>\n",
       "      <th>diagnosis</th>\n",
       "      <th>sex</th>\n",
       "      <th>lithium</th>\n",
       "      <th>condition</th>\n",
       "    </tr>\n",
       "  </thead>\n",
       "  <tbody>\n",
       "    <tr>\n",
       "      <th>089357B</th>\n",
       "      <td>18</td>\n",
       "      <td>Control</td>\n",
       "      <td>F</td>\n",
       "      <td>0</td>\n",
       "      <td>Control</td>\n",
       "    </tr>\n",
       "    <tr>\n",
       "      <th>089366A</th>\n",
       "      <td>19</td>\n",
       "      <td>Control</td>\n",
       "      <td>F</td>\n",
       "      <td>0</td>\n",
       "      <td>Control</td>\n",
       "    </tr>\n",
       "    <tr>\n",
       "      <th>089412B</th>\n",
       "      <td>23</td>\n",
       "      <td>Control</td>\n",
       "      <td>F</td>\n",
       "      <td>0</td>\n",
       "      <td>Control</td>\n",
       "    </tr>\n",
       "    <tr>\n",
       "      <th>089425B</th>\n",
       "      <td>47</td>\n",
       "      <td>Control</td>\n",
       "      <td>F</td>\n",
       "      <td>0</td>\n",
       "      <td>Control</td>\n",
       "    </tr>\n",
       "    <tr>\n",
       "      <th>089687A</th>\n",
       "      <td>52</td>\n",
       "      <td>Control</td>\n",
       "      <td>F</td>\n",
       "      <td>0</td>\n",
       "      <td>Control</td>\n",
       "    </tr>\n",
       "  </tbody>\n",
       "</table>\n",
       "</div>"
      ],
      "text/plain": [
       "         age diagnosis sex  lithium condition\n",
       "089357B   18   Control   F        0   Control\n",
       "089366A   19   Control   F        0   Control\n",
       "089412B   23   Control   F        0   Control\n",
       "089425B   47   Control   F        0   Control\n",
       "089687A   52   Control   F        0   Control"
      ]
     },
     "execution_count": 5,
     "metadata": {},
     "output_type": "execute_result"
    }
   ],
   "source": [
    "pheno1 = pd.read_csv(\"../data/pheno1.csv\", index_col=0)\n",
    "pheno1.head()"
   ]
  },
  {
   "cell_type": "markdown",
   "id": "9f1f9eccef0f836",
   "metadata": {},
   "source": [
    "# Data Exploration Analysis"
   ]
  },
  {
   "cell_type": "code",
   "execution_count": 6,
   "id": "9eb7b0b407e3e4c0",
   "metadata": {
    "ExecuteTime": {
     "end_time": "2024-04-23T16:19:43.205594Z",
     "start_time": "2024-04-23T16:19:43.200020Z"
    }
   },
   "outputs": [
    {
     "data": {
      "text/plain": [
       "('length of all_genes :', 17600)"
      ]
     },
     "execution_count": 6,
     "metadata": {},
     "output_type": "execute_result"
    }
   ],
   "source": [
    "available_genes = set(bp_db.ENSEMBL)\n",
    "(\"length of all_genes :\", len(available_genes))"
   ]
  },
  {
   "cell_type": "code",
   "execution_count": 7,
   "id": "26a89637c0cec476",
   "metadata": {
    "ExecuteTime": {
     "end_time": "2024-04-23T16:19:43.209890Z",
     "start_time": "2024-04-23T16:19:43.206191Z"
    }
   },
   "outputs": [
    {
     "data": {
      "text/plain": [
       "('length of data_genes :', 52645)"
      ]
     },
     "execution_count": 7,
     "metadata": {},
     "output_type": "execute_result"
    }
   ],
   "source": [
    "data_genes = set(counts1.columns)\n",
    "(\"length of data_genes :\", len(data_genes))"
   ]
  },
  {
   "cell_type": "code",
   "execution_count": 8,
   "id": "170bd4f7cf1820a0",
   "metadata": {
    "ExecuteTime": {
     "end_time": "2024-04-23T16:19:43.214276Z",
     "start_time": "2024-04-23T16:19:43.210400Z"
    }
   },
   "outputs": [
    {
     "data": {
      "text/plain": [
       "('Number of genes missing :', 35046)"
      ]
     },
     "execution_count": 8,
     "metadata": {},
     "output_type": "execute_result"
    }
   ],
   "source": [
    "(\"Number of genes missing :\", len(data_genes - available_genes))"
   ]
  },
  {
   "cell_type": "code",
   "execution_count": 9,
   "id": "24ad05188a12a669",
   "metadata": {
    "ExecuteTime": {
     "end_time": "2024-04-23T16:19:43.218726Z",
     "start_time": "2024-04-23T16:19:43.214773Z"
    }
   },
   "outputs": [
    {
     "data": {
      "text/plain": [
       "'Ratio of genes missing : 66.57%'"
      ]
     },
     "execution_count": 9,
     "metadata": {},
     "output_type": "execute_result"
    }
   ],
   "source": [
    "(\"Ratio of genes missing : {:.2f}%\".format(len(data_genes - available_genes) / len(data_genes) * 100))"
   ]
  },
  {
   "cell_type": "markdown",
   "id": "3e447ff4f6762977",
   "metadata": {},
   "source": [
    "# Clean the GO annotations and the GO graph"
   ]
  },
  {
   "cell_type": "markdown",
   "id": "7c55907bed728e94",
   "metadata": {},
   "source": [
    "## only keep GO annotations that are associated with the genes in the data"
   ]
  },
  {
   "cell_type": "code",
   "execution_count": 10,
   "id": "ef9ce71384cb6d5a",
   "metadata": {
    "ExecuteTime": {
     "end_time": "2024-04-23T16:19:43.242549Z",
     "start_time": "2024-04-23T16:19:43.219228Z"
    }
   },
   "outputs": [
    {
     "data": {
      "text/html": [
       "<div>\n",
       "<style scoped>\n",
       "    .dataframe tbody tr th:only-of-type {\n",
       "        vertical-align: middle;\n",
       "    }\n",
       "\n",
       "    .dataframe tbody tr th {\n",
       "        vertical-align: top;\n",
       "    }\n",
       "\n",
       "    .dataframe thead th {\n",
       "        text-align: right;\n",
       "    }\n",
       "</style>\n",
       "<table border=\"1\" class=\"dataframe\">\n",
       "  <thead>\n",
       "    <tr style=\"text-align: right;\">\n",
       "      <th></th>\n",
       "      <th>ENSEMBL</th>\n",
       "      <th>GO</th>\n",
       "    </tr>\n",
       "  </thead>\n",
       "  <tbody>\n",
       "    <tr>\n",
       "      <th>count</th>\n",
       "      <td>132627</td>\n",
       "      <td>132627</td>\n",
       "    </tr>\n",
       "    <tr>\n",
       "      <th>unique</th>\n",
       "      <td>17599</td>\n",
       "      <td>12305</td>\n",
       "    </tr>\n",
       "    <tr>\n",
       "      <th>top</th>\n",
       "      <td>ENSG00000148400</td>\n",
       "      <td>GO:0006357</td>\n",
       "    </tr>\n",
       "    <tr>\n",
       "      <th>freq</th>\n",
       "      <td>158</td>\n",
       "      <td>1426</td>\n",
       "    </tr>\n",
       "  </tbody>\n",
       "</table>\n",
       "</div>"
      ],
      "text/plain": [
       "                ENSEMBL          GO\n",
       "count            132627      132627\n",
       "unique            17599       12305\n",
       "top     ENSG00000148400  GO:0006357\n",
       "freq                158        1426"
      ]
     },
     "execution_count": 10,
     "metadata": {},
     "output_type": "execute_result"
    }
   ],
   "source": [
    "bp_db = bp_db[bp_db.ENSEMBL.isin(counts1.columns)]\n",
    "bp_db.describe()"
   ]
  },
  {
   "cell_type": "code",
   "execution_count": 11,
   "id": "f72093e7e2e0bcfa",
   "metadata": {
    "ExecuteTime": {
     "end_time": "2024-04-23T16:19:43.254079Z",
     "start_time": "2024-04-23T16:19:43.243145Z"
    }
   },
   "outputs": [],
   "source": [
    "bp_db_go = set(bp_db.GO)\n",
    "bp_db_genes = set(bp_db.ENSEMBL)"
   ]
  },
  {
   "cell_type": "markdown",
   "id": "3a82ebd78225a2ad",
   "metadata": {},
   "source": [
    "## load GO graph"
   ]
  },
  {
   "cell_type": "code",
   "execution_count": 12,
   "id": "b9be098898934092",
   "metadata": {
    "ExecuteTime": {
     "end_time": "2024-04-23T16:19:52.011545Z",
     "start_time": "2024-04-23T16:19:43.254603Z"
    }
   },
   "outputs": [
    {
     "name": "stdout",
     "output_type": "stream",
     "text": [
      "--2024-04-24 00:28:21--  http://purl.obolibrary.org/obo/go/go-basic.obo\n",
      "Resolving purl.obolibrary.org (purl.obolibrary.org)... 2606:4700:4400::ac40:96c5, 2606:4700:4400::6812:253b, 172.64.150.197, ...\n",
      "Connecting to purl.obolibrary.org (purl.obolibrary.org)|2606:4700:4400::ac40:96c5|:80... connected.\n",
      "HTTP request sent, awaiting response... 302 Found\n",
      "Location: http://current.geneontology.org/ontology/go-basic.obo [following]\n",
      "--2024-04-24 00:28:25--  http://current.geneontology.org/ontology/go-basic.obo\n",
      "Resolving current.geneontology.org (current.geneontology.org)... 2600:9000:24db:f200:d:ff6c:c780:93a1, 2600:9000:24db:aa00:d:ff6c:c780:93a1, 2600:9000:24db:ea00:d:ff6c:c780:93a1, ...\n",
      "Connecting to current.geneontology.org (current.geneontology.org)|2600:9000:24db:f200:d:ff6c:c780:93a1|:80... connected.\n",
      "HTTP request sent, awaiting response... 200 OK\n",
      "Length: 31245945 (30M) [text/obo]\n",
      "Saving to: ‘go-basic.obo’\n",
      "\n",
      "go-basic.obo        100%[===================>]  29.80M  9.38MB/s    in 3.2s    \n",
      "\n",
      "2024-04-24 00:28:29 (9.38 MB/s) - ‘go-basic.obo’ saved [31245945/31245945]\n",
      "\n"
     ]
    }
   ],
   "source": [
    "# Read the gene ontology\n",
    "!wget http://purl.obolibrary.org/obo/go/go-basic.obo \n",
    "original_graph = obonet.read_obo('go-basic.obo')\n",
    "!rm go-basic.obo"
   ]
  },
  {
   "cell_type": "markdown",
   "id": "2fa9f388fbfd678",
   "metadata": {},
   "source": [
    "## only keep the Biological Process (BP) subgraph"
   ]
  },
  {
   "cell_type": "code",
   "execution_count": 13,
   "id": "825a3673ae8a59bc",
   "metadata": {
    "ExecuteTime": {
     "end_time": "2024-04-23T16:19:52.060859Z",
     "start_time": "2024-04-23T16:19:52.012777Z"
    }
   },
   "outputs": [
    {
     "name": "stdout",
     "output_type": "stream",
     "text": [
      "Number of nodes in the graph 27046\n"
     ]
    }
   ],
   "source": [
    "bp_node = \"GO:0008150\"\n",
    "bp_graph_nodes = nx.ancestors(original_graph, bp_node)\n",
    "bp_graph_nodes.add(bp_node)\n",
    "bp_graph = original_graph.subgraph(bp_graph_nodes)\n",
    "print(\"Number of nodes in the graph\", len(bp_graph))"
   ]
  },
  {
   "cell_type": "markdown",
   "id": "daf48d53a87429d5",
   "metadata": {},
   "source": [
    "## filter the GO terms that are not in the graph"
   ]
  },
  {
   "cell_type": "code",
   "execution_count": 14,
   "id": "7a0d9856e8aab3b2",
   "metadata": {
    "ExecuteTime": {
     "end_time": "2024-04-23T16:19:52.090618Z",
     "start_time": "2024-04-23T16:19:52.063241Z"
    }
   },
   "outputs": [
    {
     "data": {
      "text/html": [
       "<div>\n",
       "<style scoped>\n",
       "    .dataframe tbody tr th:only-of-type {\n",
       "        vertical-align: middle;\n",
       "    }\n",
       "\n",
       "    .dataframe tbody tr th {\n",
       "        vertical-align: top;\n",
       "    }\n",
       "\n",
       "    .dataframe thead th {\n",
       "        text-align: right;\n",
       "    }\n",
       "</style>\n",
       "<table border=\"1\" class=\"dataframe\">\n",
       "  <thead>\n",
       "    <tr style=\"text-align: right;\">\n",
       "      <th></th>\n",
       "      <th>ENSEMBL</th>\n",
       "      <th>GO</th>\n",
       "    </tr>\n",
       "  </thead>\n",
       "  <tbody>\n",
       "    <tr>\n",
       "      <th>count</th>\n",
       "      <td>131767</td>\n",
       "      <td>131767</td>\n",
       "    </tr>\n",
       "    <tr>\n",
       "      <th>unique</th>\n",
       "      <td>17589</td>\n",
       "      <td>12101</td>\n",
       "    </tr>\n",
       "    <tr>\n",
       "      <th>top</th>\n",
       "      <td>ENSG00000148400</td>\n",
       "      <td>GO:0006357</td>\n",
       "    </tr>\n",
       "    <tr>\n",
       "      <th>freq</th>\n",
       "      <td>158</td>\n",
       "      <td>1426</td>\n",
       "    </tr>\n",
       "  </tbody>\n",
       "</table>\n",
       "</div>"
      ],
      "text/plain": [
       "                ENSEMBL          GO\n",
       "count            131767      131767\n",
       "unique            17589       12101\n",
       "top     ENSG00000148400  GO:0006357\n",
       "freq                158        1426"
      ]
     },
     "execution_count": 14,
     "metadata": {},
     "output_type": "execute_result"
    }
   ],
   "source": [
    "bp_db = bp_db[bp_db.GO.isin(bp_graph_nodes)]\n",
    "bp_db.describe()"
   ]
  },
  {
   "cell_type": "markdown",
   "id": "8ec6cfee1a5821d8",
   "metadata": {},
   "source": [
    "##  remove the branch whose all descendants nodes are not in the list of GO terms"
   ]
  },
  {
   "cell_type": "code",
   "execution_count": 15,
   "id": "a865e81c63a19523",
   "metadata": {
    "ExecuteTime": {
     "end_time": "2024-04-23T16:21:45.527840Z",
     "start_time": "2024-04-23T16:19:52.091253Z"
    }
   },
   "outputs": [
    {
     "name": "stderr",
     "output_type": "stream",
     "text": [
      "100%|██████████████████████████████████████████████████████████████████████████████████████████████████████████████████████████████████████████| 7256/7256 [01:26<00:00, 84.23it/s]\n"
     ]
    },
    {
     "data": {
      "text/plain": [
       "11707"
      ]
     },
     "execution_count": 15,
     "metadata": {},
     "output_type": "execute_result"
    }
   ],
   "source": [
    "from tqdm import tqdm\n",
    "\n",
    "leaves = [x for x in bp_graph_nodes if bp_graph.in_degree(x) == 0 and x not in bp_db_go]\n",
    "removes, keeps = set(), set()\n",
    "\n",
    "for child in tqdm(leaves):\n",
    "    ancestors = nx.descendants(bp_graph, child)\n",
    "    for ancestor in ancestors:\n",
    "        if ancestor not in removes and ancestor not in keeps:\n",
    "            if ancestor not in bp_db_go:\n",
    "                descendants = set(nx.ancestors(bp_graph, ancestor))\n",
    "                if len(descendants.intersection(bp_db_go)) == 0:\n",
    "                    removes.add(ancestor)\n",
    "                else:\n",
    "                    keeps.add(ancestor)\n",
    "            else:\n",
    "                keeps.add(ancestor)\n",
    "removes = removes.union(set(leaves))\n",
    "len(removes)"
   ]
  },
  {
   "cell_type": "markdown",
   "id": "9b2c1d5575b047ac",
   "metadata": {},
   "source": [
    "draw the subgraph to show the nodes that will be removed"
   ]
  },
  {
   "cell_type": "code",
   "execution_count": 16,
   "id": "eaf58ef40f6d11ce",
   "metadata": {
    "ExecuteTime": {
     "end_time": "2024-04-23T16:21:45.943973Z",
     "start_time": "2024-04-23T16:21:45.528866Z"
    }
   },
   "outputs": [
    {
     "name": "stdout",
     "output_type": "stream",
     "text": [
      "['GO:0044071', 'GO:0044068', 'GO:0009987', 'GO:0008150']\n",
      "Number of nodes in the sub graph 4\n",
      "Number of removed nodes 2 {'GO:0044068', 'GO:0044071'}\n"
     ]
    },
    {
     "data": {
      "image/png": "[encoded data removed]",
      "text/plain": [
       "<Figure size 640x480 with 1 Axes>"
      ]
     },
     "metadata": {},
     "output_type": "display_data"
    }
   ],
   "source": [
    "remove_nodes = set()\n",
    "tmp_nodes = []\n",
    "\n",
    "for node in removes:\n",
    "    tmp_nodes = nx.shortest_path(bp_graph, node, bp_node)\n",
    "    remove_nodes = set([x for x in tmp_nodes if x in removes])\n",
    "    if len(remove_nodes) > 1:\n",
    "        break\n",
    "\n",
    "print(tmp_nodes)\n",
    "tmp_subgraph = bp_graph.subgraph(tmp_nodes)\n",
    "\n",
    "colors = ['red' if node in removes else 'lightblue' for node in tmp_subgraph.nodes()]\n",
    "#print(colors)\n",
    "\n",
    "print(\"Number of nodes in the sub graph\", len(tmp_subgraph))\n",
    "print(\"Number of removed nodes\", len(remove_nodes), remove_nodes)\n",
    "\n",
    "nx.draw(tmp_subgraph, with_labels=True, node_color=colors)"
   ]
  },
  {
   "cell_type": "code",
   "execution_count": 17,
   "id": "2ad45c5fb51499cd",
   "metadata": {
    "ExecuteTime": {
     "end_time": "2024-04-23T16:21:45.980816Z",
     "start_time": "2024-04-23T16:21:45.945999Z"
    }
   },
   "outputs": [
    {
     "name": "stdout",
     "output_type": "stream",
     "text": [
      "Number of nodes in the graph 15339\n"
     ]
    }
   ],
   "source": [
    "bp_graph = bp_graph.subgraph(bp_graph_nodes - set(removes))\n",
    "print(\"Number of nodes in the graph\", len(bp_graph))"
   ]
  },
  {
   "cell_type": "markdown",
   "id": "5f4c097977476230",
   "metadata": {},
   "source": [
    "## for a genes, which connected to multiple GO terms in the same branch, only keep the GO term that is the closest to the leave "
   ]
  },
  {
   "cell_type": "code",
   "execution_count": 18,
   "id": "7ec1c72469a2edeb",
   "metadata": {
    "ExecuteTime": {
     "end_time": "2024-04-23T16:21:53.598850Z",
     "start_time": "2024-04-23T16:21:45.983018Z"
    }
   },
   "outputs": [
    {
     "data": {
      "text/plain": [
       "23719"
      ]
     },
     "execution_count": 18,
     "metadata": {},
     "output_type": "execute_result"
    }
   ],
   "source": [
    "go_genes_map = {}\n",
    "for idx, row in bp_db.iterrows():\n",
    "    go = row.GO\n",
    "    gene = row.ENSEMBL\n",
    "    if go not in go_genes_map:\n",
    "        go_genes_map[go] = set()\n",
    "    go_genes_map[go].add(gene)\n",
    "\n",
    "leaves = [x for x in bp_graph_nodes if bp_graph.in_degree(x) == 0]\n",
    "\n",
    "removes_terms = set()\n",
    "\n",
    "\n",
    "def dfs(node):\n",
    "    res = set()\n",
    "    if bp_graph.in_degree(node) != 0:  # collect all the genes from the parents\n",
    "        for parent in bp_graph.predecessors(node):\n",
    "            res = res.union(dfs(parent))\n",
    "    if node in go_genes_map:  # compare and record the genes that already appears in the parents\n",
    "        for gene in go_genes_map[node].intersection(res):\n",
    "            removes_terms.add(tuple([node, gene]))\n",
    "        res = res.union(go_genes_map[node])\n",
    "    return res\n",
    "\n",
    "\n",
    "_ = dfs(bp_node)\n",
    "len(removes_terms)"
   ]
  },
  {
   "cell_type": "markdown",
   "id": "b2a07b27a643b6e3",
   "metadata": {},
   "source": [
    "draw the subgraph to show the annotations that will be removed"
   ]
  },
  {
   "cell_type": "code",
   "execution_count": 19,
   "id": "5d13e6abdce9768d",
   "metadata": {
    "ExecuteTime": {
     "end_time": "2024-04-23T16:21:53.665194Z",
     "start_time": "2024-04-23T16:21:53.599564Z"
    }
   },
   "outputs": [
    {
     "name": "stdout",
     "output_type": "stream",
     "text": [
      "Number of nodes in the sub graph 8\n",
      "Number of nodes with the same genes 3 ['GO:0010468', 'GO:0043484', 'GO:0010629']\n"
     ]
    },
    {
     "data": {
      "image/png": "[encoded data removed]",
      "text/plain": [
       "<Figure size 640x480 with 1 Axes>"
      ]
     },
     "metadata": {},
     "output_type": "display_data"
    }
   ],
   "source": [
    "_go, _gene = list(removes_terms)[0]\n",
    "_all_go = set(bp_db[bp_db.ENSEMBL == _gene][\"GO\"].values)\n",
    "tmp_nodes = nx.shortest_path(bp_graph, _go, bp_node)\n",
    "for x in set(bp_graph.predecessors(_go)):\n",
    "    if x in _all_go:\n",
    "        tmp_nodes.append(x)\n",
    "\n",
    "same_genes_node = [x for x in tmp_nodes if x in _all_go]\n",
    "tmp_subgraph = bp_graph.subgraph(tmp_nodes)\n",
    "colors = ['red' if node in _all_go else 'lightblue' for node in tmp_subgraph.nodes()]\n",
    "print(\"Number of nodes in the sub graph\", len(tmp_subgraph))\n",
    "print(\"Number of nodes with the same genes\", len(same_genes_node), same_genes_node)\n",
    "\n",
    "nx.draw(tmp_subgraph, with_labels=True, node_color=colors)"
   ]
  },
  {
   "cell_type": "code",
   "execution_count": 20,
   "id": "da20fcb40ce0094f",
   "metadata": {
    "ExecuteTime": {
     "end_time": "2024-04-23T16:21:54.217636Z",
     "start_time": "2024-04-23T16:21:53.665876Z"
    }
   },
   "outputs": [
    {
     "data": {
      "text/html": [
       "<div>\n",
       "<style scoped>\n",
       "    .dataframe tbody tr th:only-of-type {\n",
       "        vertical-align: middle;\n",
       "    }\n",
       "\n",
       "    .dataframe tbody tr th {\n",
       "        vertical-align: top;\n",
       "    }\n",
       "\n",
       "    .dataframe thead th {\n",
       "        text-align: right;\n",
       "    }\n",
       "</style>\n",
       "<table border=\"1\" class=\"dataframe\">\n",
       "  <thead>\n",
       "    <tr style=\"text-align: right;\">\n",
       "      <th></th>\n",
       "      <th>ENSEMBL</th>\n",
       "      <th>GO</th>\n",
       "    </tr>\n",
       "  </thead>\n",
       "  <tbody>\n",
       "    <tr>\n",
       "      <th>count</th>\n",
       "      <td>108048</td>\n",
       "      <td>108048</td>\n",
       "    </tr>\n",
       "    <tr>\n",
       "      <th>unique</th>\n",
       "      <td>17589</td>\n",
       "      <td>11767</td>\n",
       "    </tr>\n",
       "    <tr>\n",
       "      <th>top</th>\n",
       "      <td>ENSG00000148400</td>\n",
       "      <td>GO:0045944</td>\n",
       "    </tr>\n",
       "    <tr>\n",
       "      <th>freq</th>\n",
       "      <td>126</td>\n",
       "      <td>1105</td>\n",
       "    </tr>\n",
       "  </tbody>\n",
       "</table>\n",
       "</div>"
      ],
      "text/plain": [
       "                ENSEMBL          GO\n",
       "count            108048      108048\n",
       "unique            17589       11767\n",
       "top     ENSG00000148400  GO:0045944\n",
       "freq                126        1105"
      ]
     },
     "execution_count": 20,
     "metadata": {},
     "output_type": "execute_result"
    }
   ],
   "source": [
    "bp_db = bp_db[~bp_db.apply(lambda x: tuple([x.GO, x.ENSEMBL]) in removes_terms, axis=1)]\n",
    "bp_db.describe()"
   ]
  },
  {
   "cell_type": "markdown",
   "id": "647cf9ba57d51f12",
   "metadata": {},
   "source": [
    "## define a function that can remove the lowest level of the GO terms, and re-assign the genes to the parent GO term"
   ]
  },
  {
   "cell_type": "code",
   "execution_count": 21,
   "id": "edf63e5cb21327f8",
   "metadata": {
    "ExecuteTime": {
     "end_time": "2024-04-23T16:21:54.940823Z",
     "start_time": "2024-04-23T16:21:54.218305Z"
    }
   },
   "outputs": [],
   "source": [
    "def remove_lowest_level(graph, bp_df):\n",
    "    _leaves = [x for x in graph.nodes if graph.in_degree(x) == 0]\n",
    "    new_tuples = set()\n",
    "    for _idx, _row in bp_df[bp_df.GO.isin(_leaves)].iterrows():\n",
    "        _gene = _row.ENSEMBL\n",
    "        _go = _row.GO\n",
    "        for _parent in graph.successors(_go):\n",
    "            new_tuples.add((_gene, _parent))\n",
    "    new_df = pd.concat([bp_df[~bp_df.GO.isin(_leaves)], pd.DataFrame(new_tuples, columns=[\"ENSEMBL\", \"GO\"])],\n",
    "                       ignore_index=True)\n",
    "    new_graph = graph.subgraph(set(graph.nodes) - set(_leaves))\n",
    "    return new_graph, new_df\n",
    "\n",
    "\n",
    "sub_graph, sub_bp_db = remove_lowest_level(bp_graph, bp_db)"
   ]
  },
  {
   "cell_type": "code",
   "execution_count": 22,
   "id": "25259643432bf1eb",
   "metadata": {
    "ExecuteTime": {
     "end_time": "2024-04-23T16:21:54.977042Z",
     "start_time": "2024-04-23T16:21:54.941783Z"
    }
   },
   "outputs": [
    {
     "name": "stdout",
     "output_type": "stream",
     "text": [
      "After removing the lowest level, the number of nodes in the graph 9917\n"
     ]
    },
    {
     "data": {
      "text/html": [
       "<div>\n",
       "<style scoped>\n",
       "    .dataframe tbody tr th:only-of-type {\n",
       "        vertical-align: middle;\n",
       "    }\n",
       "\n",
       "    .dataframe tbody tr th {\n",
       "        vertical-align: top;\n",
       "    }\n",
       "\n",
       "    .dataframe thead th {\n",
       "        text-align: right;\n",
       "    }\n",
       "</style>\n",
       "<table border=\"1\" class=\"dataframe\">\n",
       "  <thead>\n",
       "    <tr style=\"text-align: right;\">\n",
       "      <th></th>\n",
       "      <th>ENSEMBL</th>\n",
       "      <th>GO</th>\n",
       "    </tr>\n",
       "  </thead>\n",
       "  <tbody>\n",
       "    <tr>\n",
       "      <th>count</th>\n",
       "      <td>147459</td>\n",
       "      <td>147459</td>\n",
       "    </tr>\n",
       "    <tr>\n",
       "      <th>unique</th>\n",
       "      <td>17589</td>\n",
       "      <td>8775</td>\n",
       "    </tr>\n",
       "    <tr>\n",
       "      <th>top</th>\n",
       "      <td>ENSG00000148400</td>\n",
       "      <td>GO:0045944</td>\n",
       "    </tr>\n",
       "    <tr>\n",
       "      <th>freq</th>\n",
       "      <td>206</td>\n",
       "      <td>1165</td>\n",
       "    </tr>\n",
       "  </tbody>\n",
       "</table>\n",
       "</div>"
      ],
      "text/plain": [
       "                ENSEMBL          GO\n",
       "count            147459      147459\n",
       "unique            17589        8775\n",
       "top     ENSG00000148400  GO:0045944\n",
       "freq                206        1165"
      ]
     },
     "execution_count": 22,
     "metadata": {},
     "output_type": "execute_result"
    }
   ],
   "source": [
    "print(\"After removing the lowest level, the number of nodes in the graph\", len(sub_graph))\n",
    "sub_bp_db = sub_bp_db.drop_duplicates()\n",
    "sub_bp_db.describe()"
   ]
  },
  {
   "cell_type": "markdown",
   "id": "977c71e1f604520e",
   "metadata": {},
   "source": [
    "draw the subgraph to show the nodes that will be removed"
   ]
  },
  {
   "cell_type": "code",
   "execution_count": 23,
   "id": "8442a4b95d62bfec",
   "metadata": {
    "ExecuteTime": {
     "end_time": "2024-04-23T16:21:55.063612Z",
     "start_time": "2024-04-23T16:21:54.977734Z"
    }
   },
   "outputs": [
    {
     "name": "stdout",
     "output_type": "stream",
     "text": [
      "['GO:0010248', 'GO:0034220', 'GO:0055085', 'GO:0009987', 'GO:0008150']\n",
      "Number of nodes in the sub graph 10\n",
      "Number of removed nodes 1 ['GO:0010248']\n",
      "Genes before re-assign:\n",
      "                ENSEMBL          GO\n",
      "290     ENSG00000002834  GO:0034220\n",
      "3879    ENSG00000018625  GO:0010248\n",
      "4891    ENSG00000030110  GO:0010248\n",
      "7587    ENSG00000058063  GO:0034220\n",
      "13183   ENSG00000075673  GO:0010248\n",
      "...                 ...         ...\n",
      "134235  ENSG00000189077  GO:0034220\n",
      "136078  ENSG00000196811  GO:0034220\n",
      "138089  ENSG00000197956  GO:0034220\n",
      "144343  ENSG00000206190  GO:0034220\n",
      "166550  ENSG00000249242  GO:0034220\n",
      "\n",
      "[68 rows x 2 columns]\n",
      "Genes after re-assign:\n",
      "                ENSEMBL          GO\n",
      "145     ENSG00000002834  GO:0034220\n",
      "4093    ENSG00000058063  GO:0034220\n",
      "8101    ENSG00000080644  GO:0034220\n",
      "8432    ENSG00000081923  GO:0034220\n",
      "13091   ENSG00000101204  GO:0034220\n",
      "...                 ...         ...\n",
      "120003  ENSG00000137731  GO:0034220\n",
      "120513  ENSG00000018625  GO:0034220\n",
      "128810  ENSG00000175003  GO:0034220\n",
      "130521  ENSG00000105675  GO:0034220\n",
      "139978  ENSG00000105409  GO:0034220\n",
      "\n",
      "[68 rows x 2 columns]\n"
     ]
    },
    {
     "data": {
      "image/png": "[encoded data removed]",
      "text/plain": [
       "<Figure size 640x480 with 1 Axes>"
      ]
     },
     "metadata": {},
     "output_type": "display_data"
    }
   ],
   "source": [
    "removed_nodes = list(set(bp_graph.nodes) - set(sub_graph.nodes))\n",
    "tmp_nodes = nx.shortest_path(bp_graph, removed_nodes[0], bp_node)\n",
    "tmp_nodes2 = nx.shortest_path(bp_graph, removed_nodes[1], bp_node)\n",
    "print(tmp_nodes)\n",
    "\n",
    "tmp_subgraph = bp_graph.subgraph(tmp_nodes+tmp_nodes2)\n",
    "\n",
    "colors = ['red' if node in removed_nodes else 'lightblue' for node in tmp_subgraph.nodes()]\n",
    "#print(colors)\n",
    "\n",
    "print(\"Number of nodes in the sub graph\", len(tmp_subgraph))\n",
    "print(\"Number of removed nodes\", len(removed_nodes[:1]), removed_nodes[:1])\n",
    "print(\"Genes before re-assign:\")\n",
    "print(bp_db[bp_db.GO.isin(tmp_nodes[:2])])\n",
    "print(\"Genes after re-assign:\")\n",
    "print(sub_bp_db[sub_bp_db.GO.isin(tmp_nodes[:2])])\n",
    "\n",
    "nx.draw(tmp_subgraph, with_labels=True, node_color=colors)"
   ]
  },
  {
   "cell_type": "code",
   "execution_count": 24,
   "id": "ccb0046620e33e3c",
   "metadata": {
    "ExecuteTime": {
     "end_time": "2024-04-23T16:21:55.755454Z",
     "start_time": "2024-04-23T16:21:55.064386Z"
    }
   },
   "outputs": [],
   "source": [
    "def remove_lowest_level(graph, bp_df):\n",
    "    _leaves = [x for x in graph.nodes if graph.in_degree(x) == 0]\n",
    "    new_tuples = set()\n",
    "    for _idx, _row in bp_df[bp_df.GO.isin(_leaves)].iterrows():\n",
    "        _gene = _row.ENSEMBL\n",
    "        _go = _row.GO\n",
    "        for _parent in graph.successors(_go):\n",
    "            new_tuples.add((_gene, _parent))\n",
    "    new_df = pd.concat([bp_df[~bp_df.GO.isin(_leaves)], pd.DataFrame(new_tuples, columns=[\"ENSEMBL\", \"GO\"])],\n",
    "                       ignore_index=True)\n",
    "    new_graph = graph.subgraph(set(graph.nodes) - set(_leaves))\n",
    "    return new_graph, new_df\n",
    "\n",
    "\n",
    "sub_graph_2, sub_bp_db_2 = remove_lowest_level(sub_graph, sub_bp_db)"
   ]
  },
  {
   "cell_type": "code",
   "execution_count": 25,
   "id": "8fcbb290382cfc0",
   "metadata": {
    "ExecuteTime": {
     "end_time": "2024-04-23T16:21:55.798093Z",
     "start_time": "2024-04-23T16:21:55.756122Z"
    }
   },
   "outputs": [
    {
     "name": "stdout",
     "output_type": "stream",
     "text": [
      "After removing the lowest two levels, the number of nodes in the graph 6273\n"
     ]
    },
    {
     "data": {
      "text/html": [
       "<div>\n",
       "<style scoped>\n",
       "    .dataframe tbody tr th:only-of-type {\n",
       "        vertical-align: middle;\n",
       "    }\n",
       "\n",
       "    .dataframe tbody tr th {\n",
       "        vertical-align: top;\n",
       "    }\n",
       "\n",
       "    .dataframe thead th {\n",
       "        text-align: right;\n",
       "    }\n",
       "</style>\n",
       "<table border=\"1\" class=\"dataframe\">\n",
       "  <thead>\n",
       "    <tr style=\"text-align: right;\">\n",
       "      <th></th>\n",
       "      <th>ENSEMBL</th>\n",
       "      <th>GO</th>\n",
       "    </tr>\n",
       "  </thead>\n",
       "  <tbody>\n",
       "    <tr>\n",
       "      <th>count</th>\n",
       "      <td>181226</td>\n",
       "      <td>181226</td>\n",
       "    </tr>\n",
       "    <tr>\n",
       "      <th>unique</th>\n",
       "      <td>17589</td>\n",
       "      <td>5860</td>\n",
       "    </tr>\n",
       "    <tr>\n",
       "      <th>top</th>\n",
       "      <td>ENSG00000148400</td>\n",
       "      <td>GO:0045944</td>\n",
       "    </tr>\n",
       "    <tr>\n",
       "      <th>freq</th>\n",
       "      <td>248</td>\n",
       "      <td>1206</td>\n",
       "    </tr>\n",
       "  </tbody>\n",
       "</table>\n",
       "</div>"
      ],
      "text/plain": [
       "                ENSEMBL          GO\n",
       "count            181226      181226\n",
       "unique            17589        5860\n",
       "top     ENSG00000148400  GO:0045944\n",
       "freq                248        1206"
      ]
     },
     "execution_count": 25,
     "metadata": {},
     "output_type": "execute_result"
    }
   ],
   "source": [
    "print(\"After removing the lowest two levels, the number of nodes in the graph\", len(sub_graph_2))\n",
    "sub_bp_db_2 = sub_bp_db_2.drop_duplicates()\n",
    "sub_bp_db_2.describe()"
   ]
  },
  {
   "cell_type": "markdown",
   "id": "d2a2300e710d0a5b",
   "metadata": {},
   "source": [
    "## write the GO annotations and the GO graph to a file"
   ]
  },
  {
   "cell_type": "code",
   "execution_count": 26,
   "id": "2b1c6cad2597d79c",
   "metadata": {
    "ExecuteTime": {
     "end_time": "2024-04-23T16:21:56.002967Z",
     "start_time": "2024-04-23T16:21:55.798752Z"
    }
   },
   "outputs": [],
   "source": [
    "def write_gml(graph, filename):\n",
    "    tmp_graph = nx.Graph()\n",
    "    tmp_graph.add_nodes_from(graph.nodes())\n",
    "    tmp_graph.add_edges_from(graph.edges())\n",
    "    nx.write_gml(tmp_graph, \"../data/\" + filename + \".gml\")\n",
    "\n",
    "\n",
    "bp_db.reset_index(drop=True, inplace=True)\n",
    "sub_bp_db.to_csv(\"../data/bp_db.csv\")\n",
    "write_gml(sub_graph, \"bp_graph\")"
   ]
  },
  {
   "cell_type": "markdown",
   "id": "a3c3935840b4942d",
   "metadata": {},
   "source": []
  }
 ],
 "metadata": {
  "kernelspec": {
   "display_name": "Python 3 (ipykernel)",
   "language": "python",
   "name": "python3"
  },
  "language_info": {
   "codemirror_mode": {
    "name": "ipython",
    "version": 3
   },
   "file_extension": ".py",
   "mimetype": "text/x-python",
   "name": "python",
   "nbconvert_exporter": "python",
   "pygments_lexer": "ipython3",
   "version": "3.11.7"
  }
 },
 "nbformat": 4,
 "nbformat_minor": 5
}
