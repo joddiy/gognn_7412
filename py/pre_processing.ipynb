{
 "cells": [
  {
   "cell_type": "code",
   "id": "cdcfbde79d35818e",
   "metadata": {
    "ExecuteTime": {
     "end_time": "2024-04-18T16:45:34.141849Z",
     "start_time": "2024-04-18T16:45:34.137219Z"
    }
   },
   "source": [
    "import pandas as pd\n",
    "import numpy as np\n",
    "import obonet\n",
    "import networkx as nx"
   ],
   "outputs": [],
   "execution_count": 19
  },
  {
   "cell_type": "markdown",
   "id": "c0dc7edd201e6ea3",
   "metadata": {},
   "source": [
    "# Load the data generated from the R code"
   ]
  },
  {
   "cell_type": "code",
   "id": "6e21320f8ba31a12",
   "metadata": {
    "ExecuteTime": {
     "end_time": "2024-04-18T16:51:32.156515Z",
     "start_time": "2024-04-18T16:51:32.091944Z"
    }
   },
   "source": [
    "bp_db = pd.read_csv(\"../data/annotations-gene-GO.csv\")\n",
    "bp_db = bp_db.drop_duplicates()\n",
    "bp_db.head()"
   ],
   "outputs": [
    {
     "data": {
      "text/plain": [
       "           ENSEMBL          GO\n",
       "0  ENSG00000000003  GO:0039532\n",
       "1  ENSG00000000003  GO:0043123\n",
       "2  ENSG00000000003  GO:1901223\n",
       "3  ENSG00000000005  GO:0001886\n",
       "4  ENSG00000000005  GO:0001937"
      ],
      "text/html": [
       "<div>\n",
       "<style scoped>\n",
       "    .dataframe tbody tr th:only-of-type {\n",
       "        vertical-align: middle;\n",
       "    }\n",
       "\n",
       "    .dataframe tbody tr th {\n",
       "        vertical-align: top;\n",
       "    }\n",
       "\n",
       "    .dataframe thead th {\n",
       "        text-align: right;\n",
       "    }\n",
       "</style>\n",
       "<table border=\"1\" class=\"dataframe\">\n",
       "  <thead>\n",
       "    <tr style=\"text-align: right;\">\n",
       "      <th></th>\n",
       "      <th>ENSEMBL</th>\n",
       "      <th>GO</th>\n",
       "    </tr>\n",
       "  </thead>\n",
       "  <tbody>\n",
       "    <tr>\n",
       "      <th>0</th>\n",
       "      <td>ENSG00000000003</td>\n",
       "      <td>GO:0039532</td>\n",
       "    </tr>\n",
       "    <tr>\n",
       "      <th>1</th>\n",
       "      <td>ENSG00000000003</td>\n",
       "      <td>GO:0043123</td>\n",
       "    </tr>\n",
       "    <tr>\n",
       "      <th>2</th>\n",
       "      <td>ENSG00000000003</td>\n",
       "      <td>GO:1901223</td>\n",
       "    </tr>\n",
       "    <tr>\n",
       "      <th>3</th>\n",
       "      <td>ENSG00000000005</td>\n",
       "      <td>GO:0001886</td>\n",
       "    </tr>\n",
       "    <tr>\n",
       "      <th>4</th>\n",
       "      <td>ENSG00000000005</td>\n",
       "      <td>GO:0001937</td>\n",
       "    </tr>\n",
       "  </tbody>\n",
       "</table>\n",
       "</div>"
      ]
     },
     "execution_count": 56,
     "metadata": {},
     "output_type": "execute_result"
    }
   ],
   "execution_count": 56
  },
  {
   "metadata": {
    "ExecuteTime": {
     "end_time": "2024-04-18T16:51:27.883898Z",
     "start_time": "2024-04-18T16:51:27.855593Z"
    }
   },
   "cell_type": "code",
   "source": "bp_db.describe()",
   "id": "4816eb5c0c66d9cc",
   "outputs": [
    {
     "data": {
      "text/plain": [
       "                ENSEMBL          GO\n",
       "count            132627      132627\n",
       "unique            17599       12305\n",
       "top     ENSG00000148400  GO:0006357\n",
       "freq                158        1426"
      ],
      "text/html": [
       "<div>\n",
       "<style scoped>\n",
       "    .dataframe tbody tr th:only-of-type {\n",
       "        vertical-align: middle;\n",
       "    }\n",
       "\n",
       "    .dataframe tbody tr th {\n",
       "        vertical-align: top;\n",
       "    }\n",
       "\n",
       "    .dataframe thead th {\n",
       "        text-align: right;\n",
       "    }\n",
       "</style>\n",
       "<table border=\"1\" class=\"dataframe\">\n",
       "  <thead>\n",
       "    <tr style=\"text-align: right;\">\n",
       "      <th></th>\n",
       "      <th>ENSEMBL</th>\n",
       "      <th>GO</th>\n",
       "    </tr>\n",
       "  </thead>\n",
       "  <tbody>\n",
       "    <tr>\n",
       "      <th>count</th>\n",
       "      <td>132627</td>\n",
       "      <td>132627</td>\n",
       "    </tr>\n",
       "    <tr>\n",
       "      <th>unique</th>\n",
       "      <td>17599</td>\n",
       "      <td>12305</td>\n",
       "    </tr>\n",
       "    <tr>\n",
       "      <th>top</th>\n",
       "      <td>ENSG00000148400</td>\n",
       "      <td>GO:0006357</td>\n",
       "    </tr>\n",
       "    <tr>\n",
       "      <th>freq</th>\n",
       "      <td>158</td>\n",
       "      <td>1426</td>\n",
       "    </tr>\n",
       "  </tbody>\n",
       "</table>\n",
       "</div>"
      ]
     },
     "execution_count": 55,
     "metadata": {},
     "output_type": "execute_result"
    }
   ],
   "execution_count": 55
  },
  {
   "cell_type": "code",
   "id": "89e52c314dbc130f",
   "metadata": {
    "ExecuteTime": {
     "end_time": "2024-04-18T16:45:40.515099Z",
     "start_time": "2024-04-18T16:45:37.029520Z"
    }
   },
   "source": [
    "counts1 = pd.read_csv(\"../data/counts1.csv\", index_col=0)\n",
    "counts1.head()"
   ],
   "outputs": [
    {
     "data": {
      "text/plain": [
       "         ENSG00000000003  ENSG00000000005  ENSG00000000419  ENSG00000000457  \\\n",
       "089357B               14                7              103              241   \n",
       "089366A               11                2              194              511   \n",
       "089412B                8                0              312              450   \n",
       "089425B                9                0              135              496   \n",
       "089687A                4                0               89              267   \n",
       "\n",
       "         ENSG00000000460  ENSG00000000938  ENSG00000000971  ENSG00000001036  \\\n",
       "089357B               72             2057               30               60   \n",
       "089366A              110             3325               36              111   \n",
       "089412B              106             3751               45              160   \n",
       "089425B              133             2758               26               93   \n",
       "089687A               49             2181               24               75   \n",
       "\n",
       "         ENSG00000001084  ENSG00000001167  ...  ENSGR0000167393  \\\n",
       "089357B              207              367  ...                1   \n",
       "089366A              186              530  ...                0   \n",
       "089412B              325              653  ...                0   \n",
       "089425B              182              620  ...                0   \n",
       "089687A              122              263  ...                0   \n",
       "\n",
       "         ENSGR0000169084  ENSGR0000169093  ENSGR0000178605  ENSGR0000182378  \\\n",
       "089357B                0                0                0                0   \n",
       "089366A                0                0                0                0   \n",
       "089412B                0                0                0                0   \n",
       "089425B                0                0                0                0   \n",
       "089687A                0                0                0                0   \n",
       "\n",
       "         ENSGR0000185291  ENSGR0000198223  ENSGR0000214717  ENSGR0000223511  \\\n",
       "089357B                0                0                0                0   \n",
       "089366A                0                1                0                0   \n",
       "089412B                0                1                0                0   \n",
       "089425B                0                0                0                0   \n",
       "089687A                0                1                0                0   \n",
       "\n",
       "         ENSGR0000223773  \n",
       "089357B                0  \n",
       "089366A                1  \n",
       "089412B                0  \n",
       "089425B                0  \n",
       "089687A                0  \n",
       "\n",
       "[5 rows x 52645 columns]"
      ],
      "text/html": [
       "<div>\n",
       "<style scoped>\n",
       "    .dataframe tbody tr th:only-of-type {\n",
       "        vertical-align: middle;\n",
       "    }\n",
       "\n",
       "    .dataframe tbody tr th {\n",
       "        vertical-align: top;\n",
       "    }\n",
       "\n",
       "    .dataframe thead th {\n",
       "        text-align: right;\n",
       "    }\n",
       "</style>\n",
       "<table border=\"1\" class=\"dataframe\">\n",
       "  <thead>\n",
       "    <tr style=\"text-align: right;\">\n",
       "      <th></th>\n",
       "      <th>ENSG00000000003</th>\n",
       "      <th>ENSG00000000005</th>\n",
       "      <th>ENSG00000000419</th>\n",
       "      <th>ENSG00000000457</th>\n",
       "      <th>ENSG00000000460</th>\n",
       "      <th>ENSG00000000938</th>\n",
       "      <th>ENSG00000000971</th>\n",
       "      <th>ENSG00000001036</th>\n",
       "      <th>ENSG00000001084</th>\n",
       "      <th>ENSG00000001167</th>\n",
       "      <th>...</th>\n",
       "      <th>ENSGR0000167393</th>\n",
       "      <th>ENSGR0000169084</th>\n",
       "      <th>ENSGR0000169093</th>\n",
       "      <th>ENSGR0000178605</th>\n",
       "      <th>ENSGR0000182378</th>\n",
       "      <th>ENSGR0000185291</th>\n",
       "      <th>ENSGR0000198223</th>\n",
       "      <th>ENSGR0000214717</th>\n",
       "      <th>ENSGR0000223511</th>\n",
       "      <th>ENSGR0000223773</th>\n",
       "    </tr>\n",
       "  </thead>\n",
       "  <tbody>\n",
       "    <tr>\n",
       "      <th>089357B</th>\n",
       "      <td>14</td>\n",
       "      <td>7</td>\n",
       "      <td>103</td>\n",
       "      <td>241</td>\n",
       "      <td>72</td>\n",
       "      <td>2057</td>\n",
       "      <td>30</td>\n",
       "      <td>60</td>\n",
       "      <td>207</td>\n",
       "      <td>367</td>\n",
       "      <td>...</td>\n",
       "      <td>1</td>\n",
       "      <td>0</td>\n",
       "      <td>0</td>\n",
       "      <td>0</td>\n",
       "      <td>0</td>\n",
       "      <td>0</td>\n",
       "      <td>0</td>\n",
       "      <td>0</td>\n",
       "      <td>0</td>\n",
       "      <td>0</td>\n",
       "    </tr>\n",
       "    <tr>\n",
       "      <th>089366A</th>\n",
       "      <td>11</td>\n",
       "      <td>2</td>\n",
       "      <td>194</td>\n",
       "      <td>511</td>\n",
       "      <td>110</td>\n",
       "      <td>3325</td>\n",
       "      <td>36</td>\n",
       "      <td>111</td>\n",
       "      <td>186</td>\n",
       "      <td>530</td>\n",
       "      <td>...</td>\n",
       "      <td>0</td>\n",
       "      <td>0</td>\n",
       "      <td>0</td>\n",
       "      <td>0</td>\n",
       "      <td>0</td>\n",
       "      <td>0</td>\n",
       "      <td>1</td>\n",
       "      <td>0</td>\n",
       "      <td>0</td>\n",
       "      <td>1</td>\n",
       "    </tr>\n",
       "    <tr>\n",
       "      <th>089412B</th>\n",
       "      <td>8</td>\n",
       "      <td>0</td>\n",
       "      <td>312</td>\n",
       "      <td>450</td>\n",
       "      <td>106</td>\n",
       "      <td>3751</td>\n",
       "      <td>45</td>\n",
       "      <td>160</td>\n",
       "      <td>325</td>\n",
       "      <td>653</td>\n",
       "      <td>...</td>\n",
       "      <td>0</td>\n",
       "      <td>0</td>\n",
       "      <td>0</td>\n",
       "      <td>0</td>\n",
       "      <td>0</td>\n",
       "      <td>0</td>\n",
       "      <td>1</td>\n",
       "      <td>0</td>\n",
       "      <td>0</td>\n",
       "      <td>0</td>\n",
       "    </tr>\n",
       "    <tr>\n",
       "      <th>089425B</th>\n",
       "      <td>9</td>\n",
       "      <td>0</td>\n",
       "      <td>135</td>\n",
       "      <td>496</td>\n",
       "      <td>133</td>\n",
       "      <td>2758</td>\n",
       "      <td>26</td>\n",
       "      <td>93</td>\n",
       "      <td>182</td>\n",
       "      <td>620</td>\n",
       "      <td>...</td>\n",
       "      <td>0</td>\n",
       "      <td>0</td>\n",
       "      <td>0</td>\n",
       "      <td>0</td>\n",
       "      <td>0</td>\n",
       "      <td>0</td>\n",
       "      <td>0</td>\n",
       "      <td>0</td>\n",
       "      <td>0</td>\n",
       "      <td>0</td>\n",
       "    </tr>\n",
       "    <tr>\n",
       "      <th>089687A</th>\n",
       "      <td>4</td>\n",
       "      <td>0</td>\n",
       "      <td>89</td>\n",
       "      <td>267</td>\n",
       "      <td>49</td>\n",
       "      <td>2181</td>\n",
       "      <td>24</td>\n",
       "      <td>75</td>\n",
       "      <td>122</td>\n",
       "      <td>263</td>\n",
       "      <td>...</td>\n",
       "      <td>0</td>\n",
       "      <td>0</td>\n",
       "      <td>0</td>\n",
       "      <td>0</td>\n",
       "      <td>0</td>\n",
       "      <td>0</td>\n",
       "      <td>1</td>\n",
       "      <td>0</td>\n",
       "      <td>0</td>\n",
       "      <td>0</td>\n",
       "    </tr>\n",
       "  </tbody>\n",
       "</table>\n",
       "<p>5 rows × 52645 columns</p>\n",
       "</div>"
      ]
     },
     "execution_count": 21,
     "metadata": {},
     "output_type": "execute_result"
    }
   ],
   "execution_count": 21
  },
  {
   "cell_type": "code",
   "id": "2f66d52f7e455138",
   "metadata": {
    "ExecuteTime": {
     "end_time": "2024-04-18T16:45:40.520886Z",
     "start_time": "2024-04-18T16:45:40.516029Z"
    }
   },
   "source": [
    "pheno1 = pd.read_csv(\"../data/pheno1.csv\", index_col=0)\n",
    "pheno1.head()"
   ],
   "outputs": [
    {
     "data": {
      "text/plain": [
       "         age diagnosis sex  lithium condition\n",
       "089357B   18   Control   F        0   Control\n",
       "089366A   19   Control   F        0   Control\n",
       "089412B   23   Control   F        0   Control\n",
       "089425B   47   Control   F        0   Control\n",
       "089687A   52   Control   F        0   Control"
      ],
      "text/html": [
       "<div>\n",
       "<style scoped>\n",
       "    .dataframe tbody tr th:only-of-type {\n",
       "        vertical-align: middle;\n",
       "    }\n",
       "\n",
       "    .dataframe tbody tr th {\n",
       "        vertical-align: top;\n",
       "    }\n",
       "\n",
       "    .dataframe thead th {\n",
       "        text-align: right;\n",
       "    }\n",
       "</style>\n",
       "<table border=\"1\" class=\"dataframe\">\n",
       "  <thead>\n",
       "    <tr style=\"text-align: right;\">\n",
       "      <th></th>\n",
       "      <th>age</th>\n",
       "      <th>diagnosis</th>\n",
       "      <th>sex</th>\n",
       "      <th>lithium</th>\n",
       "      <th>condition</th>\n",
       "    </tr>\n",
       "  </thead>\n",
       "  <tbody>\n",
       "    <tr>\n",
       "      <th>089357B</th>\n",
       "      <td>18</td>\n",
       "      <td>Control</td>\n",
       "      <td>F</td>\n",
       "      <td>0</td>\n",
       "      <td>Control</td>\n",
       "    </tr>\n",
       "    <tr>\n",
       "      <th>089366A</th>\n",
       "      <td>19</td>\n",
       "      <td>Control</td>\n",
       "      <td>F</td>\n",
       "      <td>0</td>\n",
       "      <td>Control</td>\n",
       "    </tr>\n",
       "    <tr>\n",
       "      <th>089412B</th>\n",
       "      <td>23</td>\n",
       "      <td>Control</td>\n",
       "      <td>F</td>\n",
       "      <td>0</td>\n",
       "      <td>Control</td>\n",
       "    </tr>\n",
       "    <tr>\n",
       "      <th>089425B</th>\n",
       "      <td>47</td>\n",
       "      <td>Control</td>\n",
       "      <td>F</td>\n",
       "      <td>0</td>\n",
       "      <td>Control</td>\n",
       "    </tr>\n",
       "    <tr>\n",
       "      <th>089687A</th>\n",
       "      <td>52</td>\n",
       "      <td>Control</td>\n",
       "      <td>F</td>\n",
       "      <td>0</td>\n",
       "      <td>Control</td>\n",
       "    </tr>\n",
       "  </tbody>\n",
       "</table>\n",
       "</div>"
      ]
     },
     "execution_count": 22,
     "metadata": {},
     "output_type": "execute_result"
    }
   ],
   "execution_count": 22
  },
  {
   "cell_type": "markdown",
   "id": "9f1f9eccef0f836",
   "metadata": {},
   "source": [
    "# Data Exploration Analysis"
   ]
  },
  {
   "cell_type": "code",
   "id": "9eb7b0b407e3e4c0",
   "metadata": {
    "ExecuteTime": {
     "end_time": "2024-04-18T16:49:56.295733Z",
     "start_time": "2024-04-18T16:49:56.282267Z"
    }
   },
   "source": [
    "available_genes = set(bp_db.ENSEMBL)\n",
    "(\"length of all_genes :\", len(available_genes))"
   ],
   "outputs": [
    {
     "data": {
      "text/plain": [
       "('length of all_genes :', 17600)"
      ]
     },
     "execution_count": 48,
     "metadata": {},
     "output_type": "execute_result"
    }
   ],
   "execution_count": 48
  },
  {
   "cell_type": "code",
   "id": "26a89637c0cec476",
   "metadata": {
    "ExecuteTime": {
     "end_time": "2024-04-18T16:46:34.474525Z",
     "start_time": "2024-04-18T16:46:34.467357Z"
    }
   },
   "source": [
    "data_genes = set(counts1.columns)\n",
    "(\"length of data_genes :\", len(data_genes))"
   ],
   "outputs": [
    {
     "data": {
      "text/plain": [
       "('length of data_genes :', 52645)"
      ]
     },
     "execution_count": 36,
     "metadata": {},
     "output_type": "execute_result"
    }
   ],
   "execution_count": 36
  },
  {
   "cell_type": "code",
   "id": "170bd4f7cf1820a0",
   "metadata": {
    "ExecuteTime": {
     "end_time": "2024-04-18T16:46:34.651214Z",
     "start_time": "2024-04-18T16:46:34.646716Z"
    }
   },
   "source": [
    "(\"Number of genes missing :\", len(data_genes - available_genes))"
   ],
   "outputs": [
    {
     "data": {
      "text/plain": [
       "('Number of genes missing :', 35046)"
      ]
     },
     "execution_count": 37,
     "metadata": {},
     "output_type": "execute_result"
    }
   ],
   "execution_count": 37
  },
  {
   "cell_type": "code",
   "id": "24ad05188a12a669",
   "metadata": {
    "ExecuteTime": {
     "end_time": "2024-04-18T16:46:34.894485Z",
     "start_time": "2024-04-18T16:46:34.889479Z"
    }
   },
   "source": [
    "(\"Ratio of genes missing : {:.2f}%\".format(len(data_genes - available_genes) / len(data_genes) * 100))"
   ],
   "outputs": [
    {
     "data": {
      "text/plain": [
       "'Ratio of genes missing : 66.57%'"
      ]
     },
     "execution_count": 38,
     "metadata": {},
     "output_type": "execute_result"
    }
   ],
   "execution_count": 38
  },
  {
   "cell_type": "markdown",
   "id": "3a82ebd78225a2ad",
   "metadata": {},
   "source": [
    "## load GO graph"
   ]
  },
  {
   "cell_type": "code",
   "id": "b9be098898934092",
   "metadata": {
    "ExecuteTime": {
     "end_time": "2024-04-18T16:46:44.301271Z",
     "start_time": "2024-04-18T16:46:35.772554Z"
    }
   },
   "source": [
    "# Read the gene ontology\n",
    "!wget http://purl.obolibrary.org/obo/go/go-basic.obo \n",
    "original_graph = obonet.read_obo('go-basic.obo')\n",
    "!rm go-basic.obo"
   ],
   "outputs": [
    {
     "name": "stdout",
     "output_type": "stream",
     "text": [
      "--2024-04-19 00:46:35--  http://purl.obolibrary.org/obo/go/go-basic.obo\r\n",
      "Resolving purl.obolibrary.org (purl.obolibrary.org)... 2606:4700:4400::6812:253b, 2606:4700:4400::ac40:96c5, 172.64.150.197, ...\r\n",
      "Connecting to purl.obolibrary.org (purl.obolibrary.org)|2606:4700:4400::6812:253b|:80... connected.\r\n",
      "HTTP request sent, awaiting response... 302 Found\r\n",
      "Location: http://current.geneontology.org/ontology/go-basic.obo [following]\r\n",
      "--2024-04-19 00:46:37--  http://current.geneontology.org/ontology/go-basic.obo\r\n",
      "Resolving current.geneontology.org (current.geneontology.org)... 2600:9000:24db:1a00:d:ff6c:c780:93a1, 2600:9000:24db:6600:d:ff6c:c780:93a1, 2600:9000:24db:c600:d:ff6c:c780:93a1, ...\r\n",
      "Connecting to current.geneontology.org (current.geneontology.org)|2600:9000:24db:1a00:d:ff6c:c780:93a1|:80... connected.\r\n",
      "HTTP request sent, awaiting response... 200 OK\r\n",
      "Length: 31267219 (30M) [text/obo]\r\n",
      "Saving to: ‘go-basic.obo’\r\n",
      "\r\n",
      "go-basic.obo        100%[===================>]  29.82M  10.6MB/s    in 2.8s    \r\n",
      "\r\n",
      "2024-04-19 00:46:40 (10.6 MB/s) - ‘go-basic.obo’ saved [31267219/31267219]\r\n",
      "\r\n"
     ]
    }
   ],
   "execution_count": 39
  },
  {
   "metadata": {},
   "cell_type": "markdown",
   "source": "## only keep the Biological Process (BP) subgraph",
   "id": "2fa9f388fbfd678"
  },
  {
   "cell_type": "code",
   "id": "825a3673ae8a59bc",
   "metadata": {
    "ExecuteTime": {
     "end_time": "2024-04-18T16:46:44.333812Z",
     "start_time": "2024-04-18T16:46:44.302630Z"
    }
   },
   "source": [
    "bp_node = \"GO:0008150\"\n",
    "bp_graph_nodes = nx.ancestors(original_graph, bp_node)\n",
    "bp_graph_nodes.add(bp_node)\n",
    "bp_graph = original_graph.subgraph(bp_graph_nodes)\n",
    "print(\"Number of nodes in the graph\", len(bp_graph_nodes))"
   ],
   "outputs": [
    {
     "name": "stdout",
     "output_type": "stream",
     "text": [
      "Number of nodes in the graph 27074\n"
     ]
    }
   ],
   "execution_count": 40
  },
  {
   "cell_type": "markdown",
   "id": "2e42e475d6c096f3",
   "metadata": {},
   "source": "## remove the subgraph which are not in the list of GO terms"
  },
  {
   "cell_type": "code",
   "id": "8388f83b8a4c6fe3",
   "metadata": {
    "ExecuteTime": {
     "end_time": "2024-04-18T16:50:06.621905Z",
     "start_time": "2024-04-18T16:50:06.610379Z"
    }
   },
   "source": [
    "bp_db_nodes = set(bp_db.GO.unique())\n",
    "len(bp_db_nodes)"
   ],
   "outputs": [
    {
     "data": {
      "text/plain": [
       "12306"
      ]
     },
     "execution_count": 49,
     "metadata": {},
     "output_type": "execute_result"
    }
   ],
   "execution_count": 49
  },
  {
   "cell_type": "markdown",
   "id": "2b3e6124be8c2e86",
   "metadata": {},
   "source": "iterate from the leaves to the root, trim all the branches that do not contain any db GO term"
  },
  {
   "cell_type": "code",
   "id": "fadf39c57889b5c",
   "metadata": {
    "ExecuteTime": {
     "end_time": "2024-04-18T16:48:40.496948Z",
     "start_time": "2024-04-18T16:46:53.046351Z"
    }
   },
   "source": [
    "from tqdm import tqdm\n",
    "\n",
    "leaves = [x for x in bp_graph_nodes if bp_graph.in_degree(x) == 0 and x not in bp_db_nodes]\n",
    "removes, keeps = set(), set()\n",
    "\n",
    "for child in tqdm(leaves):\n",
    "    ancestors = nx.descendants(bp_graph, child)\n",
    "    for ancestor in ancestors:\n",
    "        if ancestor not in removes and ancestor not in keeps:\n",
    "            if ancestor not in bp_db_nodes:\n",
    "                descendants = set(nx.ancestors(bp_graph, ancestor))\n",
    "                if len(descendants.intersection(bp_db_nodes)) == 0:\n",
    "                    removes.add(ancestor)\n",
    "                else:\n",
    "                    keeps.add(ancestor)\n",
    "            else:\n",
    "                keeps.add(ancestor)"
   ],
   "outputs": [
    {
     "name": "stderr",
     "output_type": "stream",
     "text": [
      "100%|██████████| 7255/7255 [01:47<00:00, 67.62it/s] \n"
     ]
    }
   ],
   "execution_count": 42
  },
  {
   "cell_type": "code",
   "id": "b270cc1cd545a43",
   "metadata": {
    "ExecuteTime": {
     "end_time": "2024-04-18T16:48:40.500302Z",
     "start_time": "2024-04-18T16:48:40.497823Z"
    }
   },
   "source": [
    "removes = removes.union(set(leaves))\n",
    "len(removes)"
   ],
   "outputs": [
    {
     "data": {
      "text/plain": [
       "11707"
      ]
     },
     "execution_count": 43,
     "metadata": {},
     "output_type": "execute_result"
    }
   ],
   "execution_count": 43
  },
  {
   "cell_type": "code",
   "id": "c9eed3257203e131",
   "metadata": {
    "ExecuteTime": {
     "end_time": "2024-04-18T16:48:40.512026Z",
     "start_time": "2024-04-18T16:48:40.500764Z"
    }
   },
   "source": [
    "bp_graph_nodes = bp_graph_nodes - removes\n",
    "bp_graph = bp_graph.subgraph(bp_graph_nodes)\n",
    "print(\"Number of nodes in the graph\", len(bp_graph_nodes))"
   ],
   "outputs": [
    {
     "name": "stdout",
     "output_type": "stream",
     "text": [
      "Number of nodes in the graph 15367\n"
     ]
    }
   ],
   "execution_count": 44
  },
  {
   "cell_type": "code",
   "id": "b170c03f3501f7b0",
   "metadata": {
    "ExecuteTime": {
     "end_time": "2024-04-18T16:48:40.514248Z",
     "start_time": "2024-04-18T16:48:40.513007Z"
    }
   },
   "source": [
    "# import pickle\n",
    "# \n",
    "# with open('gobp-entire.gpickle', 'wb') as f:\n",
    "#     pickle.dump(graph_BP, f, pickle.HIGHEST_PROTOCOL)"
   ],
   "outputs": [],
   "execution_count": 45
  },
  {
   "metadata": {},
   "cell_type": "markdown",
   "source": "## filtered go term table",
   "id": "fa21f6f2e60625c2"
  },
  {
   "cell_type": "code",
   "id": "9bb836501de3bbbf",
   "metadata": {
    "ExecuteTime": {
     "end_time": "2024-04-19T02:54:03.780166Z",
     "start_time": "2024-04-19T02:54:03.729121Z"
    }
   },
   "source": [
    "bp_db_filter = bp_db[bp_db.GO.isin(bp_graph.nodes) & bp_db.ENSEMBL.isin(data_genes)]\n",
    "bp_db_filter.describe()"
   ],
   "outputs": [
    {
     "data": {
      "text/plain": [
       "                ENSEMBL          GO\n",
       "count            131837      131837\n",
       "unique            17589       12114\n",
       "top     ENSG00000148400  GO:0006357\n",
       "freq                158        1426"
      ],
      "text/html": [
       "<div>\n",
       "<style scoped>\n",
       "    .dataframe tbody tr th:only-of-type {\n",
       "        vertical-align: middle;\n",
       "    }\n",
       "\n",
       "    .dataframe tbody tr th {\n",
       "        vertical-align: top;\n",
       "    }\n",
       "\n",
       "    .dataframe thead th {\n",
       "        text-align: right;\n",
       "    }\n",
       "</style>\n",
       "<table border=\"1\" class=\"dataframe\">\n",
       "  <thead>\n",
       "    <tr style=\"text-align: right;\">\n",
       "      <th></th>\n",
       "      <th>ENSEMBL</th>\n",
       "      <th>GO</th>\n",
       "    </tr>\n",
       "  </thead>\n",
       "  <tbody>\n",
       "    <tr>\n",
       "      <th>count</th>\n",
       "      <td>131837</td>\n",
       "      <td>131837</td>\n",
       "    </tr>\n",
       "    <tr>\n",
       "      <th>unique</th>\n",
       "      <td>17589</td>\n",
       "      <td>12114</td>\n",
       "    </tr>\n",
       "    <tr>\n",
       "      <th>top</th>\n",
       "      <td>ENSG00000148400</td>\n",
       "      <td>GO:0006357</td>\n",
       "    </tr>\n",
       "    <tr>\n",
       "      <th>freq</th>\n",
       "      <td>158</td>\n",
       "      <td>1426</td>\n",
       "    </tr>\n",
       "  </tbody>\n",
       "</table>\n",
       "</div>"
      ]
     },
     "execution_count": 78,
     "metadata": {},
     "output_type": "execute_result"
    }
   ],
   "execution_count": 78
  },
  {
   "cell_type": "code",
   "id": "724f563b360b1129",
   "metadata": {
    "ExecuteTime": {
     "end_time": "2024-04-18T16:58:55.661666Z",
     "start_time": "2024-04-18T16:52:24.275702Z"
    }
   },
   "source": [
    "gp = bp_db_filter.groupby(\"ENSEMBL\")\n",
    "for ensembl in tqdm(list(gp.groups.keys())):\n",
    "    go_associated = gp.get_group(ensembl)[\"GO\"].tolist()\n",
    "    indexes = list(gp.groups[ensembl])\n",
    "    current_idx = 0\n",
    "    while current_idx < len(go_associated):\n",
    "        go_visited = go_associated[current_idx]\n",
    "        idx = indexes.pop(0)\n",
    "        successors = set(nx.ancestors(bp_graph, go_visited))\n",
    "        if len(successors.intersection(set(go_associated))) != 0:\n",
    "            file_go = bp_db_filter.drop(idx)\n",
    "            keep1 = go_visited\n",
    "            keep2 = idx\n",
    "        current_idx += 1"
   ],
   "outputs": [
    {
     "name": "stderr",
     "output_type": "stream",
     "text": [
      "100%|██████████| 17589/17589 [06:31<00:00, 44.95it/s] \n"
     ]
    }
   ],
   "execution_count": 58
  },
  {
   "metadata": {},
   "cell_type": "code",
   "outputs": [],
   "execution_count": null,
   "source": "bp_db_filter.describe()",
   "id": "2b1c6cad2597d79c"
  },
  {
   "cell_type": "code",
   "id": "de38e9e8a6dea91d",
   "metadata": {
    "ExecuteTime": {
     "end_time": "2024-04-19T02:54:46.127823Z",
     "start_time": "2024-04-19T02:54:46.032949Z"
    }
   },
   "source": "bp_db_filter.to_csv(\"../data/GOannotations_kept.csv\")",
   "outputs": [],
   "execution_count": 79
  },
  {
   "cell_type": "markdown",
   "id": "e4f684c5ea0ea03c",
   "metadata": {},
   "source": [
    "## GO graph statistics "
   ]
  },
  {
   "metadata": {
    "ExecuteTime": {
     "end_time": "2024-04-19T03:02:15.615494Z",
     "start_time": "2024-04-19T03:02:15.612913Z"
    }
   },
   "cell_type": "code",
   "source": [
    "def compute_level(node):\n",
    "    if node != bp_node:\n",
    "        return len(max(nx.all_simple_paths(bp_graph, node, bp_node), key=lambda x: len(x))) - 1\n",
    "    else:\n",
    "        return 0"
   ],
   "id": "3b64146cf0852168",
   "outputs": [],
   "execution_count": 84
  },
  {
   "cell_type": "code",
   "id": "75f634bd84dbb5fe",
   "metadata": {
    "ExecuteTime": {
     "end_time": "2024-04-19T03:04:30.916418Z",
     "start_time": "2024-04-19T03:04:01.331168Z"
    }
   },
   "source": [
    "in_d = [x[1] for x in bp_graph.in_degree()]\n",
    "out_d = [x[1] for x in bp_graph.out_degree()]\n",
    "levels = [compute_level(node) for node in bp_graph.nodes]\n",
    "go_nodes = list(bp_graph.nodes)\n",
    "dfInfoGraph = pd.DataFrame({\"root\": levels, \"d+\": out_d, \"d-\": in_d}, index=go_nodes)\n",
    "dfInfoGraph.head()"
   ],
   "outputs": [
    {
     "data": {
      "text/plain": [
       "            root  d+  d-\n",
       "GO:0032011     8   1   2\n",
       "GO:0090084     7   3   2\n",
       "GO:1903279    11   2   2\n",
       "GO:0030638     3   2   2\n",
       "GO:0000966     8   1   4"
      ],
      "text/html": [
       "<div>\n",
       "<style scoped>\n",
       "    .dataframe tbody tr th:only-of-type {\n",
       "        vertical-align: middle;\n",
       "    }\n",
       "\n",
       "    .dataframe tbody tr th {\n",
       "        vertical-align: top;\n",
       "    }\n",
       "\n",
       "    .dataframe thead th {\n",
       "        text-align: right;\n",
       "    }\n",
       "</style>\n",
       "<table border=\"1\" class=\"dataframe\">\n",
       "  <thead>\n",
       "    <tr style=\"text-align: right;\">\n",
       "      <th></th>\n",
       "      <th>root</th>\n",
       "      <th>d+</th>\n",
       "      <th>d-</th>\n",
       "    </tr>\n",
       "  </thead>\n",
       "  <tbody>\n",
       "    <tr>\n",
       "      <th>GO:0032011</th>\n",
       "      <td>8</td>\n",
       "      <td>1</td>\n",
       "      <td>2</td>\n",
       "    </tr>\n",
       "    <tr>\n",
       "      <th>GO:0090084</th>\n",
       "      <td>7</td>\n",
       "      <td>3</td>\n",
       "      <td>2</td>\n",
       "    </tr>\n",
       "    <tr>\n",
       "      <th>GO:1903279</th>\n",
       "      <td>11</td>\n",
       "      <td>2</td>\n",
       "      <td>2</td>\n",
       "    </tr>\n",
       "    <tr>\n",
       "      <th>GO:0030638</th>\n",
       "      <td>3</td>\n",
       "      <td>2</td>\n",
       "      <td>2</td>\n",
       "    </tr>\n",
       "    <tr>\n",
       "      <th>GO:0000966</th>\n",
       "      <td>8</td>\n",
       "      <td>1</td>\n",
       "      <td>4</td>\n",
       "    </tr>\n",
       "  </tbody>\n",
       "</table>\n",
       "</div>"
      ]
     },
     "execution_count": 88,
     "metadata": {},
     "output_type": "execute_result"
    }
   ],
   "execution_count": 88
  },
  {
   "cell_type": "code",
   "id": "5facb592e9bbecec",
   "metadata": {
    "ExecuteTime": {
     "end_time": "2024-04-19T03:04:30.922067Z",
     "start_time": "2024-04-19T03:04:30.917169Z"
    }
   },
   "source": [
    "dfInfoGraph.describe()"
   ],
   "outputs": [
    {
     "data": {
      "text/plain": [
       "               root            d+            d-\n",
       "count  15367.000000  15367.000000  15367.000000\n",
       "mean       7.980217      2.253986      2.253986\n",
       "std        2.595890      1.019135      4.229011\n",
       "min        0.000000      0.000000      0.000000\n",
       "25%        6.000000      2.000000      0.000000\n",
       "50%        8.000000      2.000000      1.000000\n",
       "75%       10.000000      3.000000      3.000000\n",
       "max       18.000000      9.000000    136.000000"
      ],
      "text/html": [
       "<div>\n",
       "<style scoped>\n",
       "    .dataframe tbody tr th:only-of-type {\n",
       "        vertical-align: middle;\n",
       "    }\n",
       "\n",
       "    .dataframe tbody tr th {\n",
       "        vertical-align: top;\n",
       "    }\n",
       "\n",
       "    .dataframe thead th {\n",
       "        text-align: right;\n",
       "    }\n",
       "</style>\n",
       "<table border=\"1\" class=\"dataframe\">\n",
       "  <thead>\n",
       "    <tr style=\"text-align: right;\">\n",
       "      <th></th>\n",
       "      <th>root</th>\n",
       "      <th>d+</th>\n",
       "      <th>d-</th>\n",
       "    </tr>\n",
       "  </thead>\n",
       "  <tbody>\n",
       "    <tr>\n",
       "      <th>count</th>\n",
       "      <td>15367.000000</td>\n",
       "      <td>15367.000000</td>\n",
       "      <td>15367.000000</td>\n",
       "    </tr>\n",
       "    <tr>\n",
       "      <th>mean</th>\n",
       "      <td>7.980217</td>\n",
       "      <td>2.253986</td>\n",
       "      <td>2.253986</td>\n",
       "    </tr>\n",
       "    <tr>\n",
       "      <th>std</th>\n",
       "      <td>2.595890</td>\n",
       "      <td>1.019135</td>\n",
       "      <td>4.229011</td>\n",
       "    </tr>\n",
       "    <tr>\n",
       "      <th>min</th>\n",
       "      <td>0.000000</td>\n",
       "      <td>0.000000</td>\n",
       "      <td>0.000000</td>\n",
       "    </tr>\n",
       "    <tr>\n",
       "      <th>25%</th>\n",
       "      <td>6.000000</td>\n",
       "      <td>2.000000</td>\n",
       "      <td>0.000000</td>\n",
       "    </tr>\n",
       "    <tr>\n",
       "      <th>50%</th>\n",
       "      <td>8.000000</td>\n",
       "      <td>2.000000</td>\n",
       "      <td>1.000000</td>\n",
       "    </tr>\n",
       "    <tr>\n",
       "      <th>75%</th>\n",
       "      <td>10.000000</td>\n",
       "      <td>3.000000</td>\n",
       "      <td>3.000000</td>\n",
       "    </tr>\n",
       "    <tr>\n",
       "      <th>max</th>\n",
       "      <td>18.000000</td>\n",
       "      <td>9.000000</td>\n",
       "      <td>136.000000</td>\n",
       "    </tr>\n",
       "  </tbody>\n",
       "</table>\n",
       "</div>"
      ]
     },
     "execution_count": 89,
     "metadata": {},
     "output_type": "execute_result"
    }
   ],
   "execution_count": 89
  },
  {
   "cell_type": "code",
   "id": "5b6618d0229af708",
   "metadata": {
    "ExecuteTime": {
     "end_time": "2024-04-19T03:04:46.233930Z",
     "start_time": "2024-04-19T03:04:46.166786Z"
    }
   },
   "source": [
    "import matplotlib.pyplot as plt\n",
    "\n",
    "dfInfoGraph.groupby(\"root\").size().plot(kind='bar')\n",
    "plt.show()"
   ],
   "outputs": [
    {
     "data": {
      "text/plain": [
       "<Figure size 640x480 with 1 Axes>"
      ],
      "image/png": "[encoded data removed]"
     },
     "metadata": {},
     "output_type": "display_data"
    }
   ],
   "execution_count": 92
  },
  {
   "cell_type": "code",
   "id": "1e3200e519282d62",
   "metadata": {
    "ExecuteTime": {
     "end_time": "2024-04-19T03:04:48.372564Z",
     "start_time": "2024-04-19T03:04:48.354457Z"
    }
   },
   "source": "dfInfoGraph.to_csv(\"../data/go_to_level_entire.csv\")",
   "outputs": [],
   "execution_count": 93
  },
  {
   "metadata": {},
   "cell_type": "markdown",
   "source": "## GO ",
   "id": "fa610866ef208e3e"
  },
  {
   "metadata": {},
   "cell_type": "code",
   "outputs": [],
   "execution_count": null,
   "source": [
    "map_go_int={go:idx for idx,go in enumerate(list_go)}\n",
    "map_go_int"
   ],
   "id": "91d932990054aaaf"
  },
  {
   "cell_type": "markdown",
   "id": "a3c3935840b4942d",
   "metadata": {},
   "source": []
  }
 ],
 "metadata": {
  "kernelspec": {
   "display_name": "Python 3 (ipykernel)",
   "language": "python",
   "name": "python3"
  },
  "language_info": {
   "codemirror_mode": {
    "name": "ipython",
    "version": 3
   },
   "file_extension": ".py",
   "mimetype": "text/x-python",
   "name": "python",
   "nbconvert_exporter": "python",
   "pygments_lexer": "ipython3",
   "version": "3.11.7"
  }
 },
 "nbformat": 4,
 "nbformat_minor": 5
}
