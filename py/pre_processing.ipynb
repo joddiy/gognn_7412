{
 "cells": [
  {
   "cell_type": "code",
   "id": "cdcfbde79d35818e",
   "metadata": {
    "ExecuteTime": {
     "end_time": "2024-04-22T15:27:40.957659Z",
     "start_time": "2024-04-22T15:27:40.118469Z"
    }
   },
   "source": [
    "import pandas as pd\n",
    "import numpy as np\n",
    "import obonet\n",
    "import networkx as nx"
   ],
   "outputs": [],
   "execution_count": 2
  },
  {
   "cell_type": "markdown",
   "id": "c0dc7edd201e6ea3",
   "metadata": {},
   "source": [
    "# Load the data generated from the R code"
   ]
  },
  {
   "cell_type": "code",
   "id": "6e21320f8ba31a12",
   "metadata": {
    "ExecuteTime": {
     "end_time": "2024-04-22T15:27:41.027310Z",
     "start_time": "2024-04-22T15:27:40.958468Z"
    }
   },
   "source": [
    "bp_db = pd.read_csv(\"../data/annotations-gene-GO.csv\")\n",
    "bp_db = bp_db.drop_duplicates()\n",
    "bp_db.head()"
   ],
   "outputs": [
    {
     "data": {
      "text/plain": [
       "           ENSEMBL          GO\n",
       "0  ENSG00000000003  GO:0039532\n",
       "1  ENSG00000000003  GO:0043123\n",
       "2  ENSG00000000003  GO:1901223\n",
       "3  ENSG00000000005  GO:0001886\n",
       "4  ENSG00000000005  GO:0001937"
      ],
      "text/html": [
       "<div>\n",
       "<style scoped>\n",
       "    .dataframe tbody tr th:only-of-type {\n",
       "        vertical-align: middle;\n",
       "    }\n",
       "\n",
       "    .dataframe tbody tr th {\n",
       "        vertical-align: top;\n",
       "    }\n",
       "\n",
       "    .dataframe thead th {\n",
       "        text-align: right;\n",
       "    }\n",
       "</style>\n",
       "<table border=\"1\" class=\"dataframe\">\n",
       "  <thead>\n",
       "    <tr style=\"text-align: right;\">\n",
       "      <th></th>\n",
       "      <th>ENSEMBL</th>\n",
       "      <th>GO</th>\n",
       "    </tr>\n",
       "  </thead>\n",
       "  <tbody>\n",
       "    <tr>\n",
       "      <th>0</th>\n",
       "      <td>ENSG00000000003</td>\n",
       "      <td>GO:0039532</td>\n",
       "    </tr>\n",
       "    <tr>\n",
       "      <th>1</th>\n",
       "      <td>ENSG00000000003</td>\n",
       "      <td>GO:0043123</td>\n",
       "    </tr>\n",
       "    <tr>\n",
       "      <th>2</th>\n",
       "      <td>ENSG00000000003</td>\n",
       "      <td>GO:1901223</td>\n",
       "    </tr>\n",
       "    <tr>\n",
       "      <th>3</th>\n",
       "      <td>ENSG00000000005</td>\n",
       "      <td>GO:0001886</td>\n",
       "    </tr>\n",
       "    <tr>\n",
       "      <th>4</th>\n",
       "      <td>ENSG00000000005</td>\n",
       "      <td>GO:0001937</td>\n",
       "    </tr>\n",
       "  </tbody>\n",
       "</table>\n",
       "</div>"
      ]
     },
     "execution_count": 3,
     "metadata": {},
     "output_type": "execute_result"
    }
   ],
   "execution_count": 3
  },
  {
   "metadata": {
    "ExecuteTime": {
     "end_time": "2024-04-22T15:27:41.051605Z",
     "start_time": "2024-04-22T15:27:41.027956Z"
    }
   },
   "cell_type": "code",
   "source": "bp_db.describe()",
   "id": "4816eb5c0c66d9cc",
   "outputs": [
    {
     "data": {
      "text/plain": [
       "                ENSEMBL          GO\n",
       "count            132627      132627\n",
       "unique            17599       12305\n",
       "top     ENSG00000148400  GO:0006357\n",
       "freq                158        1426"
      ],
      "text/html": [
       "<div>\n",
       "<style scoped>\n",
       "    .dataframe tbody tr th:only-of-type {\n",
       "        vertical-align: middle;\n",
       "    }\n",
       "\n",
       "    .dataframe tbody tr th {\n",
       "        vertical-align: top;\n",
       "    }\n",
       "\n",
       "    .dataframe thead th {\n",
       "        text-align: right;\n",
       "    }\n",
       "</style>\n",
       "<table border=\"1\" class=\"dataframe\">\n",
       "  <thead>\n",
       "    <tr style=\"text-align: right;\">\n",
       "      <th></th>\n",
       "      <th>ENSEMBL</th>\n",
       "      <th>GO</th>\n",
       "    </tr>\n",
       "  </thead>\n",
       "  <tbody>\n",
       "    <tr>\n",
       "      <th>count</th>\n",
       "      <td>132627</td>\n",
       "      <td>132627</td>\n",
       "    </tr>\n",
       "    <tr>\n",
       "      <th>unique</th>\n",
       "      <td>17599</td>\n",
       "      <td>12305</td>\n",
       "    </tr>\n",
       "    <tr>\n",
       "      <th>top</th>\n",
       "      <td>ENSG00000148400</td>\n",
       "      <td>GO:0006357</td>\n",
       "    </tr>\n",
       "    <tr>\n",
       "      <th>freq</th>\n",
       "      <td>158</td>\n",
       "      <td>1426</td>\n",
       "    </tr>\n",
       "  </tbody>\n",
       "</table>\n",
       "</div>"
      ]
     },
     "execution_count": 4,
     "metadata": {},
     "output_type": "execute_result"
    }
   ],
   "execution_count": 4
  },
  {
   "cell_type": "code",
   "id": "89e52c314dbc130f",
   "metadata": {
    "ExecuteTime": {
     "end_time": "2024-04-22T15:27:44.527735Z",
     "start_time": "2024-04-22T15:27:41.079114Z"
    }
   },
   "source": [
    "counts1 = pd.read_csv(\"../data/counts1.csv\", index_col=0)\n",
    "counts1.head()"
   ],
   "outputs": [
    {
     "data": {
      "text/plain": [
       "         ENSG00000000003  ENSG00000000005  ENSG00000000419  ENSG00000000457  \\\n",
       "089357B               14                7              103              241   \n",
       "089366A               11                2              194              511   \n",
       "089412B                8                0              312              450   \n",
       "089425B                9                0              135              496   \n",
       "089687A                4                0               89              267   \n",
       "\n",
       "         ENSG00000000460  ENSG00000000938  ENSG00000000971  ENSG00000001036  \\\n",
       "089357B               72             2057               30               60   \n",
       "089366A              110             3325               36              111   \n",
       "089412B              106             3751               45              160   \n",
       "089425B              133             2758               26               93   \n",
       "089687A               49             2181               24               75   \n",
       "\n",
       "         ENSG00000001084  ENSG00000001167  ...  ENSGR0000167393  \\\n",
       "089357B              207              367  ...                1   \n",
       "089366A              186              530  ...                0   \n",
       "089412B              325              653  ...                0   \n",
       "089425B              182              620  ...                0   \n",
       "089687A              122              263  ...                0   \n",
       "\n",
       "         ENSGR0000169084  ENSGR0000169093  ENSGR0000178605  ENSGR0000182378  \\\n",
       "089357B                0                0                0                0   \n",
       "089366A                0                0                0                0   \n",
       "089412B                0                0                0                0   \n",
       "089425B                0                0                0                0   \n",
       "089687A                0                0                0                0   \n",
       "\n",
       "         ENSGR0000185291  ENSGR0000198223  ENSGR0000214717  ENSGR0000223511  \\\n",
       "089357B                0                0                0                0   \n",
       "089366A                0                1                0                0   \n",
       "089412B                0                1                0                0   \n",
       "089425B                0                0                0                0   \n",
       "089687A                0                1                0                0   \n",
       "\n",
       "         ENSGR0000223773  \n",
       "089357B                0  \n",
       "089366A                1  \n",
       "089412B                0  \n",
       "089425B                0  \n",
       "089687A                0  \n",
       "\n",
       "[5 rows x 52645 columns]"
      ],
      "text/html": [
       "<div>\n",
       "<style scoped>\n",
       "    .dataframe tbody tr th:only-of-type {\n",
       "        vertical-align: middle;\n",
       "    }\n",
       "\n",
       "    .dataframe tbody tr th {\n",
       "        vertical-align: top;\n",
       "    }\n",
       "\n",
       "    .dataframe thead th {\n",
       "        text-align: right;\n",
       "    }\n",
       "</style>\n",
       "<table border=\"1\" class=\"dataframe\">\n",
       "  <thead>\n",
       "    <tr style=\"text-align: right;\">\n",
       "      <th></th>\n",
       "      <th>ENSG00000000003</th>\n",
       "      <th>ENSG00000000005</th>\n",
       "      <th>ENSG00000000419</th>\n",
       "      <th>ENSG00000000457</th>\n",
       "      <th>ENSG00000000460</th>\n",
       "      <th>ENSG00000000938</th>\n",
       "      <th>ENSG00000000971</th>\n",
       "      <th>ENSG00000001036</th>\n",
       "      <th>ENSG00000001084</th>\n",
       "      <th>ENSG00000001167</th>\n",
       "      <th>...</th>\n",
       "      <th>ENSGR0000167393</th>\n",
       "      <th>ENSGR0000169084</th>\n",
       "      <th>ENSGR0000169093</th>\n",
       "      <th>ENSGR0000178605</th>\n",
       "      <th>ENSGR0000182378</th>\n",
       "      <th>ENSGR0000185291</th>\n",
       "      <th>ENSGR0000198223</th>\n",
       "      <th>ENSGR0000214717</th>\n",
       "      <th>ENSGR0000223511</th>\n",
       "      <th>ENSGR0000223773</th>\n",
       "    </tr>\n",
       "  </thead>\n",
       "  <tbody>\n",
       "    <tr>\n",
       "      <th>089357B</th>\n",
       "      <td>14</td>\n",
       "      <td>7</td>\n",
       "      <td>103</td>\n",
       "      <td>241</td>\n",
       "      <td>72</td>\n",
       "      <td>2057</td>\n",
       "      <td>30</td>\n",
       "      <td>60</td>\n",
       "      <td>207</td>\n",
       "      <td>367</td>\n",
       "      <td>...</td>\n",
       "      <td>1</td>\n",
       "      <td>0</td>\n",
       "      <td>0</td>\n",
       "      <td>0</td>\n",
       "      <td>0</td>\n",
       "      <td>0</td>\n",
       "      <td>0</td>\n",
       "      <td>0</td>\n",
       "      <td>0</td>\n",
       "      <td>0</td>\n",
       "    </tr>\n",
       "    <tr>\n",
       "      <th>089366A</th>\n",
       "      <td>11</td>\n",
       "      <td>2</td>\n",
       "      <td>194</td>\n",
       "      <td>511</td>\n",
       "      <td>110</td>\n",
       "      <td>3325</td>\n",
       "      <td>36</td>\n",
       "      <td>111</td>\n",
       "      <td>186</td>\n",
       "      <td>530</td>\n",
       "      <td>...</td>\n",
       "      <td>0</td>\n",
       "      <td>0</td>\n",
       "      <td>0</td>\n",
       "      <td>0</td>\n",
       "      <td>0</td>\n",
       "      <td>0</td>\n",
       "      <td>1</td>\n",
       "      <td>0</td>\n",
       "      <td>0</td>\n",
       "      <td>1</td>\n",
       "    </tr>\n",
       "    <tr>\n",
       "      <th>089412B</th>\n",
       "      <td>8</td>\n",
       "      <td>0</td>\n",
       "      <td>312</td>\n",
       "      <td>450</td>\n",
       "      <td>106</td>\n",
       "      <td>3751</td>\n",
       "      <td>45</td>\n",
       "      <td>160</td>\n",
       "      <td>325</td>\n",
       "      <td>653</td>\n",
       "      <td>...</td>\n",
       "      <td>0</td>\n",
       "      <td>0</td>\n",
       "      <td>0</td>\n",
       "      <td>0</td>\n",
       "      <td>0</td>\n",
       "      <td>0</td>\n",
       "      <td>1</td>\n",
       "      <td>0</td>\n",
       "      <td>0</td>\n",
       "      <td>0</td>\n",
       "    </tr>\n",
       "    <tr>\n",
       "      <th>089425B</th>\n",
       "      <td>9</td>\n",
       "      <td>0</td>\n",
       "      <td>135</td>\n",
       "      <td>496</td>\n",
       "      <td>133</td>\n",
       "      <td>2758</td>\n",
       "      <td>26</td>\n",
       "      <td>93</td>\n",
       "      <td>182</td>\n",
       "      <td>620</td>\n",
       "      <td>...</td>\n",
       "      <td>0</td>\n",
       "      <td>0</td>\n",
       "      <td>0</td>\n",
       "      <td>0</td>\n",
       "      <td>0</td>\n",
       "      <td>0</td>\n",
       "      <td>0</td>\n",
       "      <td>0</td>\n",
       "      <td>0</td>\n",
       "      <td>0</td>\n",
       "    </tr>\n",
       "    <tr>\n",
       "      <th>089687A</th>\n",
       "      <td>4</td>\n",
       "      <td>0</td>\n",
       "      <td>89</td>\n",
       "      <td>267</td>\n",
       "      <td>49</td>\n",
       "      <td>2181</td>\n",
       "      <td>24</td>\n",
       "      <td>75</td>\n",
       "      <td>122</td>\n",
       "      <td>263</td>\n",
       "      <td>...</td>\n",
       "      <td>0</td>\n",
       "      <td>0</td>\n",
       "      <td>0</td>\n",
       "      <td>0</td>\n",
       "      <td>0</td>\n",
       "      <td>0</td>\n",
       "      <td>1</td>\n",
       "      <td>0</td>\n",
       "      <td>0</td>\n",
       "      <td>0</td>\n",
       "    </tr>\n",
       "  </tbody>\n",
       "</table>\n",
       "<p>5 rows × 52645 columns</p>\n",
       "</div>"
      ]
     },
     "execution_count": 5,
     "metadata": {},
     "output_type": "execute_result"
    }
   ],
   "execution_count": 5
  },
  {
   "cell_type": "code",
   "id": "2f66d52f7e455138",
   "metadata": {
    "ExecuteTime": {
     "end_time": "2024-04-22T15:27:44.543606Z",
     "start_time": "2024-04-22T15:27:44.538959Z"
    }
   },
   "source": [
    "pheno1 = pd.read_csv(\"../data/pheno1.csv\", index_col=0)\n",
    "pheno1.head()"
   ],
   "outputs": [
    {
     "data": {
      "text/plain": [
       "         age diagnosis sex  lithium condition\n",
       "089357B   18   Control   F        0   Control\n",
       "089366A   19   Control   F        0   Control\n",
       "089412B   23   Control   F        0   Control\n",
       "089425B   47   Control   F        0   Control\n",
       "089687A   52   Control   F        0   Control"
      ],
      "text/html": [
       "<div>\n",
       "<style scoped>\n",
       "    .dataframe tbody tr th:only-of-type {\n",
       "        vertical-align: middle;\n",
       "    }\n",
       "\n",
       "    .dataframe tbody tr th {\n",
       "        vertical-align: top;\n",
       "    }\n",
       "\n",
       "    .dataframe thead th {\n",
       "        text-align: right;\n",
       "    }\n",
       "</style>\n",
       "<table border=\"1\" class=\"dataframe\">\n",
       "  <thead>\n",
       "    <tr style=\"text-align: right;\">\n",
       "      <th></th>\n",
       "      <th>age</th>\n",
       "      <th>diagnosis</th>\n",
       "      <th>sex</th>\n",
       "      <th>lithium</th>\n",
       "      <th>condition</th>\n",
       "    </tr>\n",
       "  </thead>\n",
       "  <tbody>\n",
       "    <tr>\n",
       "      <th>089357B</th>\n",
       "      <td>18</td>\n",
       "      <td>Control</td>\n",
       "      <td>F</td>\n",
       "      <td>0</td>\n",
       "      <td>Control</td>\n",
       "    </tr>\n",
       "    <tr>\n",
       "      <th>089366A</th>\n",
       "      <td>19</td>\n",
       "      <td>Control</td>\n",
       "      <td>F</td>\n",
       "      <td>0</td>\n",
       "      <td>Control</td>\n",
       "    </tr>\n",
       "    <tr>\n",
       "      <th>089412B</th>\n",
       "      <td>23</td>\n",
       "      <td>Control</td>\n",
       "      <td>F</td>\n",
       "      <td>0</td>\n",
       "      <td>Control</td>\n",
       "    </tr>\n",
       "    <tr>\n",
       "      <th>089425B</th>\n",
       "      <td>47</td>\n",
       "      <td>Control</td>\n",
       "      <td>F</td>\n",
       "      <td>0</td>\n",
       "      <td>Control</td>\n",
       "    </tr>\n",
       "    <tr>\n",
       "      <th>089687A</th>\n",
       "      <td>52</td>\n",
       "      <td>Control</td>\n",
       "      <td>F</td>\n",
       "      <td>0</td>\n",
       "      <td>Control</td>\n",
       "    </tr>\n",
       "  </tbody>\n",
       "</table>\n",
       "</div>"
      ]
     },
     "execution_count": 6,
     "metadata": {},
     "output_type": "execute_result"
    }
   ],
   "execution_count": 6
  },
  {
   "cell_type": "markdown",
   "id": "9f1f9eccef0f836",
   "metadata": {},
   "source": [
    "# Data Exploration Analysis"
   ]
  },
  {
   "cell_type": "code",
   "id": "9eb7b0b407e3e4c0",
   "metadata": {
    "ExecuteTime": {
     "end_time": "2024-04-22T15:27:44.549888Z",
     "start_time": "2024-04-22T15:27:44.544632Z"
    }
   },
   "source": [
    "available_genes = set(bp_db.ENSEMBL)\n",
    "(\"length of all_genes :\", len(available_genes))"
   ],
   "outputs": [
    {
     "data": {
      "text/plain": [
       "('length of all_genes :', 17600)"
      ]
     },
     "execution_count": 7,
     "metadata": {},
     "output_type": "execute_result"
    }
   ],
   "execution_count": 7
  },
  {
   "cell_type": "code",
   "id": "26a89637c0cec476",
   "metadata": {
    "ExecuteTime": {
     "end_time": "2024-04-22T15:27:44.554713Z",
     "start_time": "2024-04-22T15:27:44.550569Z"
    }
   },
   "source": [
    "data_genes = set(counts1.columns)\n",
    "(\"length of data_genes :\", len(data_genes))"
   ],
   "outputs": [
    {
     "data": {
      "text/plain": [
       "('length of data_genes :', 52645)"
      ]
     },
     "execution_count": 8,
     "metadata": {},
     "output_type": "execute_result"
    }
   ],
   "execution_count": 8
  },
  {
   "cell_type": "code",
   "id": "170bd4f7cf1820a0",
   "metadata": {
    "ExecuteTime": {
     "end_time": "2024-04-22T15:27:44.558847Z",
     "start_time": "2024-04-22T15:27:44.555212Z"
    }
   },
   "source": [
    "(\"Number of genes missing :\", len(data_genes - available_genes))"
   ],
   "outputs": [
    {
     "data": {
      "text/plain": [
       "('Number of genes missing :', 35046)"
      ]
     },
     "execution_count": 9,
     "metadata": {},
     "output_type": "execute_result"
    }
   ],
   "execution_count": 9
  },
  {
   "cell_type": "code",
   "id": "24ad05188a12a669",
   "metadata": {
    "ExecuteTime": {
     "end_time": "2024-04-22T15:27:44.563517Z",
     "start_time": "2024-04-22T15:27:44.559404Z"
    }
   },
   "source": [
    "(\"Ratio of genes missing : {:.2f}%\".format(len(data_genes - available_genes) / len(data_genes) * 100))"
   ],
   "outputs": [
    {
     "data": {
      "text/plain": [
       "'Ratio of genes missing : 66.57%'"
      ]
     },
     "execution_count": 10,
     "metadata": {},
     "output_type": "execute_result"
    }
   ],
   "execution_count": 10
  },
  {
   "metadata": {},
   "cell_type": "markdown",
   "source": "# Clean the GO annotations and the GO graph",
   "id": "3e447ff4f6762977"
  },
  {
   "metadata": {},
   "cell_type": "markdown",
   "source": "## only keep GO annotations that are associated with the genes in the data",
   "id": "7c55907bed728e94"
  },
  {
   "metadata": {
    "ExecuteTime": {
     "end_time": "2024-04-22T15:27:46.299474Z",
     "start_time": "2024-04-22T15:27:46.276633Z"
    }
   },
   "cell_type": "code",
   "source": [
    "bp_db = bp_db[bp_db.ENSEMBL.isin(counts1.columns)]\n",
    "bp_db.describe()"
   ],
   "id": "ef9ce71384cb6d5a",
   "outputs": [
    {
     "data": {
      "text/plain": [
       "                ENSEMBL          GO\n",
       "count            132627      132627\n",
       "unique            17599       12305\n",
       "top     ENSG00000148400  GO:0006357\n",
       "freq                158        1426"
      ],
      "text/html": [
       "<div>\n",
       "<style scoped>\n",
       "    .dataframe tbody tr th:only-of-type {\n",
       "        vertical-align: middle;\n",
       "    }\n",
       "\n",
       "    .dataframe tbody tr th {\n",
       "        vertical-align: top;\n",
       "    }\n",
       "\n",
       "    .dataframe thead th {\n",
       "        text-align: right;\n",
       "    }\n",
       "</style>\n",
       "<table border=\"1\" class=\"dataframe\">\n",
       "  <thead>\n",
       "    <tr style=\"text-align: right;\">\n",
       "      <th></th>\n",
       "      <th>ENSEMBL</th>\n",
       "      <th>GO</th>\n",
       "    </tr>\n",
       "  </thead>\n",
       "  <tbody>\n",
       "    <tr>\n",
       "      <th>count</th>\n",
       "      <td>132627</td>\n",
       "      <td>132627</td>\n",
       "    </tr>\n",
       "    <tr>\n",
       "      <th>unique</th>\n",
       "      <td>17599</td>\n",
       "      <td>12305</td>\n",
       "    </tr>\n",
       "    <tr>\n",
       "      <th>top</th>\n",
       "      <td>ENSG00000148400</td>\n",
       "      <td>GO:0006357</td>\n",
       "    </tr>\n",
       "    <tr>\n",
       "      <th>freq</th>\n",
       "      <td>158</td>\n",
       "      <td>1426</td>\n",
       "    </tr>\n",
       "  </tbody>\n",
       "</table>\n",
       "</div>"
      ]
     },
     "execution_count": 11,
     "metadata": {},
     "output_type": "execute_result"
    }
   ],
   "execution_count": 11
  },
  {
   "metadata": {
    "ExecuteTime": {
     "end_time": "2024-04-22T15:27:46.308666Z",
     "start_time": "2024-04-22T15:27:46.299956Z"
    }
   },
   "cell_type": "code",
   "source": [
    "bp_db_go = set(bp_db.GO)\n",
    "bp_db_genes = set(bp_db.ENSEMBL)"
   ],
   "id": "f72093e7e2e0bcfa",
   "outputs": [],
   "execution_count": 12
  },
  {
   "cell_type": "markdown",
   "id": "3a82ebd78225a2ad",
   "metadata": {},
   "source": "## load GO graph"
  },
  {
   "cell_type": "code",
   "id": "b9be098898934092",
   "metadata": {
    "ExecuteTime": {
     "end_time": "2024-04-22T15:54:46.816968Z",
     "start_time": "2024-04-22T15:54:34.110875Z"
    }
   },
   "source": [
    "# Read the gene ontology\n",
    "!wget http://purl.obolibrary.org/obo/go/go-basic.obo \n",
    "original_graph = obonet.read_obo('go-basic.obo')\n",
    "!rm go-basic.obo"
   ],
   "outputs": [
    {
     "name": "stdout",
     "output_type": "stream",
     "text": [
      "--2024-04-22 23:54:34--  http://purl.obolibrary.org/obo/go/go-basic.obo\r\n",
      "Resolving purl.obolibrary.org (purl.obolibrary.org)... 2606:4700:4400::6812:253b, 2606:4700:4400::ac40:96c5, 104.18.37.59, ...\r\n",
      "Connecting to purl.obolibrary.org (purl.obolibrary.org)|2606:4700:4400::6812:253b|:80... connected.\r\n",
      "HTTP request sent, awaiting response... 302 Found\r\n",
      "Location: http://current.geneontology.org/ontology/go-basic.obo [following]\r\n",
      "--2024-04-22 23:54:38--  http://current.geneontology.org/ontology/go-basic.obo\r\n",
      "Resolving current.geneontology.org (current.geneontology.org)... 2600:9000:24db:f600:d:ff6c:c780:93a1, 2600:9000:24db:6e00:d:ff6c:c780:93a1, 2600:9000:24db:d400:d:ff6c:c780:93a1, ...\r\n",
      "Connecting to current.geneontology.org (current.geneontology.org)|2600:9000:24db:f600:d:ff6c:c780:93a1|:80... connected.\r\n",
      "HTTP request sent, awaiting response... 200 OK\r\n",
      "Length: 31245945 (30M) [text/obo]\r\n",
      "Saving to: ‘go-basic.obo’\r\n",
      "\r\n",
      "go-basic.obo        100%[===================>]  29.80M  8.54MB/s    in 3.5s    \r\n",
      "\r\n",
      "2024-04-22 23:54:43 (8.54 MB/s) - ‘go-basic.obo’ saved [31245945/31245945]\r\n",
      "\r\n"
     ]
    }
   ],
   "execution_count": 56
  },
  {
   "metadata": {},
   "cell_type": "markdown",
   "source": "## only keep the Biological Process (BP) subgraph",
   "id": "2fa9f388fbfd678"
  },
  {
   "cell_type": "code",
   "id": "825a3673ae8a59bc",
   "metadata": {
    "ExecuteTime": {
     "end_time": "2024-04-22T15:54:46.864895Z",
     "start_time": "2024-04-22T15:54:46.818749Z"
    }
   },
   "source": [
    "bp_node = \"GO:0008150\"\n",
    "bp_graph_nodes = nx.ancestors(original_graph, bp_node)\n",
    "bp_graph_nodes.add(bp_node)\n",
    "bp_graph = original_graph.subgraph(bp_graph_nodes)\n",
    "print(\"Number of nodes in the graph\", len(bp_graph))"
   ],
   "outputs": [
    {
     "name": "stdout",
     "output_type": "stream",
     "text": [
      "Number of nodes in the graph 27046\n"
     ]
    }
   ],
   "execution_count": 57
  },
  {
   "metadata": {},
   "cell_type": "markdown",
   "source": "## filter the GO terms that are not in the graph",
   "id": "daf48d53a87429d5"
  },
  {
   "metadata": {
    "ExecuteTime": {
     "end_time": "2024-04-22T15:54:46.893430Z",
     "start_time": "2024-04-22T15:54:46.865408Z"
    }
   },
   "cell_type": "code",
   "source": [
    "bp_db = bp_db[bp_db.GO.isin(bp_graph_nodes)]\n",
    "bp_db.describe()"
   ],
   "id": "7a0d9856e8aab3b2",
   "outputs": [
    {
     "data": {
      "text/plain": [
       "                ENSEMBL          GO\n",
       "count            131767      131767\n",
       "unique            17589       12101\n",
       "top     ENSG00000148400  GO:0006357\n",
       "freq                158        1426"
      ],
      "text/html": [
       "<div>\n",
       "<style scoped>\n",
       "    .dataframe tbody tr th:only-of-type {\n",
       "        vertical-align: middle;\n",
       "    }\n",
       "\n",
       "    .dataframe tbody tr th {\n",
       "        vertical-align: top;\n",
       "    }\n",
       "\n",
       "    .dataframe thead th {\n",
       "        text-align: right;\n",
       "    }\n",
       "</style>\n",
       "<table border=\"1\" class=\"dataframe\">\n",
       "  <thead>\n",
       "    <tr style=\"text-align: right;\">\n",
       "      <th></th>\n",
       "      <th>ENSEMBL</th>\n",
       "      <th>GO</th>\n",
       "    </tr>\n",
       "  </thead>\n",
       "  <tbody>\n",
       "    <tr>\n",
       "      <th>count</th>\n",
       "      <td>131767</td>\n",
       "      <td>131767</td>\n",
       "    </tr>\n",
       "    <tr>\n",
       "      <th>unique</th>\n",
       "      <td>17589</td>\n",
       "      <td>12101</td>\n",
       "    </tr>\n",
       "    <tr>\n",
       "      <th>top</th>\n",
       "      <td>ENSG00000148400</td>\n",
       "      <td>GO:0006357</td>\n",
       "    </tr>\n",
       "    <tr>\n",
       "      <th>freq</th>\n",
       "      <td>158</td>\n",
       "      <td>1426</td>\n",
       "    </tr>\n",
       "  </tbody>\n",
       "</table>\n",
       "</div>"
      ]
     },
     "execution_count": 58,
     "metadata": {},
     "output_type": "execute_result"
    }
   ],
   "execution_count": 58
  },
  {
   "metadata": {},
   "cell_type": "markdown",
   "source": "##  remove the branch whose all descendants nodes are not in the list of GO terms",
   "id": "8ec6cfee1a5821d8"
  },
  {
   "metadata": {
    "ExecuteTime": {
     "end_time": "2024-04-22T16:08:51.759019Z",
     "start_time": "2024-04-22T16:07:10.899905Z"
    }
   },
   "cell_type": "code",
   "source": [
    "from tqdm import tqdm\n",
    "\n",
    "leaves = [x for x in bp_graph_nodes if bp_graph.in_degree(x) == 0 and x not in bp_db_go]\n",
    "removes, keeps = set(), set()\n",
    "\n",
    "for child in tqdm(leaves):\n",
    "    ancestors = nx.descendants(bp_graph, child)\n",
    "    for ancestor in ancestors:\n",
    "        if ancestor not in removes and ancestor not in keeps:\n",
    "            if ancestor not in bp_db_go:\n",
    "                descendants = set(nx.ancestors(bp_graph, ancestor))\n",
    "                if len(descendants.intersection(bp_db_go)) == 0:\n",
    "                    removes.add(ancestor)\n",
    "                else:\n",
    "                    keeps.add(ancestor)\n",
    "            else:\n",
    "                keeps.add(ancestor)\n",
    "removes = removes.union(set(leaves))\n",
    "len(removes)"
   ],
   "id": "a865e81c63a19523",
   "outputs": [
    {
     "name": "stderr",
     "output_type": "stream",
     "text": [
      "100%|██████████| 7256/7256 [01:40<00:00, 72.10it/s] \n"
     ]
    },
    {
     "data": {
      "text/plain": [
       "11707"
      ]
     },
     "execution_count": 69,
     "metadata": {},
     "output_type": "execute_result"
    }
   ],
   "execution_count": 69
  },
  {
   "metadata": {},
   "cell_type": "markdown",
   "source": "draw the subgraph to show the nodes that will be removed",
   "id": "9b2c1d5575b047ac"
  },
  {
   "metadata": {
    "ExecuteTime": {
     "end_time": "2024-04-22T16:10:49.927498Z",
     "start_time": "2024-04-22T16:10:49.852507Z"
    }
   },
   "cell_type": "code",
   "source": [
    "remove_nodes = set()\n",
    "tmp_nodes = []\n",
    "\n",
    "for node in removes:\n",
    "    tmp_nodes = nx.shortest_path(bp_graph, node, bp_node)\n",
    "    remove_nodes = set([x for x in tmp_nodes if x in removes])\n",
    "    if len(remove_nodes) > 1:\n",
    "        break\n",
    "\n",
    "print(tmp_nodes)\n",
    "tmp_subgraph = bp_graph.subgraph(tmp_nodes)\n",
    "\n",
    "colors = ['red' if node in removes else 'lightblue' for node in tmp_subgraph.nodes()]\n",
    "#print(colors)\n",
    "\n",
    "print(\"Number of nodes in the sub graph\", len(tmp_subgraph))\n",
    "print(\"Number of removed nodes\", len(remove_nodes), remove_nodes)\n",
    "\n",
    "nx.draw(tmp_subgraph, with_labels=True, node_color=colors)"
   ],
   "id": "eaf58ef40f6d11ce",
   "outputs": [
    {
     "name": "stdout",
     "output_type": "stream",
     "text": [
      "['GO:0120164', 'GO:0009847', 'GO:0048869', 'GO:0009987', 'GO:0008150']\n",
      "Number of nodes in the sub graph 5\n",
      "Number of removed nodes 2 {'GO:0120164', 'GO:0009847'}\n"
     ]
    },
    {
     "data": {
      "text/plain": [
       "<Figure size 640x480 with 1 Axes>"
      ],
      "image/png": "[encoded data removed]"
     },
     "metadata": {},
     "output_type": "display_data"
    }
   ],
   "execution_count": 85
  },
  {
   "metadata": {
    "ExecuteTime": {
     "end_time": "2024-04-22T16:20:10.971102Z",
     "start_time": "2024-04-22T16:20:10.940547Z"
    }
   },
   "cell_type": "code",
   "source": [
    "bp_graph = bp_graph.subgraph(bp_graph_nodes - set(removes))\n",
    "print(\"Number of nodes in the graph\", len(bp_graph))"
   ],
   "id": "2ad45c5fb51499cd",
   "outputs": [
    {
     "name": "stdout",
     "output_type": "stream",
     "text": [
      "Number of nodes in the graph 15339\n"
     ]
    }
   ],
   "execution_count": 89
  },
  {
   "metadata": {},
   "cell_type": "markdown",
   "source": "## for a genes, which connected to multiple GO terms in the same branch, only keep the GO term that is the closest to the leave ",
   "id": "5f4c097977476230"
  },
  {
   "metadata": {
    "ExecuteTime": {
     "end_time": "2024-04-22T16:38:46.246449Z",
     "start_time": "2024-04-22T16:38:38.815521Z"
    }
   },
   "cell_type": "code",
   "source": [
    "go_genes_map = {}\n",
    "for idx, row in bp_db.iterrows():\n",
    "    go = row.GO\n",
    "    gene = row.ENSEMBL\n",
    "    if go not in go_genes_map:\n",
    "        go_genes_map[go] = set()\n",
    "    go_genes_map[go].add(gene)\n",
    "\n",
    "leaves = [x for x in bp_graph_nodes if bp_graph.in_degree(x) == 0]\n",
    "\n",
    "removes_terms = set()\n",
    "\n",
    "\n",
    "def dfs(node):\n",
    "    res = set()\n",
    "    if bp_graph.in_degree(node) != 0:  # collect all the genes from the parents\n",
    "        for parent in bp_graph.predecessors(node):\n",
    "            res = res.union(dfs(parent))\n",
    "    if node in go_genes_map:  # compare and record the genes that already appears in the parents\n",
    "        for gene in go_genes_map[node].intersection(res):\n",
    "            removes_terms.add(tuple([node, gene]))\n",
    "        res = res.union(go_genes_map[node])\n",
    "    return res\n",
    "\n",
    "\n",
    "_ = dfs(bp_node)\n",
    "len(removes_terms)"
   ],
   "id": "7ec1c72469a2edeb",
   "outputs": [
    {
     "data": {
      "text/plain": [
       "23719"
      ]
     },
     "execution_count": 141,
     "metadata": {},
     "output_type": "execute_result"
    }
   ],
   "execution_count": 141
  },
  {
   "metadata": {},
   "cell_type": "markdown",
   "source": "draw the subgraph to show the annotations that will be removed",
   "id": "b2a07b27a643b6e3"
  },
  {
   "metadata": {
    "ExecuteTime": {
     "end_time": "2024-04-22T16:38:04.664367Z",
     "start_time": "2024-04-22T16:38:04.587555Z"
    }
   },
   "cell_type": "code",
   "source": [
    "_go, _gene = list(removes_terms)[0]\n",
    "_all_go = set(bp_db[bp_db.ENSEMBL == _gene][\"GO\"].values)\n",
    "tmp_nodes = nx.shortest_path(bp_graph, _go, bp_node)\n",
    "for x in set(bp_graph.predecessors(_go)):\n",
    "    if x in _all_go:\n",
    "        tmp_nodes.append(x)\n",
    "\n",
    "same_genes_node = [x for x in tmp_nodes if x in _all_go]\n",
    "tmp_subgraph = bp_graph.subgraph(tmp_nodes)\n",
    "colors = ['red' if node in _all_go else 'lightblue' for node in tmp_subgraph.nodes()]\n",
    "print(\"Number of nodes in the sub graph\", len(tmp_subgraph))\n",
    "print(\"Number of nodes with the same genes\", len(same_genes_node), same_genes_node)\n",
    "\n",
    "nx.draw(tmp_subgraph, with_labels=True, node_color=colors)"
   ],
   "id": "5d13e6abdce9768d",
   "outputs": [
    {
     "name": "stdout",
     "output_type": "stream",
     "text": [
      "Number of nodes in the sub graph 9\n",
      "Number of nodes with the same genes 3 ['GO:0006310', 'GO:0071139', 'GO:0045910']\n"
     ]
    },
    {
     "data": {
      "text/plain": [
       "<Figure size 640x480 with 1 Axes>"
      ],
      "image/png": "[encoded data removed]"
     },
     "metadata": {},
     "output_type": "display_data"
    }
   ],
   "execution_count": 140
  },
  {
   "metadata": {
    "ExecuteTime": {
     "end_time": "2024-04-20T18:23:52.622016Z",
     "start_time": "2024-04-20T18:23:52.119062Z"
    }
   },
   "cell_type": "code",
   "source": [
    "bp_db = bp_db[~bp_db.apply(lambda x: tuple([x.GO, x.ENSEMBL]) in removes_terms, axis=1)]\n",
    "bp_db.describe()"
   ],
   "id": "da20fcb40ce0094f",
   "outputs": [
    {
     "data": {
      "text/plain": [
       "                ENSEMBL          GO\n",
       "count            108048      108048\n",
       "unique            17589       11767\n",
       "top     ENSG00000148400  GO:0045944\n",
       "freq                126        1105"
      ],
      "text/html": [
       "<div>\n",
       "<style scoped>\n",
       "    .dataframe tbody tr th:only-of-type {\n",
       "        vertical-align: middle;\n",
       "    }\n",
       "\n",
       "    .dataframe tbody tr th {\n",
       "        vertical-align: top;\n",
       "    }\n",
       "\n",
       "    .dataframe thead th {\n",
       "        text-align: right;\n",
       "    }\n",
       "</style>\n",
       "<table border=\"1\" class=\"dataframe\">\n",
       "  <thead>\n",
       "    <tr style=\"text-align: right;\">\n",
       "      <th></th>\n",
       "      <th>ENSEMBL</th>\n",
       "      <th>GO</th>\n",
       "    </tr>\n",
       "  </thead>\n",
       "  <tbody>\n",
       "    <tr>\n",
       "      <th>count</th>\n",
       "      <td>108048</td>\n",
       "      <td>108048</td>\n",
       "    </tr>\n",
       "    <tr>\n",
       "      <th>unique</th>\n",
       "      <td>17589</td>\n",
       "      <td>11767</td>\n",
       "    </tr>\n",
       "    <tr>\n",
       "      <th>top</th>\n",
       "      <td>ENSG00000148400</td>\n",
       "      <td>GO:0045944</td>\n",
       "    </tr>\n",
       "    <tr>\n",
       "      <th>freq</th>\n",
       "      <td>126</td>\n",
       "      <td>1105</td>\n",
       "    </tr>\n",
       "  </tbody>\n",
       "</table>\n",
       "</div>"
      ]
     },
     "execution_count": 19,
     "metadata": {},
     "output_type": "execute_result"
    }
   ],
   "execution_count": 19
  },
  {
   "metadata": {},
   "cell_type": "markdown",
   "source": "## define a function that can remove the lowest level of the GO terms, and re-assign the genes to the parent GO term",
   "id": "647cf9ba57d51f12"
  },
  {
   "metadata": {
    "ExecuteTime": {
     "end_time": "2024-04-22T17:28:13.767982Z",
     "start_time": "2024-04-22T17:28:13.244072Z"
    }
   },
   "cell_type": "code",
   "source": [
    "def remove_lowest_level(graph, bp_df):\n",
    "    _leaves = [x for x in graph.nodes if graph.in_degree(x) == 0]\n",
    "    new_tuples = set()\n",
    "    for _idx, _row in bp_df[bp_df.GO.isin(_leaves)].iterrows():\n",
    "        _gene = _row.ENSEMBL\n",
    "        _go = _row.GO\n",
    "        for _parent in graph.successors(_go):\n",
    "            new_tuples.add((_gene, _parent))\n",
    "    new_df = pd.concat([bp_df[~bp_df.GO.isin(_leaves)], pd.DataFrame(new_tuples, columns=[\"ENSEMBL\", \"GO\"])],\n",
    "                       ignore_index=True)\n",
    "    new_graph = graph.subgraph(set(graph.nodes) - set(_leaves))\n",
    "    return new_graph, new_df\n",
    "\n",
    "\n",
    "sub_graph, sub_bp_db = remove_lowest_level(bp_graph, bp_db)"
   ],
   "id": "edf63e5cb21327f8",
   "outputs": [],
   "execution_count": 149
  },
  {
   "metadata": {
    "ExecuteTime": {
     "end_time": "2024-04-22T17:28:14.914895Z",
     "start_time": "2024-04-22T17:28:14.866556Z"
    }
   },
   "cell_type": "code",
   "source": [
    "print(\"After removing the lowest level, the number of nodes in the graph\", len(sub_graph))\n",
    "sub_bp_db = sub_bp_db.drop_duplicates()\n",
    "sub_bp_db.describe()"
   ],
   "id": "25259643432bf1eb",
   "outputs": [
    {
     "name": "stdout",
     "output_type": "stream",
     "text": [
      "After removing the lowest level, the number of nodes in the graph 9917\n"
     ]
    },
    {
     "data": {
      "text/plain": [
       "                ENSEMBL          GO\n",
       "count            166517      166517\n",
       "unique            17589        8871\n",
       "top     ENSG00000148400  GO:0006357\n",
       "freq                229        1429"
      ],
      "text/html": [
       "<div>\n",
       "<style scoped>\n",
       "    .dataframe tbody tr th:only-of-type {\n",
       "        vertical-align: middle;\n",
       "    }\n",
       "\n",
       "    .dataframe tbody tr th {\n",
       "        vertical-align: top;\n",
       "    }\n",
       "\n",
       "    .dataframe thead th {\n",
       "        text-align: right;\n",
       "    }\n",
       "</style>\n",
       "<table border=\"1\" class=\"dataframe\">\n",
       "  <thead>\n",
       "    <tr style=\"text-align: right;\">\n",
       "      <th></th>\n",
       "      <th>ENSEMBL</th>\n",
       "      <th>GO</th>\n",
       "    </tr>\n",
       "  </thead>\n",
       "  <tbody>\n",
       "    <tr>\n",
       "      <th>count</th>\n",
       "      <td>166517</td>\n",
       "      <td>166517</td>\n",
       "    </tr>\n",
       "    <tr>\n",
       "      <th>unique</th>\n",
       "      <td>17589</td>\n",
       "      <td>8871</td>\n",
       "    </tr>\n",
       "    <tr>\n",
       "      <th>top</th>\n",
       "      <td>ENSG00000148400</td>\n",
       "      <td>GO:0006357</td>\n",
       "    </tr>\n",
       "    <tr>\n",
       "      <th>freq</th>\n",
       "      <td>229</td>\n",
       "      <td>1429</td>\n",
       "    </tr>\n",
       "  </tbody>\n",
       "</table>\n",
       "</div>"
      ]
     },
     "execution_count": 150,
     "metadata": {},
     "output_type": "execute_result"
    }
   ],
   "execution_count": 150
  },
  {
   "metadata": {},
   "cell_type": "markdown",
   "source": "draw the subgraph to show the nodes that will be removed",
   "id": "977c71e1f604520e"
  },
  {
   "metadata": {
    "ExecuteTime": {
     "end_time": "2024-04-22T17:47:25.895093Z",
     "start_time": "2024-04-22T17:47:25.806704Z"
    }
   },
   "cell_type": "code",
   "source": [
    "removed_nodes = list(set(bp_graph.nodes) - set(sub_graph.nodes))\n",
    "tmp_nodes = nx.shortest_path(bp_graph, removed_nodes[0], bp_node)\n",
    "tmp_nodes2 = nx.shortest_path(bp_graph, removed_nodes[1], bp_node)\n",
    "print(tmp_nodes)\n",
    "\n",
    "tmp_subgraph = bp_graph.subgraph(tmp_nodes+tmp_nodes2)\n",
    "\n",
    "colors = ['red' if node in removed_nodes else 'lightblue' for node in tmp_subgraph.nodes()]\n",
    "#print(colors)\n",
    "\n",
    "print(\"Number of nodes in the sub graph\", len(tmp_subgraph))\n",
    "print(\"Number of removed nodes\", len(removed_nodes[:1]), removed_nodes[:1])\n",
    "print(\"Genes before re-assign:\")\n",
    "print(bp_db[bp_db.GO.isin(tmp_nodes[:2])])\n",
    "print(\"Genes after re-assign:\")\n",
    "print(sub_bp_db[sub_bp_db.GO.isin(tmp_nodes[:2])])\n",
    "\n",
    "nx.draw(tmp_subgraph, with_labels=True, node_color=colors)"
   ],
   "id": "8442a4b95d62bfec",
   "outputs": [
    {
     "name": "stdout",
     "output_type": "stream",
     "text": [
      "['GO:0014063', 'GO:0043271', 'GO:0051051', 'GO:0048519', 'GO:0008150']\n",
      "Number of nodes in the sub graph 12\n",
      "Number of removed nodes 1 ['GO:0014063']\n",
      "Genes before re-assign:\n",
      "                ENSEMBL          GO\n",
      "10405   ENSG00000069535  GO:0014063\n",
      "24443   ENSG00000101180  GO:0014063\n",
      "29313   ENSG00000104972  GO:0014063\n",
      "47303   ENSG00000118432  GO:0014063\n",
      "56582   ENSG00000127325  GO:0043271\n",
      "66362   ENSG00000135312  GO:0014063\n",
      "107903  ENSG00000168297  GO:0043271\n",
      "Genes after re-assign:\n",
      "                ENSEMBL          GO\n",
      "39360   ENSG00000127325  GO:0043271\n",
      "74927   ENSG00000168297  GO:0043271\n",
      "124394  ENSG00000118432  GO:0043271\n",
      "135765  ENSG00000069535  GO:0043271\n",
      "154001  ENSG00000101180  GO:0043271\n",
      "158143  ENSG00000135312  GO:0043271\n",
      "169127  ENSG00000104972  GO:0043271\n"
     ]
    },
    {
     "data": {
      "text/plain": [
       "<Figure size 640x480 with 1 Axes>"
      ],
      "image/png": "[encoded data removed]"
     },
     "metadata": {},
     "output_type": "display_data"
    }
   ],
   "execution_count": 188
  },
  {
   "metadata": {
    "ExecuteTime": {
     "end_time": "2024-04-22T17:26:02.964083Z",
     "start_time": "2024-04-22T17:26:02.260097Z"
    }
   },
   "cell_type": "code",
   "source": [
    "def remove_lowest_level(graph, bp_df):\n",
    "    _leaves = [x for x in graph.nodes if graph.in_degree(x) == 0]\n",
    "    new_tuples = set()\n",
    "    for _idx, _row in bp_df[bp_df.GO.isin(_leaves)].iterrows():\n",
    "        _gene = _row.ENSEMBL\n",
    "        _go = _row.GO\n",
    "        for _parent in graph.successors(_go):\n",
    "            new_tuples.add((_gene, _parent))\n",
    "    new_df = pd.concat([bp_df[~bp_df.GO.isin(_leaves)], pd.DataFrame(new_tuples, columns=[\"ENSEMBL\", \"GO\"])],\n",
    "                       ignore_index=True)\n",
    "    new_graph = graph.subgraph(set(graph.nodes) - set(_leaves))\n",
    "    return new_graph, new_df\n",
    "\n",
    "\n",
    "sub_graph_2, sub_bp_db_2 = remove_lowest_level(sub_graph, sub_bp_db)"
   ],
   "id": "ccb0046620e33e3c",
   "outputs": [],
   "execution_count": 144
  },
  {
   "metadata": {
    "ExecuteTime": {
     "end_time": "2024-04-22T17:28:00.621128Z",
     "start_time": "2024-04-22T17:28:00.528501Z"
    }
   },
   "cell_type": "code",
   "source": [
    "print(\"After removing the lowest two levels, the number of nodes in the graph\", len(sub_graph_2))\n",
    "sub_bp_db_2 = sub_bp_db_2.drop_duplicates()\n",
    "sub_bp_db_2.describe()"
   ],
   "id": "8fcbb290382cfc0",
   "outputs": [
    {
     "name": "stdout",
     "output_type": "stream",
     "text": [
      "After removing the lowest two levels, the number of nodes in the graph 6273\n"
     ]
    },
    {
     "data": {
      "text/plain": [
       "                ENSEMBL          GO\n",
       "count            197183      197183\n",
       "unique            17589        5897\n",
       "top     ENSG00000148400  GO:0006357\n",
       "freq                263        1431"
      ],
      "text/html": [
       "<div>\n",
       "<style scoped>\n",
       "    .dataframe tbody tr th:only-of-type {\n",
       "        vertical-align: middle;\n",
       "    }\n",
       "\n",
       "    .dataframe tbody tr th {\n",
       "        vertical-align: top;\n",
       "    }\n",
       "\n",
       "    .dataframe thead th {\n",
       "        text-align: right;\n",
       "    }\n",
       "</style>\n",
       "<table border=\"1\" class=\"dataframe\">\n",
       "  <thead>\n",
       "    <tr style=\"text-align: right;\">\n",
       "      <th></th>\n",
       "      <th>ENSEMBL</th>\n",
       "      <th>GO</th>\n",
       "    </tr>\n",
       "  </thead>\n",
       "  <tbody>\n",
       "    <tr>\n",
       "      <th>count</th>\n",
       "      <td>197183</td>\n",
       "      <td>197183</td>\n",
       "    </tr>\n",
       "    <tr>\n",
       "      <th>unique</th>\n",
       "      <td>17589</td>\n",
       "      <td>5897</td>\n",
       "    </tr>\n",
       "    <tr>\n",
       "      <th>top</th>\n",
       "      <td>ENSG00000148400</td>\n",
       "      <td>GO:0006357</td>\n",
       "    </tr>\n",
       "    <tr>\n",
       "      <th>freq</th>\n",
       "      <td>263</td>\n",
       "      <td>1431</td>\n",
       "    </tr>\n",
       "  </tbody>\n",
       "</table>\n",
       "</div>"
      ]
     },
     "execution_count": 148,
     "metadata": {},
     "output_type": "execute_result"
    }
   ],
   "execution_count": 148
  },
  {
   "metadata": {},
   "cell_type": "markdown",
   "source": "## write the GO annotations and the GO graph to a file",
   "id": "d2a2300e710d0a5b"
  },
  {
   "metadata": {
    "ExecuteTime": {
     "end_time": "2024-04-22T18:18:09.202792Z",
     "start_time": "2024-04-22T18:18:08.957862Z"
    }
   },
   "cell_type": "code",
   "source": [
    "def write_gml(graph, filename):\n",
    "    tmp_graph = nx.Graph()\n",
    "    tmp_graph.add_nodes_from(graph.nodes())\n",
    "    tmp_graph.add_edges_from(graph.edges())\n",
    "    nx.write_gml(tmp_graph, \"../data/\" + filename + \".gml\")\n",
    "\n",
    "\n",
    "bp_db.reset_index(drop=True, inplace=True)\n",
    "bp_db.to_csv(\"../data/GOannotations_kept.csv\")\n",
    "write_gml(bp_graph, \"bp_graph\")"
   ],
   "id": "2b1c6cad2597d79c",
   "outputs": [],
   "execution_count": 195
  },
  {
   "cell_type": "markdown",
   "id": "e4f684c5ea0ea03c",
   "metadata": {},
   "source": "## get the degree and level info of the GO terms"
  },
  {
   "cell_type": "code",
   "id": "75f634bd84dbb5fe",
   "metadata": {
    "ExecuteTime": {
     "end_time": "2024-04-22T18:17:48.266226Z",
     "start_time": "2024-04-22T18:17:47.689585Z"
    }
   },
   "source": [
    "in_d = [x[1] for x in bp_graph.in_degree()]\n",
    "out_d = [x[1] for x in bp_graph.out_degree()]\n",
    "levels = [nx.shortest_path_length(bp_graph, x, bp_node) for x in bp_graph.nodes]\n",
    "go_nodes = list(bp_graph.nodes)\n",
    "dfInfoGraph = pd.DataFrame({\"root\": levels, \"d+\": out_d, \"d-\": in_d}, index=go_nodes)\n",
    "dfInfoGraph.head()"
   ],
   "outputs": [
    {
     "data": {
      "text/plain": [
       "            root  d+  d-\n",
       "GO:0014063     4   4   0\n",
       "GO:0042981     4   2  17\n",
       "GO:0071027     7   1   7\n",
       "GO:0035600     7   1   0\n",
       "GO:0062232     7   1   1"
      ],
      "text/html": [
       "<div>\n",
       "<style scoped>\n",
       "    .dataframe tbody tr th:only-of-type {\n",
       "        vertical-align: middle;\n",
       "    }\n",
       "\n",
       "    .dataframe tbody tr th {\n",
       "        vertical-align: top;\n",
       "    }\n",
       "\n",
       "    .dataframe thead th {\n",
       "        text-align: right;\n",
       "    }\n",
       "</style>\n",
       "<table border=\"1\" class=\"dataframe\">\n",
       "  <thead>\n",
       "    <tr style=\"text-align: right;\">\n",
       "      <th></th>\n",
       "      <th>root</th>\n",
       "      <th>d+</th>\n",
       "      <th>d-</th>\n",
       "    </tr>\n",
       "  </thead>\n",
       "  <tbody>\n",
       "    <tr>\n",
       "      <th>GO:0014063</th>\n",
       "      <td>4</td>\n",
       "      <td>4</td>\n",
       "      <td>0</td>\n",
       "    </tr>\n",
       "    <tr>\n",
       "      <th>GO:0042981</th>\n",
       "      <td>4</td>\n",
       "      <td>2</td>\n",
       "      <td>17</td>\n",
       "    </tr>\n",
       "    <tr>\n",
       "      <th>GO:0071027</th>\n",
       "      <td>7</td>\n",
       "      <td>1</td>\n",
       "      <td>7</td>\n",
       "    </tr>\n",
       "    <tr>\n",
       "      <th>GO:0035600</th>\n",
       "      <td>7</td>\n",
       "      <td>1</td>\n",
       "      <td>0</td>\n",
       "    </tr>\n",
       "    <tr>\n",
       "      <th>GO:0062232</th>\n",
       "      <td>7</td>\n",
       "      <td>1</td>\n",
       "      <td>1</td>\n",
       "    </tr>\n",
       "  </tbody>\n",
       "</table>\n",
       "</div>"
      ]
     },
     "execution_count": 189,
     "metadata": {},
     "output_type": "execute_result"
    }
   ],
   "execution_count": 189
  },
  {
   "cell_type": "code",
   "id": "5facb592e9bbecec",
   "metadata": {
    "ExecuteTime": {
     "end_time": "2024-04-22T18:17:48.758949Z",
     "start_time": "2024-04-22T18:17:48.753749Z"
    }
   },
   "source": [
    "dfInfoGraph.describe()"
   ],
   "outputs": [
    {
     "data": {
      "text/plain": [
       "               root            d+            d-\n",
       "count  15339.000000  15339.000000  15339.000000\n",
       "mean       4.848165      2.243758      2.243758\n",
       "std        1.362831      1.003891      4.213385\n",
       "min        0.000000      0.000000      0.000000\n",
       "25%        4.000000      2.000000      0.000000\n",
       "50%        5.000000      2.000000      1.000000\n",
       "75%        6.000000      3.000000      3.000000\n",
       "max       11.000000      9.000000    136.000000"
      ],
      "text/html": [
       "<div>\n",
       "<style scoped>\n",
       "    .dataframe tbody tr th:only-of-type {\n",
       "        vertical-align: middle;\n",
       "    }\n",
       "\n",
       "    .dataframe tbody tr th {\n",
       "        vertical-align: top;\n",
       "    }\n",
       "\n",
       "    .dataframe thead th {\n",
       "        text-align: right;\n",
       "    }\n",
       "</style>\n",
       "<table border=\"1\" class=\"dataframe\">\n",
       "  <thead>\n",
       "    <tr style=\"text-align: right;\">\n",
       "      <th></th>\n",
       "      <th>root</th>\n",
       "      <th>d+</th>\n",
       "      <th>d-</th>\n",
       "    </tr>\n",
       "  </thead>\n",
       "  <tbody>\n",
       "    <tr>\n",
       "      <th>count</th>\n",
       "      <td>15339.000000</td>\n",
       "      <td>15339.000000</td>\n",
       "      <td>15339.000000</td>\n",
       "    </tr>\n",
       "    <tr>\n",
       "      <th>mean</th>\n",
       "      <td>4.848165</td>\n",
       "      <td>2.243758</td>\n",
       "      <td>2.243758</td>\n",
       "    </tr>\n",
       "    <tr>\n",
       "      <th>std</th>\n",
       "      <td>1.362831</td>\n",
       "      <td>1.003891</td>\n",
       "      <td>4.213385</td>\n",
       "    </tr>\n",
       "    <tr>\n",
       "      <th>min</th>\n",
       "      <td>0.000000</td>\n",
       "      <td>0.000000</td>\n",
       "      <td>0.000000</td>\n",
       "    </tr>\n",
       "    <tr>\n",
       "      <th>25%</th>\n",
       "      <td>4.000000</td>\n",
       "      <td>2.000000</td>\n",
       "      <td>0.000000</td>\n",
       "    </tr>\n",
       "    <tr>\n",
       "      <th>50%</th>\n",
       "      <td>5.000000</td>\n",
       "      <td>2.000000</td>\n",
       "      <td>1.000000</td>\n",
       "    </tr>\n",
       "    <tr>\n",
       "      <th>75%</th>\n",
       "      <td>6.000000</td>\n",
       "      <td>3.000000</td>\n",
       "      <td>3.000000</td>\n",
       "    </tr>\n",
       "    <tr>\n",
       "      <th>max</th>\n",
       "      <td>11.000000</td>\n",
       "      <td>9.000000</td>\n",
       "      <td>136.000000</td>\n",
       "    </tr>\n",
       "  </tbody>\n",
       "</table>\n",
       "</div>"
      ]
     },
     "execution_count": 190,
     "metadata": {},
     "output_type": "execute_result"
    }
   ],
   "execution_count": 190
  },
  {
   "cell_type": "code",
   "id": "5b6618d0229af708",
   "metadata": {
    "ExecuteTime": {
     "end_time": "2024-04-22T18:17:49.419472Z",
     "start_time": "2024-04-22T18:17:49.358844Z"
    }
   },
   "source": [
    "import matplotlib.pyplot as plt\n",
    "\n",
    "dfInfoGraph.groupby(\"root\").size().plot(kind='bar')\n",
    "plt.show()"
   ],
   "outputs": [
    {
     "data": {
      "text/plain": [
       "<Figure size 640x480 with 1 Axes>"
      ],
      "image/png": "[encoded data removed]"
     },
     "metadata": {},
     "output_type": "display_data"
    }
   ],
   "execution_count": 191
  },
  {
   "cell_type": "code",
   "id": "1e3200e519282d62",
   "metadata": {
    "ExecuteTime": {
     "end_time": "2024-04-22T18:17:50.050114Z",
     "start_time": "2024-04-22T18:17:50.038603Z"
    }
   },
   "source": "dfInfoGraph.to_csv(\"../data/go_to_level.csv\")",
   "outputs": [],
   "execution_count": 192
  },
  {
   "metadata": {},
   "cell_type": "markdown",
   "source": "## Convert the names of the nodes into integer",
   "id": "685252a0b3260df3"
  },
  {
   "metadata": {
    "ExecuteTime": {
     "end_time": "2024-04-22T18:17:51.686786Z",
     "start_time": "2024-04-22T18:17:51.673558Z"
    }
   },
   "cell_type": "code",
   "source": [
    "bp_db_go = sorted(set(bp_db['GO']).union(set(bp_graph.nodes)))\n",
    "len(bp_db_go)"
   ],
   "id": "91d932990054aaaf",
   "outputs": [
    {
     "data": {
      "text/plain": [
       "15339"
      ]
     },
     "execution_count": 193,
     "metadata": {},
     "output_type": "execute_result"
    }
   ],
   "execution_count": 193
  },
  {
   "metadata": {
    "ExecuteTime": {
     "end_time": "2024-04-22T18:17:52.306008Z",
     "start_time": "2024-04-22T18:17:52.293213Z"
    }
   },
   "cell_type": "code",
   "source": [
    "import json\n",
    "\n",
    "map_int_go = {i: go for i, go in enumerate(bp_db_go)}\n",
    "with open('../data/map_int_go.txt', 'w') as f:\n",
    "    json.dump(map_int_go, f, indent=2)"
   ],
   "id": "c3079f76325812a4",
   "outputs": [],
   "execution_count": 194
  },
  {
   "cell_type": "markdown",
   "id": "a3c3935840b4942d",
   "metadata": {},
   "source": []
  }
 ],
 "metadata": {
  "kernelspec": {
   "display_name": "Python 3 (ipykernel)",
   "language": "python",
   "name": "python3"
  },
  "language_info": {
   "codemirror_mode": {
    "name": "ipython",
    "version": 3
   },
   "file_extension": ".py",
   "mimetype": "text/x-python",
   "name": "python",
   "nbconvert_exporter": "python",
   "pygments_lexer": "ipython3",
   "version": "3.11.7"
  }
 },
 "nbformat": 4,
 "nbformat_minor": 5
}
