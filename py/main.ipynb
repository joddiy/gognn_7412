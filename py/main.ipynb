{
 "cells": [
  {
   "metadata": {
    "ExecuteTime": {
     "end_time": "2024-04-18T15:08:17.727191Z",
     "start_time": "2024-04-18T15:08:17.725222Z"
    }
   },
   "cell_type": "code",
   "source": [
    "import pandas as pd\n",
    "import numpy as np"
   ],
   "id": "cdcfbde79d35818e",
   "outputs": [],
   "execution_count": 168
  },
  {
   "metadata": {},
   "cell_type": "markdown",
   "source": "# Load the data generated from the R code",
   "id": "c0dc7edd201e6ea3"
  },
  {
   "metadata": {
    "ExecuteTime": {
     "end_time": "2024-04-18T15:38:01.813939Z",
     "start_time": "2024-04-18T15:38:01.726866Z"
    }
   },
   "cell_type": "code",
   "source": [
    "go_bp = pd.read_csv(\"./GO_BP.csv\")\n",
    "go_bp = go_bp.drop(labels=['EVIDENCE', 'ENTREZID', 'ONTOLOGY'], axis=1)\n",
    "go_bp = go_bp.drop_duplicates()\n",
    "go_bp.head()"
   ],
   "id": "6e21320f8ba31a12",
   "outputs": [
    {
     "data": {
      "text/plain": [
       "           ENSEMBL          GO\n",
       "0  ENSG00000000003  GO:0039532\n",
       "1  ENSG00000000003  GO:0043123\n",
       "2  ENSG00000000003  GO:1901223\n",
       "3  ENSG00000000005  GO:0001886\n",
       "4  ENSG00000000005  GO:0001937"
      ],
      "text/html": [
       "<div>\n",
       "<style scoped>\n",
       "    .dataframe tbody tr th:only-of-type {\n",
       "        vertical-align: middle;\n",
       "    }\n",
       "\n",
       "    .dataframe tbody tr th {\n",
       "        vertical-align: top;\n",
       "    }\n",
       "\n",
       "    .dataframe thead th {\n",
       "        text-align: right;\n",
       "    }\n",
       "</style>\n",
       "<table border=\"1\" class=\"dataframe\">\n",
       "  <thead>\n",
       "    <tr style=\"text-align: right;\">\n",
       "      <th></th>\n",
       "      <th>ENSEMBL</th>\n",
       "      <th>GO</th>\n",
       "    </tr>\n",
       "  </thead>\n",
       "  <tbody>\n",
       "    <tr>\n",
       "      <th>0</th>\n",
       "      <td>ENSG00000000003</td>\n",
       "      <td>GO:0039532</td>\n",
       "    </tr>\n",
       "    <tr>\n",
       "      <th>1</th>\n",
       "      <td>ENSG00000000003</td>\n",
       "      <td>GO:0043123</td>\n",
       "    </tr>\n",
       "    <tr>\n",
       "      <th>2</th>\n",
       "      <td>ENSG00000000003</td>\n",
       "      <td>GO:1901223</td>\n",
       "    </tr>\n",
       "    <tr>\n",
       "      <th>3</th>\n",
       "      <td>ENSG00000000005</td>\n",
       "      <td>GO:0001886</td>\n",
       "    </tr>\n",
       "    <tr>\n",
       "      <th>4</th>\n",
       "      <td>ENSG00000000005</td>\n",
       "      <td>GO:0001937</td>\n",
       "    </tr>\n",
       "  </tbody>\n",
       "</table>\n",
       "</div>"
      ]
     },
     "execution_count": 222,
     "metadata": {},
     "output_type": "execute_result"
    }
   ],
   "execution_count": 222
  },
  {
   "metadata": {
    "ExecuteTime": {
     "end_time": "2024-04-18T15:08:21.966447Z",
     "start_time": "2024-04-18T15:08:17.854827Z"
    }
   },
   "cell_type": "code",
   "source": [
    "counts1 = pd.read_csv(\"./counts1.csv\", index_col=0)\n",
    "counts1.head()"
   ],
   "id": "89e52c314dbc130f",
   "outputs": [
    {
     "data": {
      "text/plain": [
       "         ENSG00000000003  ENSG00000000005  ENSG00000000419  ENSG00000000457  \\\n",
       "089357B               14                7              103              241   \n",
       "089366A               11                2              194              511   \n",
       "089412B                8                0              312              450   \n",
       "089425B                9                0              135              496   \n",
       "089687A                4                0               89              267   \n",
       "\n",
       "         ENSG00000000460  ENSG00000000938  ENSG00000000971  ENSG00000001036  \\\n",
       "089357B               72             2057               30               60   \n",
       "089366A              110             3325               36              111   \n",
       "089412B              106             3751               45              160   \n",
       "089425B              133             2758               26               93   \n",
       "089687A               49             2181               24               75   \n",
       "\n",
       "         ENSG00000001084  ENSG00000001167  ...  ENSGR0000167393  \\\n",
       "089357B              207              367  ...                1   \n",
       "089366A              186              530  ...                0   \n",
       "089412B              325              653  ...                0   \n",
       "089425B              182              620  ...                0   \n",
       "089687A              122              263  ...                0   \n",
       "\n",
       "         ENSGR0000169084  ENSGR0000169093  ENSGR0000178605  ENSGR0000182378  \\\n",
       "089357B                0                0                0                0   \n",
       "089366A                0                0                0                0   \n",
       "089412B                0                0                0                0   \n",
       "089425B                0                0                0                0   \n",
       "089687A                0                0                0                0   \n",
       "\n",
       "         ENSGR0000185291  ENSGR0000198223  ENSGR0000214717  ENSGR0000223511  \\\n",
       "089357B                0                0                0                0   \n",
       "089366A                0                1                0                0   \n",
       "089412B                0                1                0                0   \n",
       "089425B                0                0                0                0   \n",
       "089687A                0                1                0                0   \n",
       "\n",
       "         ENSGR0000223773  \n",
       "089357B                0  \n",
       "089366A                1  \n",
       "089412B                0  \n",
       "089425B                0  \n",
       "089687A                0  \n",
       "\n",
       "[5 rows x 52645 columns]"
      ],
      "text/html": [
       "<div>\n",
       "<style scoped>\n",
       "    .dataframe tbody tr th:only-of-type {\n",
       "        vertical-align: middle;\n",
       "    }\n",
       "\n",
       "    .dataframe tbody tr th {\n",
       "        vertical-align: top;\n",
       "    }\n",
       "\n",
       "    .dataframe thead th {\n",
       "        text-align: right;\n",
       "    }\n",
       "</style>\n",
       "<table border=\"1\" class=\"dataframe\">\n",
       "  <thead>\n",
       "    <tr style=\"text-align: right;\">\n",
       "      <th></th>\n",
       "      <th>ENSG00000000003</th>\n",
       "      <th>ENSG00000000005</th>\n",
       "      <th>ENSG00000000419</th>\n",
       "      <th>ENSG00000000457</th>\n",
       "      <th>ENSG00000000460</th>\n",
       "      <th>ENSG00000000938</th>\n",
       "      <th>ENSG00000000971</th>\n",
       "      <th>ENSG00000001036</th>\n",
       "      <th>ENSG00000001084</th>\n",
       "      <th>ENSG00000001167</th>\n",
       "      <th>...</th>\n",
       "      <th>ENSGR0000167393</th>\n",
       "      <th>ENSGR0000169084</th>\n",
       "      <th>ENSGR0000169093</th>\n",
       "      <th>ENSGR0000178605</th>\n",
       "      <th>ENSGR0000182378</th>\n",
       "      <th>ENSGR0000185291</th>\n",
       "      <th>ENSGR0000198223</th>\n",
       "      <th>ENSGR0000214717</th>\n",
       "      <th>ENSGR0000223511</th>\n",
       "      <th>ENSGR0000223773</th>\n",
       "    </tr>\n",
       "  </thead>\n",
       "  <tbody>\n",
       "    <tr>\n",
       "      <th>089357B</th>\n",
       "      <td>14</td>\n",
       "      <td>7</td>\n",
       "      <td>103</td>\n",
       "      <td>241</td>\n",
       "      <td>72</td>\n",
       "      <td>2057</td>\n",
       "      <td>30</td>\n",
       "      <td>60</td>\n",
       "      <td>207</td>\n",
       "      <td>367</td>\n",
       "      <td>...</td>\n",
       "      <td>1</td>\n",
       "      <td>0</td>\n",
       "      <td>0</td>\n",
       "      <td>0</td>\n",
       "      <td>0</td>\n",
       "      <td>0</td>\n",
       "      <td>0</td>\n",
       "      <td>0</td>\n",
       "      <td>0</td>\n",
       "      <td>0</td>\n",
       "    </tr>\n",
       "    <tr>\n",
       "      <th>089366A</th>\n",
       "      <td>11</td>\n",
       "      <td>2</td>\n",
       "      <td>194</td>\n",
       "      <td>511</td>\n",
       "      <td>110</td>\n",
       "      <td>3325</td>\n",
       "      <td>36</td>\n",
       "      <td>111</td>\n",
       "      <td>186</td>\n",
       "      <td>530</td>\n",
       "      <td>...</td>\n",
       "      <td>0</td>\n",
       "      <td>0</td>\n",
       "      <td>0</td>\n",
       "      <td>0</td>\n",
       "      <td>0</td>\n",
       "      <td>0</td>\n",
       "      <td>1</td>\n",
       "      <td>0</td>\n",
       "      <td>0</td>\n",
       "      <td>1</td>\n",
       "    </tr>\n",
       "    <tr>\n",
       "      <th>089412B</th>\n",
       "      <td>8</td>\n",
       "      <td>0</td>\n",
       "      <td>312</td>\n",
       "      <td>450</td>\n",
       "      <td>106</td>\n",
       "      <td>3751</td>\n",
       "      <td>45</td>\n",
       "      <td>160</td>\n",
       "      <td>325</td>\n",
       "      <td>653</td>\n",
       "      <td>...</td>\n",
       "      <td>0</td>\n",
       "      <td>0</td>\n",
       "      <td>0</td>\n",
       "      <td>0</td>\n",
       "      <td>0</td>\n",
       "      <td>0</td>\n",
       "      <td>1</td>\n",
       "      <td>0</td>\n",
       "      <td>0</td>\n",
       "      <td>0</td>\n",
       "    </tr>\n",
       "    <tr>\n",
       "      <th>089425B</th>\n",
       "      <td>9</td>\n",
       "      <td>0</td>\n",
       "      <td>135</td>\n",
       "      <td>496</td>\n",
       "      <td>133</td>\n",
       "      <td>2758</td>\n",
       "      <td>26</td>\n",
       "      <td>93</td>\n",
       "      <td>182</td>\n",
       "      <td>620</td>\n",
       "      <td>...</td>\n",
       "      <td>0</td>\n",
       "      <td>0</td>\n",
       "      <td>0</td>\n",
       "      <td>0</td>\n",
       "      <td>0</td>\n",
       "      <td>0</td>\n",
       "      <td>0</td>\n",
       "      <td>0</td>\n",
       "      <td>0</td>\n",
       "      <td>0</td>\n",
       "    </tr>\n",
       "    <tr>\n",
       "      <th>089687A</th>\n",
       "      <td>4</td>\n",
       "      <td>0</td>\n",
       "      <td>89</td>\n",
       "      <td>267</td>\n",
       "      <td>49</td>\n",
       "      <td>2181</td>\n",
       "      <td>24</td>\n",
       "      <td>75</td>\n",
       "      <td>122</td>\n",
       "      <td>263</td>\n",
       "      <td>...</td>\n",
       "      <td>0</td>\n",
       "      <td>0</td>\n",
       "      <td>0</td>\n",
       "      <td>0</td>\n",
       "      <td>0</td>\n",
       "      <td>0</td>\n",
       "      <td>1</td>\n",
       "      <td>0</td>\n",
       "      <td>0</td>\n",
       "      <td>0</td>\n",
       "    </tr>\n",
       "  </tbody>\n",
       "</table>\n",
       "<p>5 rows × 52645 columns</p>\n",
       "</div>"
      ]
     },
     "execution_count": 170,
     "metadata": {},
     "output_type": "execute_result"
    }
   ],
   "execution_count": 170
  },
  {
   "metadata": {
    "ExecuteTime": {
     "end_time": "2024-04-18T15:08:21.971043Z",
     "start_time": "2024-04-18T15:08:21.967037Z"
    }
   },
   "cell_type": "code",
   "source": [
    "pheno1 = pd.read_csv(\"./pheno1.csv\", index_col=0)\n",
    "pheno1.head()"
   ],
   "id": "2f66d52f7e455138",
   "outputs": [
    {
     "data": {
      "text/plain": [
       "         age diagnosis sex  lithium condition\n",
       "089357B   18   Control   F        0   Control\n",
       "089366A   19   Control   F        0   Control\n",
       "089412B   23   Control   F        0   Control\n",
       "089425B   47   Control   F        0   Control\n",
       "089687A   52   Control   F        0   Control"
      ],
      "text/html": [
       "<div>\n",
       "<style scoped>\n",
       "    .dataframe tbody tr th:only-of-type {\n",
       "        vertical-align: middle;\n",
       "    }\n",
       "\n",
       "    .dataframe tbody tr th {\n",
       "        vertical-align: top;\n",
       "    }\n",
       "\n",
       "    .dataframe thead th {\n",
       "        text-align: right;\n",
       "    }\n",
       "</style>\n",
       "<table border=\"1\" class=\"dataframe\">\n",
       "  <thead>\n",
       "    <tr style=\"text-align: right;\">\n",
       "      <th></th>\n",
       "      <th>age</th>\n",
       "      <th>diagnosis</th>\n",
       "      <th>sex</th>\n",
       "      <th>lithium</th>\n",
       "      <th>condition</th>\n",
       "    </tr>\n",
       "  </thead>\n",
       "  <tbody>\n",
       "    <tr>\n",
       "      <th>089357B</th>\n",
       "      <td>18</td>\n",
       "      <td>Control</td>\n",
       "      <td>F</td>\n",
       "      <td>0</td>\n",
       "      <td>Control</td>\n",
       "    </tr>\n",
       "    <tr>\n",
       "      <th>089366A</th>\n",
       "      <td>19</td>\n",
       "      <td>Control</td>\n",
       "      <td>F</td>\n",
       "      <td>0</td>\n",
       "      <td>Control</td>\n",
       "    </tr>\n",
       "    <tr>\n",
       "      <th>089412B</th>\n",
       "      <td>23</td>\n",
       "      <td>Control</td>\n",
       "      <td>F</td>\n",
       "      <td>0</td>\n",
       "      <td>Control</td>\n",
       "    </tr>\n",
       "    <tr>\n",
       "      <th>089425B</th>\n",
       "      <td>47</td>\n",
       "      <td>Control</td>\n",
       "      <td>F</td>\n",
       "      <td>0</td>\n",
       "      <td>Control</td>\n",
       "    </tr>\n",
       "    <tr>\n",
       "      <th>089687A</th>\n",
       "      <td>52</td>\n",
       "      <td>Control</td>\n",
       "      <td>F</td>\n",
       "      <td>0</td>\n",
       "      <td>Control</td>\n",
       "    </tr>\n",
       "  </tbody>\n",
       "</table>\n",
       "</div>"
      ]
     },
     "execution_count": 171,
     "metadata": {},
     "output_type": "execute_result"
    }
   ],
   "execution_count": 171
  },
  {
   "metadata": {},
   "cell_type": "markdown",
   "source": "# Data Exploration Analysis",
   "id": "9f1f9eccef0f836"
  },
  {
   "metadata": {
    "ExecuteTime": {
     "end_time": "2024-04-18T15:08:21.978236Z",
     "start_time": "2024-04-18T15:08:21.972047Z"
    }
   },
   "cell_type": "code",
   "source": [
    "available_genes = set(go_bp.ENSEMBL)\n",
    "(\"length of all_genes :\", len(available_genes))"
   ],
   "id": "9eb7b0b407e3e4c0",
   "outputs": [
    {
     "data": {
      "text/plain": [
       "('length of all_genes :', 17599)"
      ]
     },
     "execution_count": 172,
     "metadata": {},
     "output_type": "execute_result"
    }
   ],
   "execution_count": 172
  },
  {
   "metadata": {
    "ExecuteTime": {
     "end_time": "2024-04-18T15:08:21.982890Z",
     "start_time": "2024-04-18T15:08:21.978795Z"
    }
   },
   "cell_type": "code",
   "source": [
    "data_genes = set(counts1.columns)\n",
    "(\"length of data_genes :\", len(data_genes))"
   ],
   "id": "26a89637c0cec476",
   "outputs": [
    {
     "data": {
      "text/plain": [
       "('length of data_genes :', 52645)"
      ]
     },
     "execution_count": 173,
     "metadata": {},
     "output_type": "execute_result"
    }
   ],
   "execution_count": 173
  },
  {
   "metadata": {
    "ExecuteTime": {
     "end_time": "2024-04-18T15:08:21.986947Z",
     "start_time": "2024-04-18T15:08:21.983426Z"
    }
   },
   "cell_type": "code",
   "source": "(\"Number of genes missing :\", len(data_genes - available_genes))",
   "id": "170bd4f7cf1820a0",
   "outputs": [
    {
     "data": {
      "text/plain": [
       "('Number of genes missing :', 35046)"
      ]
     },
     "execution_count": 174,
     "metadata": {},
     "output_type": "execute_result"
    }
   ],
   "execution_count": 174
  },
  {
   "metadata": {
    "ExecuteTime": {
     "end_time": "2024-04-18T15:08:21.991163Z",
     "start_time": "2024-04-18T15:08:21.987425Z"
    }
   },
   "cell_type": "code",
   "source": "(\"Ratio of genes missing : {:.2f}%\".format(len(data_genes - available_genes) / len(data_genes) * 100))",
   "id": "24ad05188a12a669",
   "outputs": [
    {
     "data": {
      "text/plain": [
       "'Ratio of genes missing : 66.57%'"
      ]
     },
     "execution_count": 175,
     "metadata": {},
     "output_type": "execute_result"
    }
   ],
   "execution_count": 175
  },
  {
   "metadata": {},
   "cell_type": "markdown",
   "source": "# GO layers architecture",
   "id": "294cdaf0a2f242f7"
  },
  {
   "metadata": {},
   "cell_type": "markdown",
   "source": "## load GO graph",
   "id": "3a82ebd78225a2ad"
  },
  {
   "metadata": {
    "ExecuteTime": {
     "end_time": "2024-04-18T15:08:21.993018Z",
     "start_time": "2024-04-18T15:08:21.991722Z"
    }
   },
   "cell_type": "code",
   "source": [
    "import obonet\n",
    "import networkx as nx"
   ],
   "id": "cac2288dabb16ee3",
   "outputs": [],
   "execution_count": 176
  },
  {
   "metadata": {
    "ExecuteTime": {
     "end_time": "2024-04-18T15:08:32.434135Z",
     "start_time": "2024-04-18T15:08:21.993440Z"
    }
   },
   "cell_type": "code",
   "source": [
    "# Read the gene ontology\n",
    "!wget http://purl.obolibrary.org/obo/go/go-basic.obo \n",
    "original_graph = obonet.read_obo('go-basic.obo')\n",
    "!rm go-basic.obo"
   ],
   "id": "b9be098898934092",
   "outputs": [
    {
     "name": "stdout",
     "output_type": "stream",
     "text": [
      "--2024-04-18 23:08:22--  http://purl.obolibrary.org/obo/go/go-basic.obo\r\n",
      "Resolving purl.obolibrary.org (purl.obolibrary.org)... 2606:4700:4400::ac40:96c5, 2606:4700:4400::6812:253b, 104.18.37.59, ...\r\n",
      "Connecting to purl.obolibrary.org (purl.obolibrary.org)|2606:4700:4400::ac40:96c5|:80... connected.\r\n",
      "HTTP request sent, awaiting response... 302 Found\r\n",
      "Location: http://current.geneontology.org/ontology/go-basic.obo [following]\r\n",
      "--2024-04-18 23:08:23--  http://current.geneontology.org/ontology/go-basic.obo\r\n",
      "Resolving current.geneontology.org (current.geneontology.org)... 2600:9000:24db:e800:d:ff6c:c780:93a1, 2600:9000:24db:0:d:ff6c:c780:93a1, 2600:9000:24db:a200:d:ff6c:c780:93a1, ...\r\n",
      "Connecting to current.geneontology.org (current.geneontology.org)|2600:9000:24db:e800:d:ff6c:c780:93a1|:80... connected.\r\n",
      "HTTP request sent, awaiting response... 200 OK\r\n",
      "Length: 31267219 (30M) [text/obo]\r\n",
      "Saving to: ‘go-basic.obo’\r\n",
      "\r\n",
      "go-basic.obo        100%[===================>]  29.82M  6.77MB/s    in 4.4s    \r\n",
      "\r\n",
      "2024-04-18 23:08:28 (6.77 MB/s) - ‘go-basic.obo’ saved [31267219/31267219]\r\n",
      "\r\n"
     ]
    }
   ],
   "execution_count": 177
  },
  {
   "metadata": {
    "ExecuteTime": {
     "end_time": "2024-04-18T15:08:32.474548Z",
     "start_time": "2024-04-18T15:08:32.437529Z"
    }
   },
   "cell_type": "code",
   "source": "print(original_graph)",
   "id": "a5995b170a1348e4",
   "outputs": [
    {
     "name": "stdout",
     "output_type": "stream",
     "text": [
      "MultiDiGraph named 'go' with 42312 nodes and 82461 edges\n"
     ]
    }
   ],
   "execution_count": 178
  },
  {
   "metadata": {},
   "cell_type": "markdown",
   "source": "## only keep the Biological Process (BP) subgraph",
   "id": "423264054ff2f2ec"
  },
  {
   "metadata": {
    "ExecuteTime": {
     "end_time": "2024-04-18T15:08:32.502870Z",
     "start_time": "2024-04-18T15:08:32.475078Z"
    }
   },
   "cell_type": "code",
   "source": [
    "node_BP = \"GO:0008150\"\n",
    "nodes_BP = nx.ancestors(original_graph, node_BP)\n",
    "nodes_BP.add(node_BP)\n",
    "print(\"Number of nodes in the graph : \", len(nodes_BP))"
   ],
   "id": "825a3673ae8a59bc",
   "outputs": [
    {
     "name": "stdout",
     "output_type": "stream",
     "text": [
      "Number of nodes in the graph :  27074\n"
     ]
    }
   ],
   "execution_count": 179
  },
  {
   "metadata": {
    "ExecuteTime": {
     "end_time": "2024-04-18T15:08:32.882573Z",
     "start_time": "2024-04-18T15:08:32.503447Z"
    }
   },
   "cell_type": "code",
   "source": [
    "graph_BP = original_graph.subgraph(nodes_BP)\n",
    "nx.is_directed_acyclic_graph(graph_BP)"
   ],
   "id": "febec95a2eca878d",
   "outputs": [
    {
     "data": {
      "text/plain": [
       "True"
      ]
     },
     "execution_count": 180,
     "metadata": {},
     "output_type": "execute_result"
    }
   ],
   "execution_count": 180
  },
  {
   "metadata": {},
   "cell_type": "markdown",
   "source": "## remove the subgraph which are not in the list of GO terms",
   "id": "2e42e475d6c096f3"
  },
  {
   "metadata": {
    "ExecuteTime": {
     "end_time": "2024-04-18T15:08:32.888684Z",
     "start_time": "2024-04-18T15:08:32.883136Z"
    }
   },
   "cell_type": "code",
   "source": "",
   "id": "55c4cc72b67fcce8",
   "outputs": [
    {
     "data": {
      "text/plain": [
       "           ENSEMBL          GO\n",
       "0  ENSG00000000003  GO:0039532\n",
       "1  ENSG00000000003  GO:0043123\n",
       "2  ENSG00000000003  GO:1901223\n",
       "3  ENSG00000000005  GO:0001886\n",
       "4  ENSG00000000005  GO:0001937"
      ],
      "text/html": [
       "<div>\n",
       "<style scoped>\n",
       "    .dataframe tbody tr th:only-of-type {\n",
       "        vertical-align: middle;\n",
       "    }\n",
       "\n",
       "    .dataframe tbody tr th {\n",
       "        vertical-align: top;\n",
       "    }\n",
       "\n",
       "    .dataframe thead th {\n",
       "        text-align: right;\n",
       "    }\n",
       "</style>\n",
       "<table border=\"1\" class=\"dataframe\">\n",
       "  <thead>\n",
       "    <tr style=\"text-align: right;\">\n",
       "      <th></th>\n",
       "      <th>ENSEMBL</th>\n",
       "      <th>GO</th>\n",
       "    </tr>\n",
       "  </thead>\n",
       "  <tbody>\n",
       "    <tr>\n",
       "      <th>0</th>\n",
       "      <td>ENSG00000000003</td>\n",
       "      <td>GO:0039532</td>\n",
       "    </tr>\n",
       "    <tr>\n",
       "      <th>1</th>\n",
       "      <td>ENSG00000000003</td>\n",
       "      <td>GO:0043123</td>\n",
       "    </tr>\n",
       "    <tr>\n",
       "      <th>2</th>\n",
       "      <td>ENSG00000000003</td>\n",
       "      <td>GO:1901223</td>\n",
       "    </tr>\n",
       "    <tr>\n",
       "      <th>3</th>\n",
       "      <td>ENSG00000000005</td>\n",
       "      <td>GO:0001886</td>\n",
       "    </tr>\n",
       "    <tr>\n",
       "      <th>4</th>\n",
       "      <td>ENSG00000000005</td>\n",
       "      <td>GO:0001937</td>\n",
       "    </tr>\n",
       "  </tbody>\n",
       "</table>\n",
       "</div>"
      ]
     },
     "execution_count": 181,
     "metadata": {},
     "output_type": "execute_result"
    }
   ],
   "execution_count": 181
  },
  {
   "metadata": {
    "ExecuteTime": {
     "end_time": "2024-04-18T15:08:32.895182Z",
     "start_time": "2024-04-18T15:08:32.889314Z"
    }
   },
   "cell_type": "code",
   "source": [
    "terms_go = gene_go_map.GO.unique()\n",
    "terms_go = list(terms_go)\n",
    "len(terms_go)"
   ],
   "id": "8388f83b8a4c6fe3",
   "outputs": [
    {
     "data": {
      "text/plain": [
       "12305"
      ]
     },
     "execution_count": 182,
     "metadata": {},
     "output_type": "execute_result"
    }
   ],
   "execution_count": 182
  },
  {
   "metadata": {},
   "cell_type": "markdown",
   "source": "iterate from the leaves to the root, trim all the branches that do not contain any GO term",
   "id": "2b3e6124be8c2e86"
  },
  {
   "metadata": {
    "ExecuteTime": {
     "end_time": "2024-04-18T15:10:46.458487Z",
     "start_time": "2024-04-18T15:08:32.895722Z"
    }
   },
   "cell_type": "code",
   "source": [
    "from tqdm import tqdm\n",
    "\n",
    "list_nodes_useless_cropped = [x for x in nodes_BP if graph_BP.in_degree(x) == 0 and x not in terms_go]\n",
    "list_ancestors_to_remove, list_ancestors_to_keep = [], []\n",
    "\n",
    "for child in tqdm(list_nodes_useless_cropped):\n",
    "    ancestors = nx.descendants(graph_BP, child)\n",
    "    for ancestor in ancestors:\n",
    "        if (list_ancestors_to_remove.count(ancestor) == 0) and (list_ancestors_to_keep.count(ancestor) == 0):\n",
    "            if terms_go.count(ancestor) == 0:\n",
    "                descendants = list(nx.ancestors(graph_BP, ancestor))\n",
    "                if gene_go_map.GO.isin(descendants).sum() == 0:\n",
    "                    list_ancestors_to_remove.append(ancestor)\n",
    "                else:\n",
    "                    list_ancestors_to_keep.append(ancestor)\n",
    "            else:\n",
    "                list_ancestors_to_keep.append(ancestor)"
   ],
   "id": "fadf39c57889b5c",
   "outputs": [
    {
     "name": "stderr",
     "output_type": "stream",
     "text": [
      "100%|██████████| 7255/7255 [02:12<00:00, 54.59it/s]\n"
     ]
    }
   ],
   "execution_count": 183
  },
  {
   "metadata": {
    "ExecuteTime": {
     "end_time": "2024-04-18T15:10:46.470148Z",
     "start_time": "2024-04-18T15:10:46.459457Z"
    }
   },
   "cell_type": "code",
   "source": [
    "list_nodes_to_remove = set(list_ancestors_to_remove + list_nodes_useless_cropped)\n",
    "len(list_nodes_to_remove)"
   ],
   "id": "b270cc1cd545a43",
   "outputs": [
    {
     "data": {
      "text/plain": [
       "11707"
      ]
     },
     "execution_count": 184,
     "metadata": {},
     "output_type": "execute_result"
    }
   ],
   "execution_count": 184
  },
  {
   "metadata": {
    "ExecuteTime": {
     "end_time": "2024-04-18T15:10:46.710335Z",
     "start_time": "2024-04-18T15:10:46.471050Z"
    }
   },
   "cell_type": "code",
   "source": [
    "nodes_BP = nodes_BP - list_nodes_to_remove\n",
    "graph_BP = graph_BP.subgraph(nodes_BP)\n",
    "nx.is_directed_acyclic_graph(graph_BP)"
   ],
   "id": "c9eed3257203e131",
   "outputs": [
    {
     "data": {
      "text/plain": [
       "True"
      ]
     },
     "execution_count": 185,
     "metadata": {},
     "output_type": "execute_result"
    }
   ],
   "execution_count": 185
  },
  {
   "metadata": {
    "ExecuteTime": {
     "end_time": "2024-04-18T15:10:46.712498Z",
     "start_time": "2024-04-18T15:10:46.710898Z"
    }
   },
   "cell_type": "code",
   "source": "print(\"Number of nodes in the graph : \", len(nodes_BP))",
   "id": "dccf1a8e58060fc0",
   "outputs": [
    {
     "name": "stdout",
     "output_type": "stream",
     "text": [
      "Number of nodes in the graph :  15367\n"
     ]
    }
   ],
   "execution_count": 186
  },
  {
   "metadata": {
    "ExecuteTime": {
     "end_time": "2024-04-18T15:18:03.211961Z",
     "start_time": "2024-04-18T15:18:03.035698Z"
    }
   },
   "cell_type": "code",
   "source": [
    "# import pickle\n",
    "# \n",
    "# with open('gobp-entire.gpickle', 'wb') as f:\n",
    "#     pickle.dump(graph_BP, f, pickle.HIGHEST_PROTOCOL)"
   ],
   "id": "b170c03f3501f7b0",
   "outputs": [
    {
     "ename": "AttributeError",
     "evalue": "Can't pickle local object 'subgraph_view.<locals>.reverse_edge'",
     "output_type": "error",
     "traceback": [
      "\u001B[0;31m---------------------------------------------------------------------------\u001B[0m",
      "\u001B[0;31mAttributeError\u001B[0m                            Traceback (most recent call last)",
      "Cell \u001B[0;32mIn[193], line 4\u001B[0m\n\u001B[1;32m      1\u001B[0m \u001B[38;5;28;01mimport\u001B[39;00m \u001B[38;5;21;01mpickle\u001B[39;00m\n\u001B[1;32m      3\u001B[0m \u001B[38;5;28;01mwith\u001B[39;00m \u001B[38;5;28mopen\u001B[39m(\u001B[38;5;124m'\u001B[39m\u001B[38;5;124mgobp-entire.gpickle\u001B[39m\u001B[38;5;124m'\u001B[39m, \u001B[38;5;124m'\u001B[39m\u001B[38;5;124mwb\u001B[39m\u001B[38;5;124m'\u001B[39m) \u001B[38;5;28;01mas\u001B[39;00m f:\n\u001B[0;32m----> 4\u001B[0m     \u001B[43mpickle\u001B[49m\u001B[38;5;241;43m.\u001B[39;49m\u001B[43mdump\u001B[49m\u001B[43m(\u001B[49m\u001B[43mgraph_BP\u001B[49m\u001B[43m,\u001B[49m\u001B[43m \u001B[49m\u001B[43mf\u001B[49m\u001B[43m,\u001B[49m\u001B[43m \u001B[49m\u001B[43mpickle\u001B[49m\u001B[38;5;241;43m.\u001B[39;49m\u001B[43mHIGHEST_PROTOCOL\u001B[49m\u001B[43m)\u001B[49m\n",
      "\u001B[0;31mAttributeError\u001B[0m: Can't pickle local object 'subgraph_view.<locals>.reverse_edge'"
     ]
    }
   ],
   "execution_count": 193
  },
  {
   "metadata": {
    "ExecuteTime": {
     "end_time": "2024-04-18T15:10:46.718479Z",
     "start_time": "2024-04-18T15:10:46.717220Z"
    }
   },
   "cell_type": "code",
   "source": "## ",
   "id": "5dcfd5226933330e",
   "outputs": [],
   "execution_count": 188
  },
  {
   "metadata": {
    "ExecuteTime": {
     "end_time": "2024-04-18T15:21:38.850098Z",
     "start_time": "2024-04-18T15:21:38.814084Z"
    }
   },
   "cell_type": "code",
   "source": [
    "gene_go_map = gene_go_map.drop_duplicates()\n",
    "gene_go_map = gene_go_map[gene_go_map.GO.isin(graph_BP.nodes)]"
   ],
   "id": "9bb836501de3bbbf",
   "outputs": [
    {
     "data": {
      "text/plain": [
       "                ENSEMBL          GO\n",
       "0       ENSG00000000003  GO:0039532\n",
       "1       ENSG00000000003  GO:0043123\n",
       "2       ENSG00000000003  GO:1901223\n",
       "3       ENSG00000000005  GO:0001886\n",
       "4       ENSG00000000005  GO:0001937\n",
       "...                 ...         ...\n",
       "182195  ENSG00000273079  GO:1904062\n",
       "182196  ENSG00000273079  GO:2000463\n",
       "182198  ENSG00000273079  GO:2001056\n",
       "182250  ENSG00000273173  GO:0008150\n",
       "182309  ENSG00000273274  GO:0006357\n",
       "\n",
       "[131837 rows x 2 columns]"
      ],
      "text/html": [
       "<div>\n",
       "<style scoped>\n",
       "    .dataframe tbody tr th:only-of-type {\n",
       "        vertical-align: middle;\n",
       "    }\n",
       "\n",
       "    .dataframe tbody tr th {\n",
       "        vertical-align: top;\n",
       "    }\n",
       "\n",
       "    .dataframe thead th {\n",
       "        text-align: right;\n",
       "    }\n",
       "</style>\n",
       "<table border=\"1\" class=\"dataframe\">\n",
       "  <thead>\n",
       "    <tr style=\"text-align: right;\">\n",
       "      <th></th>\n",
       "      <th>ENSEMBL</th>\n",
       "      <th>GO</th>\n",
       "    </tr>\n",
       "  </thead>\n",
       "  <tbody>\n",
       "    <tr>\n",
       "      <th>0</th>\n",
       "      <td>ENSG00000000003</td>\n",
       "      <td>GO:0039532</td>\n",
       "    </tr>\n",
       "    <tr>\n",
       "      <th>1</th>\n",
       "      <td>ENSG00000000003</td>\n",
       "      <td>GO:0043123</td>\n",
       "    </tr>\n",
       "    <tr>\n",
       "      <th>2</th>\n",
       "      <td>ENSG00000000003</td>\n",
       "      <td>GO:1901223</td>\n",
       "    </tr>\n",
       "    <tr>\n",
       "      <th>3</th>\n",
       "      <td>ENSG00000000005</td>\n",
       "      <td>GO:0001886</td>\n",
       "    </tr>\n",
       "    <tr>\n",
       "      <th>4</th>\n",
       "      <td>ENSG00000000005</td>\n",
       "      <td>GO:0001937</td>\n",
       "    </tr>\n",
       "    <tr>\n",
       "      <th>...</th>\n",
       "      <td>...</td>\n",
       "      <td>...</td>\n",
       "    </tr>\n",
       "    <tr>\n",
       "      <th>182195</th>\n",
       "      <td>ENSG00000273079</td>\n",
       "      <td>GO:1904062</td>\n",
       "    </tr>\n",
       "    <tr>\n",
       "      <th>182196</th>\n",
       "      <td>ENSG00000273079</td>\n",
       "      <td>GO:2000463</td>\n",
       "    </tr>\n",
       "    <tr>\n",
       "      <th>182198</th>\n",
       "      <td>ENSG00000273079</td>\n",
       "      <td>GO:2001056</td>\n",
       "    </tr>\n",
       "    <tr>\n",
       "      <th>182250</th>\n",
       "      <td>ENSG00000273173</td>\n",
       "      <td>GO:0008150</td>\n",
       "    </tr>\n",
       "    <tr>\n",
       "      <th>182309</th>\n",
       "      <td>ENSG00000273274</td>\n",
       "      <td>GO:0006357</td>\n",
       "    </tr>\n",
       "  </tbody>\n",
       "</table>\n",
       "<p>131837 rows × 2 columns</p>\n",
       "</div>"
      ]
     },
     "execution_count": 203,
     "metadata": {},
     "output_type": "execute_result"
    }
   ],
   "execution_count": 203
  },
  {
   "metadata": {
    "ExecuteTime": {
     "end_time": "2024-04-18T15:29:00.373162Z",
     "start_time": "2024-04-18T15:22:04.154860Z"
    }
   },
   "cell_type": "code",
   "source": [
    "gp = gene_go_map.groupby(\"ENSEMBL\")\n",
    "for ensembl in tqdm(list(gp.groups.keys())):\n",
    "    go_associated = gp.get_group(ensembl)[\"GO\"].tolist()\n",
    "    indexes = list(gp.groups[ensembl])\n",
    "    current_idx = 0\n",
    "    while current_idx < len(go_associated):\n",
    "        go_visited = go_associated[current_idx]\n",
    "        idx = indexes.pop(0)\n",
    "        successors = set(nx.ancestors(graph_BP, go_visited))\n",
    "        if len(successors.intersection(set(go_associated))) != 0:\n",
    "            file_go = gene_go_map.drop(idx)\n",
    "            keep1 = go_visited\n",
    "            keep2 = idx\n",
    "        current_idx += 1"
   ],
   "id": "724f563b360b1129",
   "outputs": [
    {
     "name": "stderr",
     "output_type": "stream",
     "text": [
      "100%|██████████| 17589/17589 [06:55<00:00, 42.29it/s] \n"
     ]
    }
   ],
   "execution_count": 205
  },
  {
   "metadata": {
    "ExecuteTime": {
     "end_time": "2024-04-18T15:29:43.241915Z",
     "start_time": "2024-04-18T15:29:43.151794Z"
    }
   },
   "cell_type": "code",
   "source": "gene_go_map.to_csv(\"GOannotations_kept.csv\")",
   "id": "de38e9e8a6dea91d",
   "outputs": [],
   "execution_count": 206
  },
  {
   "metadata": {},
   "cell_type": "code",
   "outputs": [],
   "execution_count": null,
   "source": "## ",
   "id": "509ef21944b120fa"
  },
  {
   "metadata": {
    "ExecuteTime": {
     "end_time": "2024-04-18T15:29:47.382522Z",
     "start_time": "2024-04-18T15:29:47.377959Z"
    }
   },
   "cell_type": "code",
   "source": "gp_go = gene_go_map.groupby(\"GO\")",
   "id": "558eabad5f8f8f9e",
   "outputs": [],
   "execution_count": 207
  },
  {
   "metadata": {
    "ExecuteTime": {
     "end_time": "2024-04-18T15:31:49.428707Z",
     "start_time": "2024-04-18T15:31:49.420091Z"
    }
   },
   "cell_type": "code",
   "source": "final_genes = list(data_genes - available_genes)",
   "id": "9dd57da37347c20f",
   "outputs": [],
   "execution_count": 212
  },
  {
   "metadata": {
    "ExecuteTime": {
     "end_time": "2024-04-18T15:32:35.889417Z",
     "start_time": "2024-04-18T15:32:35.885925Z"
    }
   },
   "cell_type": "code",
   "source": "len(final_genes), len(gp_go.groups.keys())",
   "id": "fd9ca521d8163b9b",
   "outputs": [
    {
     "data": {
      "text/plain": [
       "(35046, 12114)"
      ]
     },
     "execution_count": 215,
     "metadata": {},
     "output_type": "execute_result"
    }
   ],
   "execution_count": 215
  },
  {
   "metadata": {
    "ExecuteTime": {
     "end_time": "2024-04-18T15:32:20.255985Z",
     "start_time": "2024-04-18T15:31:50.497891Z"
    }
   },
   "cell_type": "code",
   "source": [
    "matrix_connection = pd.DataFrame(index=final_genes, columns=list(gp_go.groups.keys()))\n",
    "matrix_connection = matrix_connection.fillna(0)\n",
    "matrix_connection.head()"
   ],
   "id": "90517726ef336b4a",
   "outputs": [
    {
     "ename": "KeyboardInterrupt",
     "evalue": "",
     "output_type": "error",
     "traceback": [
      "\u001B[0;31m---------------------------------------------------------------------------\u001B[0m",
      "\u001B[0;31mKeyboardInterrupt\u001B[0m                         Traceback (most recent call last)",
      "Cell \u001B[0;32mIn[213], line 2\u001B[0m\n\u001B[1;32m      1\u001B[0m matrix_connection \u001B[38;5;241m=\u001B[39m pd\u001B[38;5;241m.\u001B[39mDataFrame(index\u001B[38;5;241m=\u001B[39mfinal_genes, columns\u001B[38;5;241m=\u001B[39m\u001B[38;5;28mlist\u001B[39m(gp_go\u001B[38;5;241m.\u001B[39mgroups\u001B[38;5;241m.\u001B[39mkeys()))\n\u001B[0;32m----> 2\u001B[0m matrix_connection \u001B[38;5;241m=\u001B[39m \u001B[43mmatrix_connection\u001B[49m\u001B[38;5;241;43m.\u001B[39;49m\u001B[43mfillna\u001B[49m\u001B[43m(\u001B[49m\u001B[38;5;241;43m0\u001B[39;49m\u001B[43m)\u001B[49m\n\u001B[1;32m      3\u001B[0m matrix_connection\u001B[38;5;241m.\u001B[39mhead()\n",
      "File \u001B[0;32m~/miniconda3/envs/dev/lib/python3.11/site-packages/pandas/core/generic.py:7297\u001B[0m, in \u001B[0;36mNDFrame.fillna\u001B[0;34m(self, value, method, axis, inplace, limit, downcast)\u001B[0m\n\u001B[1;32m   7295\u001B[0m         new_data \u001B[38;5;241m=\u001B[39m result\u001B[38;5;241m.\u001B[39m_mgr\n\u001B[1;32m   7296\u001B[0m     \u001B[38;5;28;01melse\u001B[39;00m:\n\u001B[0;32m-> 7297\u001B[0m         new_data \u001B[38;5;241m=\u001B[39m \u001B[38;5;28;43mself\u001B[39;49m\u001B[38;5;241;43m.\u001B[39;49m\u001B[43m_mgr\u001B[49m\u001B[38;5;241;43m.\u001B[39;49m\u001B[43mfillna\u001B[49m\u001B[43m(\u001B[49m\n\u001B[1;32m   7298\u001B[0m \u001B[43m            \u001B[49m\u001B[43mvalue\u001B[49m\u001B[38;5;241;43m=\u001B[39;49m\u001B[43mvalue\u001B[49m\u001B[43m,\u001B[49m\u001B[43m \u001B[49m\u001B[43mlimit\u001B[49m\u001B[38;5;241;43m=\u001B[39;49m\u001B[43mlimit\u001B[49m\u001B[43m,\u001B[49m\u001B[43m \u001B[49m\u001B[43minplace\u001B[49m\u001B[38;5;241;43m=\u001B[39;49m\u001B[43minplace\u001B[49m\u001B[43m,\u001B[49m\u001B[43m \u001B[49m\u001B[43mdowncast\u001B[49m\u001B[38;5;241;43m=\u001B[39;49m\u001B[43mdowncast\u001B[49m\n\u001B[1;32m   7299\u001B[0m \u001B[43m        \u001B[49m\u001B[43m)\u001B[49m\n\u001B[1;32m   7300\u001B[0m \u001B[38;5;28;01melif\u001B[39;00m \u001B[38;5;28misinstance\u001B[39m(value, ABCDataFrame) \u001B[38;5;129;01mand\u001B[39;00m \u001B[38;5;28mself\u001B[39m\u001B[38;5;241m.\u001B[39mndim \u001B[38;5;241m==\u001B[39m \u001B[38;5;241m2\u001B[39m:\n\u001B[1;32m   7301\u001B[0m     new_data \u001B[38;5;241m=\u001B[39m \u001B[38;5;28mself\u001B[39m\u001B[38;5;241m.\u001B[39mwhere(\u001B[38;5;28mself\u001B[39m\u001B[38;5;241m.\u001B[39mnotna(), value)\u001B[38;5;241m.\u001B[39m_mgr\n",
      "File \u001B[0;32m~/miniconda3/envs/dev/lib/python3.11/site-packages/pandas/core/internals/base.py:173\u001B[0m, in \u001B[0;36mDataManager.fillna\u001B[0;34m(self, value, limit, inplace, downcast)\u001B[0m\n\u001B[1;32m    169\u001B[0m \u001B[38;5;28;01mif\u001B[39;00m limit \u001B[38;5;129;01mis\u001B[39;00m \u001B[38;5;129;01mnot\u001B[39;00m \u001B[38;5;28;01mNone\u001B[39;00m:\n\u001B[1;32m    170\u001B[0m     \u001B[38;5;66;03m# Do this validation even if we go through one of the no-op paths\u001B[39;00m\n\u001B[1;32m    171\u001B[0m     limit \u001B[38;5;241m=\u001B[39m libalgos\u001B[38;5;241m.\u001B[39mvalidate_limit(\u001B[38;5;28;01mNone\u001B[39;00m, limit\u001B[38;5;241m=\u001B[39mlimit)\n\u001B[0;32m--> 173\u001B[0m \u001B[38;5;28;01mreturn\u001B[39;00m \u001B[38;5;28;43mself\u001B[39;49m\u001B[38;5;241;43m.\u001B[39;49m\u001B[43mapply_with_block\u001B[49m\u001B[43m(\u001B[49m\n\u001B[1;32m    174\u001B[0m \u001B[43m    \u001B[49m\u001B[38;5;124;43m\"\u001B[39;49m\u001B[38;5;124;43mfillna\u001B[39;49m\u001B[38;5;124;43m\"\u001B[39;49m\u001B[43m,\u001B[49m\n\u001B[1;32m    175\u001B[0m \u001B[43m    \u001B[49m\u001B[43mvalue\u001B[49m\u001B[38;5;241;43m=\u001B[39;49m\u001B[43mvalue\u001B[49m\u001B[43m,\u001B[49m\n\u001B[1;32m    176\u001B[0m \u001B[43m    \u001B[49m\u001B[43mlimit\u001B[49m\u001B[38;5;241;43m=\u001B[39;49m\u001B[43mlimit\u001B[49m\u001B[43m,\u001B[49m\n\u001B[1;32m    177\u001B[0m \u001B[43m    \u001B[49m\u001B[43minplace\u001B[49m\u001B[38;5;241;43m=\u001B[39;49m\u001B[43minplace\u001B[49m\u001B[43m,\u001B[49m\n\u001B[1;32m    178\u001B[0m \u001B[43m    \u001B[49m\u001B[43mdowncast\u001B[49m\u001B[38;5;241;43m=\u001B[39;49m\u001B[43mdowncast\u001B[49m\u001B[43m,\u001B[49m\n\u001B[1;32m    179\u001B[0m \u001B[43m    \u001B[49m\u001B[43musing_cow\u001B[49m\u001B[38;5;241;43m=\u001B[39;49m\u001B[43musing_copy_on_write\u001B[49m\u001B[43m(\u001B[49m\u001B[43m)\u001B[49m\u001B[43m,\u001B[49m\n\u001B[1;32m    180\u001B[0m \u001B[43m\u001B[49m\u001B[43m)\u001B[49m\n",
      "File \u001B[0;32m~/miniconda3/envs/dev/lib/python3.11/site-packages/pandas/core/internals/managers.py:354\u001B[0m, in \u001B[0;36mBaseBlockManager.apply\u001B[0;34m(self, f, align_keys, **kwargs)\u001B[0m\n\u001B[1;32m    352\u001B[0m         applied \u001B[38;5;241m=\u001B[39m b\u001B[38;5;241m.\u001B[39mapply(f, \u001B[38;5;241m*\u001B[39m\u001B[38;5;241m*\u001B[39mkwargs)\n\u001B[1;32m    353\u001B[0m     \u001B[38;5;28;01melse\u001B[39;00m:\n\u001B[0;32m--> 354\u001B[0m         applied \u001B[38;5;241m=\u001B[39m \u001B[38;5;28;43mgetattr\u001B[39;49m\u001B[43m(\u001B[49m\u001B[43mb\u001B[49m\u001B[43m,\u001B[49m\u001B[43m \u001B[49m\u001B[43mf\u001B[49m\u001B[43m)\u001B[49m\u001B[43m(\u001B[49m\u001B[38;5;241;43m*\u001B[39;49m\u001B[38;5;241;43m*\u001B[39;49m\u001B[43mkwargs\u001B[49m\u001B[43m)\u001B[49m\n\u001B[1;32m    355\u001B[0m     result_blocks \u001B[38;5;241m=\u001B[39m extend_blocks(applied, result_blocks)\n\u001B[1;32m    357\u001B[0m out \u001B[38;5;241m=\u001B[39m \u001B[38;5;28mtype\u001B[39m(\u001B[38;5;28mself\u001B[39m)\u001B[38;5;241m.\u001B[39mfrom_blocks(result_blocks, \u001B[38;5;28mself\u001B[39m\u001B[38;5;241m.\u001B[39maxes)\n",
      "File \u001B[0;32m~/miniconda3/envs/dev/lib/python3.11/site-packages/pandas/core/internals/blocks.py:1425\u001B[0m, in \u001B[0;36mBlock.fillna\u001B[0;34m(self, value, limit, inplace, downcast, using_cow)\u001B[0m\n\u001B[1;32m   1419\u001B[0m     nbs \u001B[38;5;241m=\u001B[39m \u001B[38;5;28mself\u001B[39m\u001B[38;5;241m.\u001B[39mwhere(value, \u001B[38;5;241m~\u001B[39mmask\u001B[38;5;241m.\u001B[39mT, _downcast\u001B[38;5;241m=\u001B[39m\u001B[38;5;28;01mFalse\u001B[39;00m)\n\u001B[1;32m   1421\u001B[0m \u001B[38;5;66;03m# Note: blk._maybe_downcast vs self._maybe_downcast(nbs)\u001B[39;00m\n\u001B[1;32m   1422\u001B[0m \u001B[38;5;66;03m#  makes a difference bc blk may have object dtype, which has\u001B[39;00m\n\u001B[1;32m   1423\u001B[0m \u001B[38;5;66;03m#  different behavior in _maybe_downcast.\u001B[39;00m\n\u001B[1;32m   1424\u001B[0m \u001B[38;5;28;01mreturn\u001B[39;00m extend_blocks(\n\u001B[0;32m-> 1425\u001B[0m     \u001B[43m[\u001B[49m\n\u001B[1;32m   1426\u001B[0m \u001B[43m        \u001B[49m\u001B[43mblk\u001B[49m\u001B[38;5;241;43m.\u001B[39;49m\u001B[43m_maybe_downcast\u001B[49m\u001B[43m(\u001B[49m\u001B[43m[\u001B[49m\u001B[43mblk\u001B[49m\u001B[43m]\u001B[49m\u001B[43m,\u001B[49m\u001B[43m \u001B[49m\u001B[43mdowncast\u001B[49m\u001B[38;5;241;43m=\u001B[39;49m\u001B[43mdowncast\u001B[49m\u001B[43m,\u001B[49m\u001B[43m \u001B[49m\u001B[43musing_cow\u001B[49m\u001B[38;5;241;43m=\u001B[39;49m\u001B[43musing_cow\u001B[49m\u001B[43m)\u001B[49m\n\u001B[1;32m   1427\u001B[0m \u001B[43m        \u001B[49m\u001B[38;5;28;43;01mfor\u001B[39;49;00m\u001B[43m \u001B[49m\u001B[43mblk\u001B[49m\u001B[43m \u001B[49m\u001B[38;5;129;43;01min\u001B[39;49;00m\u001B[43m \u001B[49m\u001B[43mnbs\u001B[49m\n\u001B[1;32m   1428\u001B[0m \u001B[43m    \u001B[49m\u001B[43m]\u001B[49m\n\u001B[1;32m   1429\u001B[0m )\n",
      "File \u001B[0;32m~/miniconda3/envs/dev/lib/python3.11/site-packages/pandas/core/internals/blocks.py:1426\u001B[0m, in \u001B[0;36m<listcomp>\u001B[0;34m(.0)\u001B[0m\n\u001B[1;32m   1419\u001B[0m     nbs \u001B[38;5;241m=\u001B[39m \u001B[38;5;28mself\u001B[39m\u001B[38;5;241m.\u001B[39mwhere(value, \u001B[38;5;241m~\u001B[39mmask\u001B[38;5;241m.\u001B[39mT, _downcast\u001B[38;5;241m=\u001B[39m\u001B[38;5;28;01mFalse\u001B[39;00m)\n\u001B[1;32m   1421\u001B[0m \u001B[38;5;66;03m# Note: blk._maybe_downcast vs self._maybe_downcast(nbs)\u001B[39;00m\n\u001B[1;32m   1422\u001B[0m \u001B[38;5;66;03m#  makes a difference bc blk may have object dtype, which has\u001B[39;00m\n\u001B[1;32m   1423\u001B[0m \u001B[38;5;66;03m#  different behavior in _maybe_downcast.\u001B[39;00m\n\u001B[1;32m   1424\u001B[0m \u001B[38;5;28;01mreturn\u001B[39;00m extend_blocks(\n\u001B[1;32m   1425\u001B[0m     [\n\u001B[0;32m-> 1426\u001B[0m         \u001B[43mblk\u001B[49m\u001B[38;5;241;43m.\u001B[39;49m\u001B[43m_maybe_downcast\u001B[49m\u001B[43m(\u001B[49m\u001B[43m[\u001B[49m\u001B[43mblk\u001B[49m\u001B[43m]\u001B[49m\u001B[43m,\u001B[49m\u001B[43m \u001B[49m\u001B[43mdowncast\u001B[49m\u001B[38;5;241;43m=\u001B[39;49m\u001B[43mdowncast\u001B[49m\u001B[43m,\u001B[49m\u001B[43m \u001B[49m\u001B[43musing_cow\u001B[49m\u001B[38;5;241;43m=\u001B[39;49m\u001B[43musing_cow\u001B[49m\u001B[43m)\u001B[49m\n\u001B[1;32m   1427\u001B[0m         \u001B[38;5;28;01mfor\u001B[39;00m blk \u001B[38;5;129;01min\u001B[39;00m nbs\n\u001B[1;32m   1428\u001B[0m     ]\n\u001B[1;32m   1429\u001B[0m )\n",
      "File \u001B[0;32m~/miniconda3/envs/dev/lib/python3.11/site-packages/pandas/core/internals/blocks.py:512\u001B[0m, in \u001B[0;36mBlock._maybe_downcast\u001B[0;34m(self, blocks, downcast, using_cow)\u001B[0m\n\u001B[1;32m    502\u001B[0m     \u001B[38;5;28;01mreturn\u001B[39;00m blocks\n\u001B[1;32m    504\u001B[0m \u001B[38;5;28;01mif\u001B[39;00m \u001B[38;5;28mself\u001B[39m\u001B[38;5;241m.\u001B[39mdtype \u001B[38;5;241m==\u001B[39m _dtype_obj:\n\u001B[1;32m    505\u001B[0m     \u001B[38;5;66;03m# TODO: does it matter that self.dtype might not match blocks[i].dtype?\u001B[39;00m\n\u001B[1;32m    506\u001B[0m     \u001B[38;5;66;03m# GH#44241 We downcast regardless of the argument;\u001B[39;00m\n\u001B[1;32m    507\u001B[0m     \u001B[38;5;66;03m#  respecting 'downcast=None' may be worthwhile at some point,\u001B[39;00m\n\u001B[1;32m    508\u001B[0m     \u001B[38;5;66;03m#  but ATM it breaks too much existing code.\u001B[39;00m\n\u001B[1;32m    509\u001B[0m     \u001B[38;5;66;03m# split and convert the blocks\u001B[39;00m\n\u001B[1;32m    511\u001B[0m     \u001B[38;5;28;01mreturn\u001B[39;00m extend_blocks(\n\u001B[0;32m--> 512\u001B[0m         \u001B[43m[\u001B[49m\u001B[43mblk\u001B[49m\u001B[38;5;241;43m.\u001B[39;49m\u001B[43mconvert\u001B[49m\u001B[43m(\u001B[49m\u001B[43musing_cow\u001B[49m\u001B[38;5;241;43m=\u001B[39;49m\u001B[43musing_cow\u001B[49m\u001B[43m,\u001B[49m\u001B[43m \u001B[49m\u001B[43mcopy\u001B[49m\u001B[38;5;241;43m=\u001B[39;49m\u001B[38;5;129;43;01mnot\u001B[39;49;00m\u001B[43m \u001B[49m\u001B[43musing_cow\u001B[49m\u001B[43m)\u001B[49m\u001B[43m \u001B[49m\u001B[38;5;28;43;01mfor\u001B[39;49;00m\u001B[43m \u001B[49m\u001B[43mblk\u001B[49m\u001B[43m \u001B[49m\u001B[38;5;129;43;01min\u001B[39;49;00m\u001B[43m \u001B[49m\u001B[43mblocks\u001B[49m\u001B[43m]\u001B[49m\n\u001B[1;32m    513\u001B[0m     )\n\u001B[1;32m    515\u001B[0m \u001B[38;5;28;01mif\u001B[39;00m downcast \u001B[38;5;129;01mis\u001B[39;00m \u001B[38;5;28;01mNone\u001B[39;00m:\n\u001B[1;32m    516\u001B[0m     \u001B[38;5;28;01mreturn\u001B[39;00m blocks\n",
      "File \u001B[0;32m~/miniconda3/envs/dev/lib/python3.11/site-packages/pandas/core/internals/blocks.py:512\u001B[0m, in \u001B[0;36m<listcomp>\u001B[0;34m(.0)\u001B[0m\n\u001B[1;32m    502\u001B[0m     \u001B[38;5;28;01mreturn\u001B[39;00m blocks\n\u001B[1;32m    504\u001B[0m \u001B[38;5;28;01mif\u001B[39;00m \u001B[38;5;28mself\u001B[39m\u001B[38;5;241m.\u001B[39mdtype \u001B[38;5;241m==\u001B[39m _dtype_obj:\n\u001B[1;32m    505\u001B[0m     \u001B[38;5;66;03m# TODO: does it matter that self.dtype might not match blocks[i].dtype?\u001B[39;00m\n\u001B[1;32m    506\u001B[0m     \u001B[38;5;66;03m# GH#44241 We downcast regardless of the argument;\u001B[39;00m\n\u001B[1;32m    507\u001B[0m     \u001B[38;5;66;03m#  respecting 'downcast=None' may be worthwhile at some point,\u001B[39;00m\n\u001B[1;32m    508\u001B[0m     \u001B[38;5;66;03m#  but ATM it breaks too much existing code.\u001B[39;00m\n\u001B[1;32m    509\u001B[0m     \u001B[38;5;66;03m# split and convert the blocks\u001B[39;00m\n\u001B[1;32m    511\u001B[0m     \u001B[38;5;28;01mreturn\u001B[39;00m extend_blocks(\n\u001B[0;32m--> 512\u001B[0m         [\u001B[43mblk\u001B[49m\u001B[38;5;241;43m.\u001B[39;49m\u001B[43mconvert\u001B[49m\u001B[43m(\u001B[49m\u001B[43musing_cow\u001B[49m\u001B[38;5;241;43m=\u001B[39;49m\u001B[43musing_cow\u001B[49m\u001B[43m,\u001B[49m\u001B[43m \u001B[49m\u001B[43mcopy\u001B[49m\u001B[38;5;241;43m=\u001B[39;49m\u001B[38;5;129;43;01mnot\u001B[39;49;00m\u001B[43m \u001B[49m\u001B[43musing_cow\u001B[49m\u001B[43m)\u001B[49m \u001B[38;5;28;01mfor\u001B[39;00m blk \u001B[38;5;129;01min\u001B[39;00m blocks]\n\u001B[1;32m    513\u001B[0m     )\n\u001B[1;32m    515\u001B[0m \u001B[38;5;28;01mif\u001B[39;00m downcast \u001B[38;5;129;01mis\u001B[39;00m \u001B[38;5;28;01mNone\u001B[39;00m:\n\u001B[1;32m    516\u001B[0m     \u001B[38;5;28;01mreturn\u001B[39;00m blocks\n",
      "File \u001B[0;32m~/miniconda3/envs/dev/lib/python3.11/site-packages/pandas/core/internals/blocks.py:550\u001B[0m, in \u001B[0;36mBlock.convert\u001B[0;34m(self, copy, using_cow)\u001B[0m\n\u001B[1;32m    547\u001B[0m     \u001B[38;5;28;01mreturn\u001B[39;00m [\u001B[38;5;28mself\u001B[39m\u001B[38;5;241m.\u001B[39mcopy()] \u001B[38;5;28;01mif\u001B[39;00m copy \u001B[38;5;28;01melse\u001B[39;00m [\u001B[38;5;28mself\u001B[39m]\n\u001B[1;32m    549\u001B[0m \u001B[38;5;28;01mif\u001B[39;00m \u001B[38;5;28mself\u001B[39m\u001B[38;5;241m.\u001B[39mndim \u001B[38;5;241m!=\u001B[39m \u001B[38;5;241m1\u001B[39m \u001B[38;5;129;01mand\u001B[39;00m \u001B[38;5;28mself\u001B[39m\u001B[38;5;241m.\u001B[39mshape[\u001B[38;5;241m0\u001B[39m] \u001B[38;5;241m!=\u001B[39m \u001B[38;5;241m1\u001B[39m:\n\u001B[0;32m--> 550\u001B[0m     blocks \u001B[38;5;241m=\u001B[39m \u001B[38;5;28;43mself\u001B[39;49m\u001B[38;5;241;43m.\u001B[39;49m\u001B[43msplit_and_operate\u001B[49m\u001B[43m(\u001B[49m\n\u001B[1;32m    551\u001B[0m \u001B[43m        \u001B[49m\u001B[43mBlock\u001B[49m\u001B[38;5;241;43m.\u001B[39;49m\u001B[43mconvert\u001B[49m\u001B[43m,\u001B[49m\u001B[43m \u001B[49m\u001B[43mcopy\u001B[49m\u001B[38;5;241;43m=\u001B[39;49m\u001B[43mcopy\u001B[49m\u001B[43m,\u001B[49m\u001B[43m \u001B[49m\u001B[43musing_cow\u001B[49m\u001B[38;5;241;43m=\u001B[39;49m\u001B[43musing_cow\u001B[49m\n\u001B[1;32m    552\u001B[0m \u001B[43m    \u001B[49m\u001B[43m)\u001B[49m\n\u001B[1;32m    553\u001B[0m     \u001B[38;5;28;01mif\u001B[39;00m \u001B[38;5;28mall\u001B[39m(blk\u001B[38;5;241m.\u001B[39mdtype\u001B[38;5;241m.\u001B[39mkind \u001B[38;5;241m==\u001B[39m \u001B[38;5;124m\"\u001B[39m\u001B[38;5;124mO\u001B[39m\u001B[38;5;124m\"\u001B[39m \u001B[38;5;28;01mfor\u001B[39;00m blk \u001B[38;5;129;01min\u001B[39;00m blocks):\n\u001B[1;32m    554\u001B[0m         \u001B[38;5;66;03m# Avoid fragmenting the block if convert is a no-op\u001B[39;00m\n\u001B[1;32m    555\u001B[0m         \u001B[38;5;28;01mif\u001B[39;00m using_cow:\n",
      "File \u001B[0;32m~/miniconda3/envs/dev/lib/python3.11/site-packages/pandas/core/internals/blocks.py:444\u001B[0m, in \u001B[0;36mBlock.split_and_operate\u001B[0;34m(self, func, *args, **kwargs)\u001B[0m\n\u001B[1;32m    442\u001B[0m res_blocks \u001B[38;5;241m=\u001B[39m []\n\u001B[1;32m    443\u001B[0m \u001B[38;5;28;01mfor\u001B[39;00m nb \u001B[38;5;129;01min\u001B[39;00m \u001B[38;5;28mself\u001B[39m\u001B[38;5;241m.\u001B[39m_split():\n\u001B[0;32m--> 444\u001B[0m     rbs \u001B[38;5;241m=\u001B[39m \u001B[43mfunc\u001B[49m\u001B[43m(\u001B[49m\u001B[43mnb\u001B[49m\u001B[43m,\u001B[49m\u001B[43m \u001B[49m\u001B[38;5;241;43m*\u001B[39;49m\u001B[43margs\u001B[49m\u001B[43m,\u001B[49m\u001B[43m \u001B[49m\u001B[38;5;241;43m*\u001B[39;49m\u001B[38;5;241;43m*\u001B[39;49m\u001B[43mkwargs\u001B[49m\u001B[43m)\u001B[49m\n\u001B[1;32m    445\u001B[0m     res_blocks\u001B[38;5;241m.\u001B[39mextend(rbs)\n\u001B[1;32m    446\u001B[0m \u001B[38;5;28;01mreturn\u001B[39;00m res_blocks\n",
      "File \u001B[0;32m~/miniconda3/envs/dev/lib/python3.11/site-packages/pandas/core/internals/blocks.py:566\u001B[0m, in \u001B[0;36mBlock.convert\u001B[0;34m(self, copy, using_cow)\u001B[0m\n\u001B[1;32m    561\u001B[0m \u001B[38;5;28;01mif\u001B[39;00m values\u001B[38;5;241m.\u001B[39mndim \u001B[38;5;241m==\u001B[39m \u001B[38;5;241m2\u001B[39m:\n\u001B[1;32m    562\u001B[0m     \u001B[38;5;66;03m# the check above ensures we only get here with values.shape[0] == 1,\u001B[39;00m\n\u001B[1;32m    563\u001B[0m     \u001B[38;5;66;03m# avoid doing .ravel as that might make a copy\u001B[39;00m\n\u001B[1;32m    564\u001B[0m     values \u001B[38;5;241m=\u001B[39m values[\u001B[38;5;241m0\u001B[39m]\n\u001B[0;32m--> 566\u001B[0m res_values \u001B[38;5;241m=\u001B[39m \u001B[43mlib\u001B[49m\u001B[38;5;241;43m.\u001B[39;49m\u001B[43mmaybe_convert_objects\u001B[49m\u001B[43m(\u001B[49m\n\u001B[1;32m    567\u001B[0m \u001B[43m    \u001B[49m\u001B[43mvalues\u001B[49m\u001B[43m,\u001B[49m\u001B[43m  \u001B[49m\u001B[38;5;66;43;03m# type: ignore[arg-type]\u001B[39;49;00m\n\u001B[1;32m    568\u001B[0m \u001B[43m    \u001B[49m\u001B[43mconvert_non_numeric\u001B[49m\u001B[38;5;241;43m=\u001B[39;49m\u001B[38;5;28;43;01mTrue\u001B[39;49;00m\u001B[43m,\u001B[49m\n\u001B[1;32m    569\u001B[0m \u001B[43m\u001B[49m\u001B[43m)\u001B[49m\n\u001B[1;32m    570\u001B[0m refs \u001B[38;5;241m=\u001B[39m \u001B[38;5;28;01mNone\u001B[39;00m\n\u001B[1;32m    571\u001B[0m \u001B[38;5;28;01mif\u001B[39;00m copy \u001B[38;5;129;01mand\u001B[39;00m res_values \u001B[38;5;129;01mis\u001B[39;00m values:\n",
      "\u001B[0;31mKeyboardInterrupt\u001B[0m: "
     ]
    }
   ],
   "execution_count": 213
  },
  {
   "metadata": {},
   "cell_type": "code",
   "outputs": [],
   "execution_count": null,
   "source": "matrix_connection.shape",
   "id": "fc6f95ff64d7c940"
  },
  {
   "metadata": {},
   "cell_type": "code",
   "outputs": [],
   "execution_count": null,
   "source": "matrix_connection.to_csv(os.path.join(dir_files,\"matrix_connection_entire.csv\"))",
   "id": "dcdbd641536e0a87"
  },
  {
   "metadata": {},
   "cell_type": "markdown",
   "source": "## GO graph statistics ",
   "id": "e4f684c5ea0ea03c"
  },
  {
   "metadata": {},
   "cell_type": "code",
   "source": [
    "in_d = [x[1] for x in graph_BP.in_degree()]\n",
    "out_d = [x[1] for x in graph_BP.out_degree()]\n",
    "all_d = [x[1] for x in graph_BP.degree()]\n",
    "levels = [nx.shortest_path_length(graph_BP, node, node_BP) for node in graph_BP.nodes]\n",
    "go_nodes = list(graph_BP.nodes)\n",
    "dfInfoGraph = pd.DataFrame({\"d-\": in_d, \"d+\": out_d, \"d\": all_d, \"level\": levels}, index=go_nodes)\n",
    "dfInfoGraph.head()"
   ],
   "id": "75f634bd84dbb5fe",
   "outputs": [],
   "execution_count": null
  },
  {
   "metadata": {},
   "cell_type": "code",
   "source": "dfInfoGraph.describe()",
   "id": "5facb592e9bbecec",
   "outputs": [],
   "execution_count": null
  },
  {
   "metadata": {},
   "cell_type": "code",
   "source": [
    "import matplotlib.pyplot as plt\n",
    "\n",
    "dfInfoGraph.groupby(\"level\").size().plot(kind='bar')\n",
    "plt.show()"
   ],
   "id": "5b6618d0229af708",
   "outputs": [],
   "execution_count": null
  },
  {
   "metadata": {},
   "cell_type": "code",
   "source": "",
   "id": "1e3200e519282d62",
   "outputs": [],
   "execution_count": null
  },
  {
   "metadata": {},
   "cell_type": "markdown",
   "source": "",
   "id": "a3c3935840b4942d"
  }
 ],
 "metadata": {
  "kernelspec": {
   "display_name": "Python 3",
   "language": "python",
   "name": "python3"
  },
  "language_info": {
   "codemirror_mode": {
    "name": "ipython",
    "version": 2
   },
   "file_extension": ".py",
   "mimetype": "text/x-python",
   "name": "python",
   "nbconvert_exporter": "python",
   "pygments_lexer": "ipython2",
   "version": "2.7.6"
  }
 },
 "nbformat": 4,
 "nbformat_minor": 5
}
