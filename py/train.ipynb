{
 "cells": [
  {
   "cell_type": "code",
   "execution_count": 1,
   "id": "initial_id",
   "metadata": {
    "ExecuteTime": {
     "end_time": "2024-04-23T16:34:57.268986Z",
     "start_time": "2024-04-23T16:34:53.865040Z"
    }
   },
   "outputs": [
    {
     "name": "stdout",
     "output_type": "stream",
     "text": [
      "1.13.1+cu117\n"
     ]
    }
   ],
   "source": [
    "import numpy as np\n",
    "import pandas as pd\n",
    "import networkx as nx\n",
    "import torch\n",
    "from torch_geometric.nn import Node2Vec\n",
    "from torch_geometric.data import Data\n",
    "print(torch.__version__)\n"
   ]
  },
  {
   "cell_type": "markdown",
   "id": "4ca648e1653f6bc2",
   "metadata": {},
   "source": [
    "# Load data"
   ]
  },
  {
   "cell_type": "code",
   "execution_count": 2,
   "id": "703cc2509b28b888",
   "metadata": {
    "ExecuteTime": {
     "end_time": "2024-04-23T16:34:57.330716Z",
     "start_time": "2024-04-23T16:34:57.269987Z"
    }
   },
   "outputs": [
    {
     "data": {
      "text/html": [
       "<div>\n",
       "<style scoped>\n",
       "    .dataframe tbody tr th:only-of-type {\n",
       "        vertical-align: middle;\n",
       "    }\n",
       "\n",
       "    .dataframe tbody tr th {\n",
       "        vertical-align: top;\n",
       "    }\n",
       "\n",
       "    .dataframe thead th {\n",
       "        text-align: right;\n",
       "    }\n",
       "</style>\n",
       "<table border=\"1\" class=\"dataframe\">\n",
       "  <thead>\n",
       "    <tr style=\"text-align: right;\">\n",
       "      <th></th>\n",
       "      <th>ENSEMBL</th>\n",
       "      <th>GO</th>\n",
       "    </tr>\n",
       "  </thead>\n",
       "  <tbody>\n",
       "    <tr>\n",
       "      <th>0</th>\n",
       "      <td>ENSG00000000003</td>\n",
       "      <td>GO:0039532</td>\n",
       "    </tr>\n",
       "    <tr>\n",
       "      <th>1</th>\n",
       "      <td>ENSG00000000005</td>\n",
       "      <td>GO:0001937</td>\n",
       "    </tr>\n",
       "    <tr>\n",
       "      <th>2</th>\n",
       "      <td>ENSG00000000005</td>\n",
       "      <td>GO:0016525</td>\n",
       "    </tr>\n",
       "    <tr>\n",
       "      <th>3</th>\n",
       "      <td>ENSG00000000419</td>\n",
       "      <td>GO:0006488</td>\n",
       "    </tr>\n",
       "    <tr>\n",
       "      <th>4</th>\n",
       "      <td>ENSG00000000419</td>\n",
       "      <td>GO:0006506</td>\n",
       "    </tr>\n",
       "  </tbody>\n",
       "</table>\n",
       "</div>"
      ],
      "text/plain": [
       "           ENSEMBL          GO\n",
       "0  ENSG00000000003  GO:0039532\n",
       "1  ENSG00000000005  GO:0001937\n",
       "2  ENSG00000000005  GO:0016525\n",
       "3  ENSG00000000419  GO:0006488\n",
       "4  ENSG00000000419  GO:0006506"
      ]
     },
     "execution_count": 2,
     "metadata": {},
     "output_type": "execute_result"
    }
   ],
   "source": [
    "bp_db = pd.read_csv(\"../data/bp_db.csv\", index_col=0)\n",
    "bp_db.head()"
   ]
  },
  {
   "cell_type": "code",
   "execution_count": 3,
   "id": "de83495d06a06d39",
   "metadata": {
    "ExecuteTime": {
     "end_time": "2024-04-23T16:35:03.847942Z",
     "start_time": "2024-04-23T16:34:57.331717Z"
    }
   },
   "outputs": [
    {
     "data": {
      "text/html": [
       "<div>\n",
       "<style scoped>\n",
       "    .dataframe tbody tr th:only-of-type {\n",
       "        vertical-align: middle;\n",
       "    }\n",
       "\n",
       "    .dataframe tbody tr th {\n",
       "        vertical-align: top;\n",
       "    }\n",
       "\n",
       "    .dataframe thead th {\n",
       "        text-align: right;\n",
       "    }\n",
       "</style>\n",
       "<table border=\"1\" class=\"dataframe\">\n",
       "  <thead>\n",
       "    <tr style=\"text-align: right;\">\n",
       "      <th></th>\n",
       "      <th>ENSG00000000003</th>\n",
       "      <th>ENSG00000000005</th>\n",
       "      <th>ENSG00000000419</th>\n",
       "      <th>ENSG00000000457</th>\n",
       "      <th>ENSG00000000460</th>\n",
       "      <th>ENSG00000000938</th>\n",
       "      <th>ENSG00000000971</th>\n",
       "      <th>ENSG00000001036</th>\n",
       "      <th>ENSG00000001084</th>\n",
       "      <th>ENSG00000001167</th>\n",
       "      <th>...</th>\n",
       "      <th>ENSGR0000167393</th>\n",
       "      <th>ENSGR0000169084</th>\n",
       "      <th>ENSGR0000169093</th>\n",
       "      <th>ENSGR0000178605</th>\n",
       "      <th>ENSGR0000182378</th>\n",
       "      <th>ENSGR0000185291</th>\n",
       "      <th>ENSGR0000198223</th>\n",
       "      <th>ENSGR0000214717</th>\n",
       "      <th>ENSGR0000223511</th>\n",
       "      <th>ENSGR0000223773</th>\n",
       "    </tr>\n",
       "  </thead>\n",
       "  <tbody>\n",
       "    <tr>\n",
       "      <th>089357B</th>\n",
       "      <td>14</td>\n",
       "      <td>7</td>\n",
       "      <td>103</td>\n",
       "      <td>241</td>\n",
       "      <td>72</td>\n",
       "      <td>2057</td>\n",
       "      <td>30</td>\n",
       "      <td>60</td>\n",
       "      <td>207</td>\n",
       "      <td>367</td>\n",
       "      <td>...</td>\n",
       "      <td>1</td>\n",
       "      <td>0</td>\n",
       "      <td>0</td>\n",
       "      <td>0</td>\n",
       "      <td>0</td>\n",
       "      <td>0</td>\n",
       "      <td>0</td>\n",
       "      <td>0</td>\n",
       "      <td>0</td>\n",
       "      <td>0</td>\n",
       "    </tr>\n",
       "    <tr>\n",
       "      <th>089366A</th>\n",
       "      <td>11</td>\n",
       "      <td>2</td>\n",
       "      <td>194</td>\n",
       "      <td>511</td>\n",
       "      <td>110</td>\n",
       "      <td>3325</td>\n",
       "      <td>36</td>\n",
       "      <td>111</td>\n",
       "      <td>186</td>\n",
       "      <td>530</td>\n",
       "      <td>...</td>\n",
       "      <td>0</td>\n",
       "      <td>0</td>\n",
       "      <td>0</td>\n",
       "      <td>0</td>\n",
       "      <td>0</td>\n",
       "      <td>0</td>\n",
       "      <td>1</td>\n",
       "      <td>0</td>\n",
       "      <td>0</td>\n",
       "      <td>1</td>\n",
       "    </tr>\n",
       "    <tr>\n",
       "      <th>089412B</th>\n",
       "      <td>8</td>\n",
       "      <td>0</td>\n",
       "      <td>312</td>\n",
       "      <td>450</td>\n",
       "      <td>106</td>\n",
       "      <td>3751</td>\n",
       "      <td>45</td>\n",
       "      <td>160</td>\n",
       "      <td>325</td>\n",
       "      <td>653</td>\n",
       "      <td>...</td>\n",
       "      <td>0</td>\n",
       "      <td>0</td>\n",
       "      <td>0</td>\n",
       "      <td>0</td>\n",
       "      <td>0</td>\n",
       "      <td>0</td>\n",
       "      <td>1</td>\n",
       "      <td>0</td>\n",
       "      <td>0</td>\n",
       "      <td>0</td>\n",
       "    </tr>\n",
       "    <tr>\n",
       "      <th>089425B</th>\n",
       "      <td>9</td>\n",
       "      <td>0</td>\n",
       "      <td>135</td>\n",
       "      <td>496</td>\n",
       "      <td>133</td>\n",
       "      <td>2758</td>\n",
       "      <td>26</td>\n",
       "      <td>93</td>\n",
       "      <td>182</td>\n",
       "      <td>620</td>\n",
       "      <td>...</td>\n",
       "      <td>0</td>\n",
       "      <td>0</td>\n",
       "      <td>0</td>\n",
       "      <td>0</td>\n",
       "      <td>0</td>\n",
       "      <td>0</td>\n",
       "      <td>0</td>\n",
       "      <td>0</td>\n",
       "      <td>0</td>\n",
       "      <td>0</td>\n",
       "    </tr>\n",
       "    <tr>\n",
       "      <th>089687A</th>\n",
       "      <td>4</td>\n",
       "      <td>0</td>\n",
       "      <td>89</td>\n",
       "      <td>267</td>\n",
       "      <td>49</td>\n",
       "      <td>2181</td>\n",
       "      <td>24</td>\n",
       "      <td>75</td>\n",
       "      <td>122</td>\n",
       "      <td>263</td>\n",
       "      <td>...</td>\n",
       "      <td>0</td>\n",
       "      <td>0</td>\n",
       "      <td>0</td>\n",
       "      <td>0</td>\n",
       "      <td>0</td>\n",
       "      <td>0</td>\n",
       "      <td>1</td>\n",
       "      <td>0</td>\n",
       "      <td>0</td>\n",
       "      <td>0</td>\n",
       "    </tr>\n",
       "  </tbody>\n",
       "</table>\n",
       "<p>5 rows × 52645 columns</p>\n",
       "</div>"
      ],
      "text/plain": [
       "         ENSG00000000003  ENSG00000000005  ENSG00000000419  ENSG00000000457  \\\n",
       "089357B               14                7              103              241   \n",
       "089366A               11                2              194              511   \n",
       "089412B                8                0              312              450   \n",
       "089425B                9                0              135              496   \n",
       "089687A                4                0               89              267   \n",
       "\n",
       "         ENSG00000000460  ENSG00000000938  ENSG00000000971  ENSG00000001036  \\\n",
       "089357B               72             2057               30               60   \n",
       "089366A              110             3325               36              111   \n",
       "089412B              106             3751               45              160   \n",
       "089425B              133             2758               26               93   \n",
       "089687A               49             2181               24               75   \n",
       "\n",
       "         ENSG00000001084  ENSG00000001167  ...  ENSGR0000167393  \\\n",
       "089357B              207              367  ...                1   \n",
       "089366A              186              530  ...                0   \n",
       "089412B              325              653  ...                0   \n",
       "089425B              182              620  ...                0   \n",
       "089687A              122              263  ...                0   \n",
       "\n",
       "         ENSGR0000169084  ENSGR0000169093  ENSGR0000178605  ENSGR0000182378  \\\n",
       "089357B                0                0                0                0   \n",
       "089366A                0                0                0                0   \n",
       "089412B                0                0                0                0   \n",
       "089425B                0                0                0                0   \n",
       "089687A                0                0                0                0   \n",
       "\n",
       "         ENSGR0000185291  ENSGR0000198223  ENSGR0000214717  ENSGR0000223511  \\\n",
       "089357B                0                0                0                0   \n",
       "089366A                0                1                0                0   \n",
       "089412B                0                1                0                0   \n",
       "089425B                0                0                0                0   \n",
       "089687A                0                1                0                0   \n",
       "\n",
       "         ENSGR0000223773  \n",
       "089357B                0  \n",
       "089366A                1  \n",
       "089412B                0  \n",
       "089425B                0  \n",
       "089687A                0  \n",
       "\n",
       "[5 rows x 52645 columns]"
      ]
     },
     "execution_count": 3,
     "metadata": {},
     "output_type": "execute_result"
    }
   ],
   "source": [
    "counts1 = pd.read_csv(\"../data/counts1.csv\", index_col=0)\n",
    "counts1.head()"
   ]
  },
  {
   "cell_type": "code",
   "execution_count": 4,
   "id": "8f679c3537ff4d32",
   "metadata": {
    "ExecuteTime": {
     "end_time": "2024-04-23T16:35:03.863171Z",
     "start_time": "2024-04-23T16:35:03.848943Z"
    }
   },
   "outputs": [
    {
     "data": {
      "text/html": [
       "<div>\n",
       "<style scoped>\n",
       "    .dataframe tbody tr th:only-of-type {\n",
       "        vertical-align: middle;\n",
       "    }\n",
       "\n",
       "    .dataframe tbody tr th {\n",
       "        vertical-align: top;\n",
       "    }\n",
       "\n",
       "    .dataframe thead th {\n",
       "        text-align: right;\n",
       "    }\n",
       "</style>\n",
       "<table border=\"1\" class=\"dataframe\">\n",
       "  <thead>\n",
       "    <tr style=\"text-align: right;\">\n",
       "      <th></th>\n",
       "      <th>age</th>\n",
       "      <th>sex</th>\n",
       "      <th>lithium</th>\n",
       "      <th>condition</th>\n",
       "    </tr>\n",
       "  </thead>\n",
       "  <tbody>\n",
       "    <tr>\n",
       "      <th>089357B</th>\n",
       "      <td>18</td>\n",
       "      <td>F</td>\n",
       "      <td>0</td>\n",
       "      <td>0</td>\n",
       "    </tr>\n",
       "    <tr>\n",
       "      <th>089366A</th>\n",
       "      <td>19</td>\n",
       "      <td>F</td>\n",
       "      <td>0</td>\n",
       "      <td>0</td>\n",
       "    </tr>\n",
       "    <tr>\n",
       "      <th>089412B</th>\n",
       "      <td>23</td>\n",
       "      <td>F</td>\n",
       "      <td>0</td>\n",
       "      <td>0</td>\n",
       "    </tr>\n",
       "    <tr>\n",
       "      <th>089425B</th>\n",
       "      <td>47</td>\n",
       "      <td>F</td>\n",
       "      <td>0</td>\n",
       "      <td>0</td>\n",
       "    </tr>\n",
       "    <tr>\n",
       "      <th>089687A</th>\n",
       "      <td>52</td>\n",
       "      <td>F</td>\n",
       "      <td>0</td>\n",
       "      <td>0</td>\n",
       "    </tr>\n",
       "  </tbody>\n",
       "</table>\n",
       "</div>"
      ],
      "text/plain": [
       "         age sex  lithium  condition\n",
       "089357B   18   F        0          0\n",
       "089366A   19   F        0          0\n",
       "089412B   23   F        0          0\n",
       "089425B   47   F        0          0\n",
       "089687A   52   F        0          0"
      ]
     },
     "execution_count": 4,
     "metadata": {},
     "output_type": "execute_result"
    }
   ],
   "source": [
    "pheno1 = pd.read_csv(\"../data/pheno1.csv\", index_col=0)\n",
    "pheno1.drop([\"diagnosis\"], axis=1, inplace=True)\n",
    "pheno1[\"condition\"] = pheno1[\"condition\"].apply(lambda x: 0 if x == \"Control\" else 1)\n",
    "pheno1.head()"
   ]
  },
  {
   "cell_type": "markdown",
   "id": "6dccdac6a31a835f",
   "metadata": {},
   "source": [
    "# Train Node Embeddings from Graph"
   ]
  },
  {
   "cell_type": "code",
   "execution_count": 5,
   "id": "dfc2317bcd4658fe",
   "metadata": {
    "ExecuteTime": {
     "end_time": "2024-04-23T16:35:04.878256Z",
     "start_time": "2024-04-23T16:35:03.864175Z"
    }
   },
   "outputs": [],
   "source": [
    "bp_graph = nx.read_gml(\"../data/bp_graph.gml\")"
   ]
  },
  {
   "cell_type": "code",
   "execution_count": 6,
   "id": "1e4c6f44154cac9",
   "metadata": {
    "ExecuteTime": {
     "end_time": "2024-04-23T16:35:04.988256Z",
     "start_time": "2024-04-23T16:35:04.879258Z"
    }
   },
   "outputs": [],
   "source": [
    "bp_db_go = sorted(set(bp_graph.nodes))\n",
    "\n",
    "map_int_go = {int(idx): go for idx, go in enumerate(bp_db_go)}\n",
    "map_go_int = {go: idx for idx, go in map_int_go.items()}\n",
    "\n",
    "_graph = nx.relabel_nodes(bp_graph, map_go_int, copy=False)\n",
    "edge_index = torch.tensor(list(_graph.edges()), dtype=torch.long).t().contiguous()\n",
    "\n",
    "data = Data(x=None, edge_index=edge_index)"
   ]
  },
  {
   "cell_type": "code",
   "execution_count": 25,
   "id": "6d464d014f28b6b7",
   "metadata": {
    "ExecuteTime": {
     "end_time": "2024-04-23T16:35:05.194255Z",
     "start_time": "2024-04-23T16:35:04.989258Z"
    }
   },
   "outputs": [],
   "source": [
    "device = 'cuda' if torch.cuda.is_available() else 'cpu'\n",
    "\n",
    "model = Node2Vec(data.edge_index, embedding_dim=8, walk_length=20,\n",
    "                 context_size=10, walks_per_node=10,\n",
    "                 num_negative_samples=1, p=1, q=1, sparse=True).to(device)\n",
    "\n",
    "loader = model.loader(batch_size=4, shuffle=True)\n",
    "optimizer = torch.optim.SparseAdam(list(model.parameters()), lr=0.001)"
   ]
  },
  {
   "cell_type": "code",
   "execution_count": 8,
   "id": "f8c00d52b2dcc4a1",
   "metadata": {
    "ExecuteTime": {
     "end_time": "2024-04-23T16:35:05.209255Z",
     "start_time": "2024-04-23T16:35:05.195256Z"
    }
   },
   "outputs": [],
   "source": [
    "def train():\n",
    "    model.train()\n",
    "    total_loss = 0\n",
    "    for pos_rw, neg_rw in loader:\n",
    "        optimizer.zero_grad()\n",
    "        loss = model.loss(pos_rw.to(device), neg_rw.to(device))\n",
    "        loss.backward()\n",
    "        optimizer.step()\n",
    "        total_loss += loss.item()\n",
    "    return total_loss / len(loader)"
   ]
  },
  {
   "cell_type": "code",
   "execution_count": 9,
   "id": "c53c639ee3271d26",
   "metadata": {
    "ExecuteTime": {
     "end_time": "2024-04-23T16:36:05.205927Z",
     "start_time": "2024-04-23T16:35:05.210257Z"
    }
   },
   "outputs": [
    {
     "name": "stdout",
     "output_type": "stream",
     "text": [
      "Epoch: 01, Loss: 1.3316\n",
      "Epoch: 02, Loss: 1.1318\n",
      "Epoch: 03, Loss: 1.0370\n",
      "Epoch: 04, Loss: 0.9808\n",
      "Epoch: 05, Loss: 0.9418\n",
      "Epoch: 06, Loss: 0.9140\n",
      "Epoch: 07, Loss: 0.8933\n",
      "Epoch: 08, Loss: 0.8762\n",
      "Epoch: 09, Loss: 0.8628\n"
     ]
    }
   ],
   "source": [
    "for epoch in range(1, 10):\n",
    "    loss = train()\n",
    "    #acc = test()\n",
    "    print(f'Epoch: {epoch:02d}, Loss: {loss:.4f}')"
   ]
  },
  {
   "cell_type": "code",
   "execution_count": 12,
   "id": "135c3d5095125b58",
   "metadata": {
    "ExecuteTime": {
     "end_time": "2024-04-23T16:36:05.221551Z",
     "start_time": "2024-04-23T16:36:05.206930Z"
    }
   },
   "outputs": [
    {
     "data": {
      "text/plain": [
       "torch.Size([9917, 8])"
      ]
     },
     "execution_count": 12,
     "metadata": {},
     "output_type": "execute_result"
    }
   ],
   "source": [
    "go_embedding = model()  # go_index -> go_embedding\n",
    "go_embedding.shape"
   ]
  },
  {
   "cell_type": "code",
   "execution_count": 13,
   "id": "e724e321c682bfbc",
   "metadata": {
    "ExecuteTime": {
     "end_time": "2024-04-23T16:36:05.253551Z",
     "start_time": "2024-04-23T16:36:05.222553Z"
    }
   },
   "outputs": [
    {
     "data": {
      "text/plain": [
       "torch.Size([52645, 8])"
      ]
     },
     "execution_count": 13,
     "metadata": {},
     "output_type": "execute_result"
    }
   ],
   "source": [
    "_embedding = go_embedding.cpu().detach().numpy()\n",
    "\n",
    "map_int_gene = {int(idx): gene for idx, gene in enumerate(counts1.columns)}\n",
    "map_gene_int = {gene: idx for idx, gene in map_int_gene.items()}\n",
    "\n",
    "# convert to gene_index -> go_embedding\n",
    "embedding_gene = np.zeros((len(counts1.columns), _embedding.shape[1]))\n",
    "for idx, gene in map_int_gene.items():\n",
    "    if gene in map_go_int:\n",
    "        embedding_gene[idx] = _embedding[map_go_int[gene]]\n",
    "\n",
    "embedding_gene = torch.tensor(embedding_gene, dtype=torch.float32, device=device)\n",
    "embedding_gene.shape"
   ]
  },
  {
   "cell_type": "markdown",
   "id": "93c17bd4cac55149",
   "metadata": {},
   "source": [
    "# process the data"
   ]
  },
  {
   "cell_type": "code",
   "execution_count": 14,
   "id": "9e74a2b4749d6ce5",
   "metadata": {
    "ExecuteTime": {
     "end_time": "2024-04-23T16:36:05.586550Z",
     "start_time": "2024-04-23T16:36:05.254552Z"
    }
   },
   "outputs": [
    {
     "data": {
      "text/html": [
       "<div>\n",
       "<style scoped>\n",
       "    .dataframe tbody tr th:only-of-type {\n",
       "        vertical-align: middle;\n",
       "    }\n",
       "\n",
       "    .dataframe tbody tr th {\n",
       "        vertical-align: top;\n",
       "    }\n",
       "\n",
       "    .dataframe thead th {\n",
       "        text-align: right;\n",
       "    }\n",
       "</style>\n",
       "<table border=\"1\" class=\"dataframe\">\n",
       "  <thead>\n",
       "    <tr style=\"text-align: right;\">\n",
       "      <th></th>\n",
       "      <th>ENSG00000000003</th>\n",
       "      <th>ENSG00000000005</th>\n",
       "      <th>ENSG00000000419</th>\n",
       "      <th>ENSG00000000457</th>\n",
       "      <th>ENSG00000000460</th>\n",
       "      <th>ENSG00000000938</th>\n",
       "      <th>ENSG00000000971</th>\n",
       "      <th>ENSG00000001036</th>\n",
       "      <th>ENSG00000001084</th>\n",
       "      <th>ENSG00000001167</th>\n",
       "      <th>...</th>\n",
       "      <th>ENSGR0000178605</th>\n",
       "      <th>ENSGR0000182378</th>\n",
       "      <th>ENSGR0000185291</th>\n",
       "      <th>ENSGR0000198223</th>\n",
       "      <th>ENSGR0000214717</th>\n",
       "      <th>ENSGR0000223511</th>\n",
       "      <th>ENSGR0000223773</th>\n",
       "      <th>age</th>\n",
       "      <th>sex</th>\n",
       "      <th>lithium</th>\n",
       "    </tr>\n",
       "  </thead>\n",
       "  <tbody>\n",
       "    <tr>\n",
       "      <th>089357B</th>\n",
       "      <td>2.110648</td>\n",
       "      <td>4.704691</td>\n",
       "      <td>-0.899272</td>\n",
       "      <td>-1.436269</td>\n",
       "      <td>-1.132860</td>\n",
       "      <td>-1.111674</td>\n",
       "      <td>-0.804400</td>\n",
       "      <td>-1.458287</td>\n",
       "      <td>-0.629450</td>\n",
       "      <td>-1.040200</td>\n",
       "      <td>...</td>\n",
       "      <td>-0.152399</td>\n",
       "      <td>-0.453101</td>\n",
       "      <td>-0.212458</td>\n",
       "      <td>-0.502577</td>\n",
       "      <td>-0.45051</td>\n",
       "      <td>-0.222561</td>\n",
       "      <td>-0.226593</td>\n",
       "      <td>-2.043569</td>\n",
       "      <td>0.879916</td>\n",
       "      <td>-0.720677</td>\n",
       "    </tr>\n",
       "    <tr>\n",
       "      <th>089366A</th>\n",
       "      <td>1.348549</td>\n",
       "      <td>1.129061</td>\n",
       "      <td>-0.091576</td>\n",
       "      <td>0.088378</td>\n",
       "      <td>-0.357019</td>\n",
       "      <td>-0.170067</td>\n",
       "      <td>-0.695273</td>\n",
       "      <td>-0.660205</td>\n",
       "      <td>-0.785903</td>\n",
       "      <td>-0.267949</td>\n",
       "      <td>...</td>\n",
       "      <td>-0.152399</td>\n",
       "      <td>-0.453101</td>\n",
       "      <td>-0.212458</td>\n",
       "      <td>-0.146685</td>\n",
       "      <td>-0.45051</td>\n",
       "      <td>-0.222561</td>\n",
       "      <td>2.492525</td>\n",
       "      <td>-1.972198</td>\n",
       "      <td>0.879916</td>\n",
       "      <td>-0.720677</td>\n",
       "    </tr>\n",
       "    <tr>\n",
       "      <th>089412B</th>\n",
       "      <td>0.586450</td>\n",
       "      <td>-0.301190</td>\n",
       "      <td>0.955766</td>\n",
       "      <td>-0.256079</td>\n",
       "      <td>-0.438687</td>\n",
       "      <td>0.146277</td>\n",
       "      <td>-0.531583</td>\n",
       "      <td>0.106580</td>\n",
       "      <td>0.249663</td>\n",
       "      <td>0.314793</td>\n",
       "      <td>...</td>\n",
       "      <td>-0.152399</td>\n",
       "      <td>-0.453101</td>\n",
       "      <td>-0.212458</td>\n",
       "      <td>-0.146685</td>\n",
       "      <td>-0.45051</td>\n",
       "      <td>-0.222561</td>\n",
       "      <td>-0.226593</td>\n",
       "      <td>-1.686712</td>\n",
       "      <td>0.879916</td>\n",
       "      <td>-0.720677</td>\n",
       "    </tr>\n",
       "    <tr>\n",
       "      <th>089425B</th>\n",
       "      <td>0.840483</td>\n",
       "      <td>-0.301190</td>\n",
       "      <td>-0.615247</td>\n",
       "      <td>0.003676</td>\n",
       "      <td>0.112569</td>\n",
       "      <td>-0.591117</td>\n",
       "      <td>-0.877151</td>\n",
       "      <td>-0.941881</td>\n",
       "      <td>-0.815703</td>\n",
       "      <td>0.158447</td>\n",
       "      <td>...</td>\n",
       "      <td>-0.152399</td>\n",
       "      <td>-0.453101</td>\n",
       "      <td>-0.212458</td>\n",
       "      <td>-0.502577</td>\n",
       "      <td>-0.45051</td>\n",
       "      <td>-0.222561</td>\n",
       "      <td>-0.226593</td>\n",
       "      <td>0.026202</td>\n",
       "      <td>0.879916</td>\n",
       "      <td>-0.720677</td>\n",
       "    </tr>\n",
       "    <tr>\n",
       "      <th>089687A</th>\n",
       "      <td>-0.429682</td>\n",
       "      <td>-0.301190</td>\n",
       "      <td>-1.023533</td>\n",
       "      <td>-1.289451</td>\n",
       "      <td>-1.602448</td>\n",
       "      <td>-1.019593</td>\n",
       "      <td>-0.913527</td>\n",
       "      <td>-1.223557</td>\n",
       "      <td>-1.262710</td>\n",
       "      <td>-1.532924</td>\n",
       "      <td>...</td>\n",
       "      <td>-0.152399</td>\n",
       "      <td>-0.453101</td>\n",
       "      <td>-0.212458</td>\n",
       "      <td>-0.146685</td>\n",
       "      <td>-0.45051</td>\n",
       "      <td>-0.222561</td>\n",
       "      <td>-0.226593</td>\n",
       "      <td>0.383059</td>\n",
       "      <td>0.879916</td>\n",
       "      <td>-0.720677</td>\n",
       "    </tr>\n",
       "  </tbody>\n",
       "</table>\n",
       "<p>5 rows × 52648 columns</p>\n",
       "</div>"
      ],
      "text/plain": [
       "         ENSG00000000003  ENSG00000000005  ENSG00000000419  ENSG00000000457  \\\n",
       "089357B         2.110648         4.704691        -0.899272        -1.436269   \n",
       "089366A         1.348549         1.129061        -0.091576         0.088378   \n",
       "089412B         0.586450        -0.301190         0.955766        -0.256079   \n",
       "089425B         0.840483        -0.301190        -0.615247         0.003676   \n",
       "089687A        -0.429682        -0.301190        -1.023533        -1.289451   \n",
       "\n",
       "         ENSG00000000460  ENSG00000000938  ENSG00000000971  ENSG00000001036  \\\n",
       "089357B        -1.132860        -1.111674        -0.804400        -1.458287   \n",
       "089366A        -0.357019        -0.170067        -0.695273        -0.660205   \n",
       "089412B        -0.438687         0.146277        -0.531583         0.106580   \n",
       "089425B         0.112569        -0.591117        -0.877151        -0.941881   \n",
       "089687A        -1.602448        -1.019593        -0.913527        -1.223557   \n",
       "\n",
       "         ENSG00000001084  ENSG00000001167  ...  ENSGR0000178605  \\\n",
       "089357B        -0.629450        -1.040200  ...        -0.152399   \n",
       "089366A        -0.785903        -0.267949  ...        -0.152399   \n",
       "089412B         0.249663         0.314793  ...        -0.152399   \n",
       "089425B        -0.815703         0.158447  ...        -0.152399   \n",
       "089687A        -1.262710        -1.532924  ...        -0.152399   \n",
       "\n",
       "         ENSGR0000182378  ENSGR0000185291  ENSGR0000198223  ENSGR0000214717  \\\n",
       "089357B        -0.453101        -0.212458        -0.502577         -0.45051   \n",
       "089366A        -0.453101        -0.212458        -0.146685         -0.45051   \n",
       "089412B        -0.453101        -0.212458        -0.146685         -0.45051   \n",
       "089425B        -0.453101        -0.212458        -0.502577         -0.45051   \n",
       "089687A        -0.453101        -0.212458        -0.146685         -0.45051   \n",
       "\n",
       "         ENSGR0000223511  ENSGR0000223773       age       sex   lithium  \n",
       "089357B        -0.222561        -0.226593 -2.043569  0.879916 -0.720677  \n",
       "089366A        -0.222561         2.492525 -1.972198  0.879916 -0.720677  \n",
       "089412B        -0.222561        -0.226593 -1.686712  0.879916 -0.720677  \n",
       "089425B        -0.222561        -0.226593  0.026202  0.879916 -0.720677  \n",
       "089687A        -0.222561        -0.226593  0.383059  0.879916 -0.720677  \n",
       "\n",
       "[5 rows x 52648 columns]"
      ]
     },
     "execution_count": 14,
     "metadata": {},
     "output_type": "execute_result"
    }
   ],
   "source": [
    "# add age, sex, lithium of pheno1 to counts1\n",
    "tmp_pheno1 = pheno1[[\"age\", \"sex\", \"lithium\"]].apply(lambda x: x.replace(\"M\", 0).replace(\"F\", 1))  # chagne sex to 0, 1\n",
    "counts1_merge = pd.merge(counts1, tmp_pheno1, left_index=True, right_index=True)\n",
    "\n",
    "counts1_merge = (counts1_merge - counts1_merge.mean()) / counts1_merge.std()\n",
    "counts1_merge.head()"
   ]
  },
  {
   "cell_type": "code",
   "execution_count": 15,
   "id": "6352a7375c960f94",
   "metadata": {
    "ExecuteTime": {
     "end_time": "2024-04-23T16:36:05.601464Z",
     "start_time": "2024-04-23T16:36:05.587553Z"
    }
   },
   "outputs": [],
   "source": [
    "bp_db_genes = set(bp_db.ENSEMBL)"
   ]
  },
  {
   "cell_type": "code",
   "execution_count": 16,
   "id": "7676409a345d9cd9",
   "metadata": {
    "ExecuteTime": {
     "end_time": "2024-04-23T16:36:13.924796Z",
     "start_time": "2024-04-23T16:36:05.603480Z"
    }
   },
   "outputs": [],
   "source": [
    "dataset = []\n",
    "input_dim = None\n",
    "\n",
    "for row in counts1_merge.iterrows():\n",
    "    idx = row[0]\n",
    "    values = row[1]\n",
    "    _data = {\n",
    "        \"gene_with_go_idx\": [],\n",
    "        \"gene_with_go_value\": [],\n",
    "        \"gene_without_go_value\": [],\n",
    "        \"other_info\": []\n",
    "    }\n",
    "    for k, v in values.items():\n",
    "        if k in bp_db_genes:\n",
    "            _data[\"gene_with_go_idx\"].append(map_gene_int[k])\n",
    "            _data[\"gene_with_go_value\"].append(v)\n",
    "        elif k in map_gene_int:\n",
    "            _data[\"gene_without_go_value\"].append(v)\n",
    "        else:\n",
    "            _data[\"other_info\"].append(v)\n",
    "    dataset.append(_data)\n",
    "    if input_dim is None:\n",
    "        input_dim = len(_data[\"gene_with_go_idx\"]) * 2 + len(_data[\"gene_without_go_value\"]) + len(_data[\"other_info\"])"
   ]
  },
  {
   "cell_type": "code",
   "execution_count": 26,
   "id": "6db3f7cf05dbade",
   "metadata": {
    "ExecuteTime": {
     "end_time": "2024-04-23T16:36:13.940624Z",
     "start_time": "2024-04-23T16:36:13.925798Z"
    }
   },
   "outputs": [],
   "source": [
    "from torch.utils.data import Dataset, DataLoader\n",
    "\n",
    "\n",
    "class MyDataset(Dataset):\n",
    "    def __init__(self, X, y):\n",
    "        self.X = X\n",
    "        self.y = y\n",
    "\n",
    "    def __len__(self):\n",
    "        return len(self.y)\n",
    "\n",
    "    def __getitem__(self, idx):\n",
    "        sample = self.X[idx]\n",
    "        gene_with_go_idx = torch.tensor(sample['gene_with_go_idx'], dtype=torch.long, device=device)\n",
    "        gene_with_go_value = torch.tensor(sample['gene_with_go_value'], dtype=torch.float, device=device)\n",
    "        gene_without_go_value = torch.tensor(sample['gene_without_go_value'], dtype=torch.float, device=device)\n",
    "        other_info = torch.tensor(sample['other_info'], dtype=torch.float, device=device)\n",
    "\n",
    "        return {\n",
    "            'gene_with_go_idx': gene_with_go_idx,\n",
    "            'gene_with_go_value': gene_with_go_value,\n",
    "            'gene_without_go_value': gene_without_go_value,\n",
    "            'other_info': other_info\n",
    "        }, torch.tensor(self.y[idx], dtype=torch.long, device=device)"
   ]
  },
  {
   "cell_type": "code",
   "execution_count": 18,
   "id": "7138ab82252b3773",
   "metadata": {
    "ExecuteTime": {
     "end_time": "2024-04-23T16:36:14.384543Z",
     "start_time": "2024-04-23T16:36:13.941625Z"
    }
   },
   "outputs": [
    {
     "name": "stdout",
     "output_type": "stream",
     "text": [
      "355 89\n"
     ]
    }
   ],
   "source": [
    "from sklearn.model_selection import train_test_split\n",
    "\n",
    "X = dataset\n",
    "y = pheno1[\"condition\"].values\n",
    "\n",
    "X_train, X_test, y_train, y_test = train_test_split(X, y, test_size=0.2, random_state=42)\n",
    "print(len(X_train), len(X_test))"
   ]
  },
  {
   "cell_type": "code",
   "execution_count": 19,
   "id": "84130e64e014ae3f",
   "metadata": {
    "ExecuteTime": {
     "end_time": "2024-04-23T16:36:14.400543Z",
     "start_time": "2024-04-23T16:36:14.385545Z"
    }
   },
   "outputs": [],
   "source": [
    "train_dataset = MyDataset(X_train, y_train)\n",
    "train_loader = DataLoader(train_dataset, batch_size=4, shuffle=True)\n",
    "\n",
    "test_dataset = MyDataset(X_test, y_test)\n",
    "test_loader = DataLoader(test_dataset, batch_size=4, shuffle=False)"
   ]
  },
  {
   "cell_type": "code",
   "execution_count": 20,
   "id": "7c931e06f8b7b5c9",
   "metadata": {
    "ExecuteTime": {
     "end_time": "2024-04-23T16:36:14.480543Z",
     "start_time": "2024-04-23T16:36:14.401546Z"
    }
   },
   "outputs": [],
   "source": [
    "import torch.nn as nn\n",
    "import torch.nn.functional as F\n",
    "\n",
    "\n",
    "class MyModel(nn.Module):\n",
    "    def __init__(self, node_embedding, input_dim, output_dim):\n",
    "        super().__init__()\n",
    "\n",
    "        self.embedding = node_embedding\n",
    "        self.fc1 = nn.Linear(input_dim, 256)\n",
    "        self.fc2 = nn.Linear(256, 128)\n",
    "        self.fc3 = nn.Linear(128, output_dim)\n",
    "        self.relu1 = nn.ReLU()\n",
    "        self.relu2 = nn.ReLU()\n",
    "\n",
    "    def forward(self, X):\n",
    "        gene_with_go_idx = X['gene_with_go_idx']  # (B, N_1)\n",
    "        gene_with_go_value = X['gene_with_go_value']  # (B, N_1)\n",
    "        gene_without_go_value = X['gene_without_go_value']  # (B, N_2)\n",
    "        other_info = X['other_info']  # (B, N_3)\n",
    "\n",
    "        gene_with_go_embedding = self.embedding[gene_with_go_idx]  # (B, N_1, 8)\n",
    "        gene_with_go_embedding = gene_with_go_embedding * gene_with_go_value.unsqueeze(-1)  # (B, N_1, 8)\n",
    "        gene_with_go_embedding = gene_with_go_embedding.mean(dim=2)  # (B, N_1)\n",
    "\n",
    "        output = torch.cat([gene_with_go_embedding, gene_with_go_value, gene_without_go_value, other_info],\n",
    "                           dim=1)  # (B, N_1 * 2 + N_2 + N_3)\n",
    "\n",
    "        output = self.fc1(output)  # (B, 256)\n",
    "        output = self.relu1(output)\n",
    "        output = self.fc2(output)  # (B, 128)\n",
    "        output = self.relu2(output)\n",
    "        output = self.fc3(output)  # (B, 2)\n",
    "        return output\n",
    "\n",
    "\n",
    "model = MyModel(node_embedding=embedding_gene, input_dim= input_dim, output_dim=2)"
   ]
  },
  {
   "cell_type": "code",
   "execution_count": 21,
   "id": "a6d451060328a111",
   "metadata": {
    "ExecuteTime": {
     "end_time": "2024-04-23T16:36:17.998352Z",
     "start_time": "2024-04-23T16:36:14.481545Z"
    }
   },
   "outputs": [],
   "source": [
    "import torch.optim as optim\n",
    "\n",
    "# Assume model is an instance of our RNN class\n",
    "optimizer = optim.SGD(model.parameters(), lr=0.001)\n",
    "criterion = nn.CrossEntropyLoss()\n",
    "model = model.to(device)\n",
    "criterion = criterion.to(device)\n",
    "\n",
    "\n",
    "def train(model, iterator, optimizer, criterion):\n",
    "    epoch_loss = 0\n",
    "    total_correct = 0\n",
    "    total_instances = 0\n",
    "\n",
    "    model.train()\n",
    "\n",
    "    for X, y in iterator:\n",
    "        optimizer.zero_grad()\n",
    "\n",
    "        # Assuming your model's forward method automatically handles padding, then no need to pack sequence here\n",
    "        predictions = model(X)\n",
    "\n",
    "        loss = criterion(predictions, y)\n",
    "        loss.backward()\n",
    "        optimizer.step()\n",
    "\n",
    "        epoch_loss += loss.item()\n",
    "\n",
    "        # Compute the number of correct predictions\n",
    "        _, predicted_classes = predictions.max(dim=1)\n",
    "        correct_predictions = (predicted_classes == y).float()  # Convert to float for summation\n",
    "        total_correct += correct_predictions.sum().item()\n",
    "        total_instances += y.size(0)\n",
    "\n",
    "    epoch_acc = total_correct / total_instances\n",
    "\n",
    "    return epoch_loss / len(iterator), epoch_acc\n",
    "\n",
    "\n",
    "train_loss, train_acc = train(model, train_loader, optimizer, criterion)"
   ]
  },
  {
   "cell_type": "code",
   "execution_count": 22,
   "id": "21b4baa715ce7bd6",
   "metadata": {
    "ExecuteTime": {
     "end_time": "2024-04-23T16:36:18.013568Z",
     "start_time": "2024-04-23T16:36:17.999353Z"
    }
   },
   "outputs": [],
   "source": [
    "def evaluate(model, iterator, criterion):\n",
    "    epoch_loss = 0\n",
    "    total_correct = 0\n",
    "    total_instances = 0\n",
    "\n",
    "    model.eval()\n",
    "\n",
    "    with torch.no_grad():\n",
    "        for X, y in iterator:\n",
    "            predictions = model(X)\n",
    "\n",
    "            loss = criterion(predictions, y)\n",
    "            epoch_loss += loss.item()\n",
    "\n",
    "            # Compute the number of correct predictions\n",
    "            _, predicted_classes = predictions.max(dim=1)\n",
    "            correct_predictions = (predicted_classes == y).float()  # Convert to float for summation\n",
    "            total_correct += correct_predictions.sum().item()\n",
    "            total_instances += y.size(0)\n",
    "\n",
    "    epoch_acc = total_correct / total_instances\n",
    "    return epoch_loss / len(iterator), epoch_acc"
   ]
  },
  {
   "cell_type": "code",
   "execution_count": 23,
   "id": "3c7554b7e500ba06",
   "metadata": {
    "ExecuteTime": {
     "end_time": "2024-04-23T16:36:18.028568Z",
     "start_time": "2024-04-23T16:36:18.014570Z"
    }
   },
   "outputs": [],
   "source": [
    "import time\n",
    "\n",
    "\n",
    "def epoch_time(start_time, end_time):\n",
    "    elapsed_time = end_time - start_time\n",
    "    elapsed_mins = int(elapsed_time / 60)\n",
    "    elapsed_secs = elapsed_time - (elapsed_mins * 60)\n",
    "    return elapsed_mins, elapsed_secs, elapsed_time"
   ]
  },
  {
   "cell_type": "code",
   "execution_count": 24,
   "id": "ec76852d146ec0ab",
   "metadata": {
    "ExecuteTime": {
     "end_time": "2024-04-23T16:36:59.752442Z",
     "start_time": "2024-04-23T16:36:18.029570Z"
    }
   },
   "outputs": [
    {
     "name": "stdout",
     "output_type": "stream",
     "text": [
      "Epoch: 01 | Epoch Time: 0m 0.819s\n",
      "\tTrain Loss: 0.566 | Train Acc: 78.59%\n",
      "\t Val. Loss: 0.689 |  Val. Acc: 65.17%\n",
      "Epoch: 02 | Epoch Time: 0m 0.844s\n",
      "\tTrain Loss: 0.492 | Train Acc: 85.07%\n",
      "\t Val. Loss: 0.644 |  Val. Acc: 67.42%\n",
      "Epoch: 03 | Epoch Time: 0m 0.735s\n",
      "\tTrain Loss: 0.401 | Train Acc: 92.68%\n",
      "\t Val. Loss: 0.603 |  Val. Acc: 67.42%\n",
      "Epoch: 04 | Epoch Time: 0m 0.823s\n",
      "\tTrain Loss: 0.320 | Train Acc: 96.34%\n",
      "\t Val. Loss: 0.597 |  Val. Acc: 70.79%\n",
      "Epoch: 05 | Epoch Time: 0m 0.826s\n",
      "\tTrain Loss: 0.246 | Train Acc: 97.46%\n",
      "\t Val. Loss: 0.528 |  Val. Acc: 74.16%\n",
      "Epoch: 06 | Epoch Time: 0m 0.782s\n",
      "\tTrain Loss: 0.185 | Train Acc: 98.59%\n",
      "\t Val. Loss: 0.496 |  Val. Acc: 77.53%\n",
      "Epoch: 07 | Epoch Time: 0m 0.824s\n",
      "\tTrain Loss: 0.137 | Train Acc: 99.72%\n",
      "\t Val. Loss: 0.517 |  Val. Acc: 75.28%\n",
      "Epoch: 08 | Epoch Time: 0m 0.837s\n",
      "\tTrain Loss: 0.105 | Train Acc: 99.72%\n",
      "\t Val. Loss: 0.540 |  Val. Acc: 77.53%\n",
      "Epoch: 09 | Epoch Time: 0m 0.862s\n",
      "\tTrain Loss: 0.081 | Train Acc: 100.00%\n",
      "\t Val. Loss: 0.520 |  Val. Acc: 77.53%\n",
      "Epoch: 10 | Epoch Time: 0m 0.866s\n",
      "\tTrain Loss: 0.063 | Train Acc: 100.00%\n",
      "\t Val. Loss: 0.517 |  Val. Acc: 77.53%\n",
      "Epoch: 11 | Epoch Time: 0m 0.827s\n",
      "\tTrain Loss: 0.050 | Train Acc: 100.00%\n",
      "\t Val. Loss: 0.515 |  Val. Acc: 76.40%\n",
      "Epoch: 12 | Epoch Time: 0m 0.821s\n",
      "\tTrain Loss: 0.041 | Train Acc: 100.00%\n",
      "\t Val. Loss: 0.493 |  Val. Acc: 78.65%\n",
      "Epoch: 13 | Epoch Time: 0m 0.835s\n",
      "\tTrain Loss: 0.035 | Train Acc: 100.00%\n",
      "\t Val. Loss: 0.498 |  Val. Acc: 77.53%\n",
      "Epoch: 14 | Epoch Time: 0m 0.768s\n",
      "\tTrain Loss: 0.029 | Train Acc: 100.00%\n",
      "\t Val. Loss: 0.511 |  Val. Acc: 77.53%\n",
      "Epoch: 15 | Epoch Time: 0m 0.837s\n",
      "\tTrain Loss: 0.025 | Train Acc: 100.00%\n",
      "\t Val. Loss: 0.528 |  Val. Acc: 76.40%\n",
      "Epoch: 16 | Epoch Time: 0m 0.822s\n",
      "\tTrain Loss: 0.022 | Train Acc: 100.00%\n",
      "\t Val. Loss: 0.530 |  Val. Acc: 77.53%\n",
      "Epoch: 17 | Epoch Time: 0m 0.769s\n",
      "\tTrain Loss: 0.019 | Train Acc: 100.00%\n",
      "\t Val. Loss: 0.487 |  Val. Acc: 77.53%\n",
      "Epoch: 18 | Epoch Time: 0m 0.785s\n",
      "\tTrain Loss: 0.017 | Train Acc: 100.00%\n",
      "\t Val. Loss: 0.528 |  Val. Acc: 78.65%\n",
      "Epoch: 19 | Epoch Time: 0m 0.828s\n",
      "\tTrain Loss: 0.016 | Train Acc: 100.00%\n",
      "\t Val. Loss: 0.514 |  Val. Acc: 78.65%\n",
      "Epoch: 20 | Epoch Time: 0m 0.735s\n",
      "\tTrain Loss: 0.014 | Train Acc: 100.00%\n",
      "\t Val. Loss: 0.516 |  Val. Acc: 78.65%\n",
      "Avg Epoch Time: 0.812s\n",
      "Best Val. Loss: 0.487 | Best Val. Acc: 77.53%\n"
     ]
    }
   ],
   "source": [
    "N_EPOCHS = 20\n",
    "\n",
    "best_valid_loss = float('inf')\n",
    "\n",
    "best_valid_acc = 0\n",
    "\n",
    "elapsed_times = []\n",
    "\n",
    "for epoch in range(N_EPOCHS):\n",
    "\n",
    "    start_time = time.time()\n",
    "\n",
    "    train_loss, train_acc = train(model, train_loader, optimizer, criterion)\n",
    "    valid_loss, valid_acc = evaluate(model, test_loader, criterion)\n",
    "\n",
    "    end_time = time.time()\n",
    "\n",
    "    epoch_mins, epoch_secs, elapsed_time = epoch_time(start_time, end_time)\n",
    "    elapsed_times.append(elapsed_time)\n",
    "    if valid_loss < best_valid_loss:\n",
    "        best_valid_loss = valid_loss\n",
    "        best_valid_acc = valid_acc\n",
    "        #torch.save(model.state_dict(), '../data/final_model.pt')\n",
    "\n",
    "    if epoch % 1 == 0:\n",
    "        print(f'Epoch: {epoch + 1:02} | Epoch Time: {epoch_mins}m {epoch_secs:.3f}s')\n",
    "        print(f'\\tTrain Loss: {train_loss:.3f} | Train Acc: {train_acc * 100:.2f}%')\n",
    "        print(f'\\t Val. Loss: {valid_loss:.3f} |  Val. Acc: {valid_acc * 100:.2f}%')\n",
    "\n",
    "avg_elapsed_time = sum(elapsed_times) / len(elapsed_times)\n",
    "print(f'Avg Epoch Time: {avg_elapsed_time:.3f}s')\n",
    "print(f'Best Val. Loss: {best_valid_loss:.3f} | Best Val. Acc: {best_valid_acc * 100:.2f}%')"
   ]
  },
  {
   "cell_type": "code",
   "execution_count": 22,
   "id": "2497ed8dd5f3652f",
   "metadata": {
    "ExecuteTime": {
     "end_time": "2024-04-23T16:36:59.767442Z",
     "start_time": "2024-04-23T16:36:59.753445Z"
    }
   },
   "outputs": [],
   "source": []
  }
 ],
 "metadata": {
  "kernelspec": {
   "display_name": "Python (RAG)",
   "language": "python",
   "name": "rag"
  },
  "language_info": {
   "codemirror_mode": {
    "name": "ipython",
    "version": 3
   },
   "file_extension": ".py",
   "mimetype": "text/x-python",
   "name": "python",
   "nbconvert_exporter": "python",
   "pygments_lexer": "ipython3",
   "version": "3.10.13"
  }
 },
 "nbformat": 4,
 "nbformat_minor": 5
}
